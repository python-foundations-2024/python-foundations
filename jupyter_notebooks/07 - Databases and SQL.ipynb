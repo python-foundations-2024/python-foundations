{
 "nbformat": 4,
 "nbformat_minor": 0,
 "metadata": {
  "colab": {
   "provenance": [],
   "toc_visible": true
  },
  "kernelspec": {
   "name": "python3",
   "display_name": "Python 3"
  },
  "language_info": {
   "name": "python"
  },
  "widgets": {
   "application/vnd.jupyter.widget-state+json": {
    "90088fdbdb8b4eecab3a5d3c25c1f733": {
     "model_module": "@jupyter-widgets/controls",
     "model_name": "FloatProgressModel",
     "model_module_version": "1.5.0",
     "state": {
      "_dom_classes": [],
      "_model_module": "@jupyter-widgets/controls",
      "_model_module_version": "1.5.0",
      "_model_name": "FloatProgressModel",
      "_view_count": null,
      "_view_module": "@jupyter-widgets/controls",
      "_view_module_version": "1.5.0",
      "_view_name": "ProgressView",
      "bar_style": "",
      "description": "",
      "description_tooltip": null,
      "layout": "IPY_MODEL_108a738eb7a1469ca1cfb4ca085380d7",
      "max": 100,
      "min": 0,
      "orientation": "horizontal",
      "style": "IPY_MODEL_ef561fab49944668a83de58592293c18",
      "value": 100
     }
    },
    "108a738eb7a1469ca1cfb4ca085380d7": {
     "model_module": "@jupyter-widgets/base",
     "model_name": "LayoutModel",
     "model_module_version": "1.2.0",
     "state": {
      "_model_module": "@jupyter-widgets/base",
      "_model_module_version": "1.2.0",
      "_model_name": "LayoutModel",
      "_view_count": null,
      "_view_module": "@jupyter-widgets/base",
      "_view_module_version": "1.2.0",
      "_view_name": "LayoutView",
      "align_content": null,
      "align_items": null,
      "align_self": null,
      "border": null,
      "bottom": null,
      "display": null,
      "flex": null,
      "flex_flow": null,
      "grid_area": null,
      "grid_auto_columns": null,
      "grid_auto_flow": null,
      "grid_auto_rows": null,
      "grid_column": null,
      "grid_gap": null,
      "grid_row": null,
      "grid_template_areas": null,
      "grid_template_columns": null,
      "grid_template_rows": null,
      "height": null,
      "justify_content": null,
      "justify_items": null,
      "left": null,
      "margin": null,
      "max_height": null,
      "max_width": null,
      "min_height": null,
      "min_width": null,
      "object_fit": null,
      "object_position": null,
      "order": null,
      "overflow": null,
      "overflow_x": null,
      "overflow_y": null,
      "padding": null,
      "right": null,
      "top": null,
      "visibility": null,
      "width": "auto"
     }
    },
    "ef561fab49944668a83de58592293c18": {
     "model_module": "@jupyter-widgets/controls",
     "model_name": "ProgressStyleModel",
     "model_module_version": "1.5.0",
     "state": {
      "_model_module": "@jupyter-widgets/controls",
      "_model_module_version": "1.5.0",
      "_model_name": "ProgressStyleModel",
      "_view_count": null,
      "_view_module": "@jupyter-widgets/base",
      "_view_module_version": "1.2.0",
      "_view_name": "StyleView",
      "bar_color": "black",
      "description_width": ""
     }
    },
    "d2996ccc7d26488a92b03b5be9314ae0": {
     "model_module": "@jupyter-widgets/controls",
     "model_name": "FloatProgressModel",
     "model_module_version": "1.5.0",
     "state": {
      "_dom_classes": [],
      "_model_module": "@jupyter-widgets/controls",
      "_model_module_version": "1.5.0",
      "_model_name": "FloatProgressModel",
      "_view_count": null,
      "_view_module": "@jupyter-widgets/controls",
      "_view_module_version": "1.5.0",
      "_view_name": "ProgressView",
      "bar_style": "",
      "description": "",
      "description_tooltip": null,
      "layout": "IPY_MODEL_1ce91654791843f5ae37486e65339501",
      "max": 100,
      "min": 0,
      "orientation": "horizontal",
      "style": "IPY_MODEL_965b5f4f64bf4a508fba3a309fcdf2c4",
      "value": 100
     }
    },
    "1ce91654791843f5ae37486e65339501": {
     "model_module": "@jupyter-widgets/base",
     "model_name": "LayoutModel",
     "model_module_version": "1.2.0",
     "state": {
      "_model_module": "@jupyter-widgets/base",
      "_model_module_version": "1.2.0",
      "_model_name": "LayoutModel",
      "_view_count": null,
      "_view_module": "@jupyter-widgets/base",
      "_view_module_version": "1.2.0",
      "_view_name": "LayoutView",
      "align_content": null,
      "align_items": null,
      "align_self": null,
      "border": null,
      "bottom": null,
      "display": null,
      "flex": null,
      "flex_flow": null,
      "grid_area": null,
      "grid_auto_columns": null,
      "grid_auto_flow": null,
      "grid_auto_rows": null,
      "grid_column": null,
      "grid_gap": null,
      "grid_row": null,
      "grid_template_areas": null,
      "grid_template_columns": null,
      "grid_template_rows": null,
      "height": null,
      "justify_content": null,
      "justify_items": null,
      "left": null,
      "margin": null,
      "max_height": null,
      "max_width": null,
      "min_height": null,
      "min_width": null,
      "object_fit": null,
      "object_position": null,
      "order": null,
      "overflow": null,
      "overflow_x": null,
      "overflow_y": null,
      "padding": null,
      "right": null,
      "top": null,
      "visibility": null,
      "width": "auto"
     }
    },
    "965b5f4f64bf4a508fba3a309fcdf2c4": {
     "model_module": "@jupyter-widgets/controls",
     "model_name": "ProgressStyleModel",
     "model_module_version": "1.5.0",
     "state": {
      "_model_module": "@jupyter-widgets/controls",
      "_model_module_version": "1.5.0",
      "_model_name": "ProgressStyleModel",
      "_view_count": null,
      "_view_module": "@jupyter-widgets/base",
      "_view_module_version": "1.2.0",
      "_view_name": "StyleView",
      "bar_color": "black",
      "description_width": ""
     }
    },
    "6b3e6a531d4f45a8b98c5ec59a3d456f": {
     "model_module": "@jupyter-widgets/controls",
     "model_name": "FloatProgressModel",
     "model_module_version": "1.5.0",
     "state": {
      "_dom_classes": [],
      "_model_module": "@jupyter-widgets/controls",
      "_model_module_version": "1.5.0",
      "_model_name": "FloatProgressModel",
      "_view_count": null,
      "_view_module": "@jupyter-widgets/controls",
      "_view_module_version": "1.5.0",
      "_view_name": "ProgressView",
      "bar_style": "",
      "description": "",
      "description_tooltip": null,
      "layout": "IPY_MODEL_28891bda216341efb97816342c59efc8",
      "max": 100,
      "min": 0,
      "orientation": "horizontal",
      "style": "IPY_MODEL_554e6af023974faeb639c2a1ddd6b624",
      "value": 100
     }
    },
    "28891bda216341efb97816342c59efc8": {
     "model_module": "@jupyter-widgets/base",
     "model_name": "LayoutModel",
     "model_module_version": "1.2.0",
     "state": {
      "_model_module": "@jupyter-widgets/base",
      "_model_module_version": "1.2.0",
      "_model_name": "LayoutModel",
      "_view_count": null,
      "_view_module": "@jupyter-widgets/base",
      "_view_module_version": "1.2.0",
      "_view_name": "LayoutView",
      "align_content": null,
      "align_items": null,
      "align_self": null,
      "border": null,
      "bottom": null,
      "display": null,
      "flex": null,
      "flex_flow": null,
      "grid_area": null,
      "grid_auto_columns": null,
      "grid_auto_flow": null,
      "grid_auto_rows": null,
      "grid_column": null,
      "grid_gap": null,
      "grid_row": null,
      "grid_template_areas": null,
      "grid_template_columns": null,
      "grid_template_rows": null,
      "height": null,
      "justify_content": null,
      "justify_items": null,
      "left": null,
      "margin": null,
      "max_height": null,
      "max_width": null,
      "min_height": null,
      "min_width": null,
      "object_fit": null,
      "object_position": null,
      "order": null,
      "overflow": null,
      "overflow_x": null,
      "overflow_y": null,
      "padding": null,
      "right": null,
      "top": null,
      "visibility": null,
      "width": "auto"
     }
    },
    "554e6af023974faeb639c2a1ddd6b624": {
     "model_module": "@jupyter-widgets/controls",
     "model_name": "ProgressStyleModel",
     "model_module_version": "1.5.0",
     "state": {
      "_model_module": "@jupyter-widgets/controls",
      "_model_module_version": "1.5.0",
      "_model_name": "ProgressStyleModel",
      "_view_count": null,
      "_view_module": "@jupyter-widgets/base",
      "_view_module_version": "1.2.0",
      "_view_name": "StyleView",
      "bar_color": "black",
      "description_width": ""
     }
    },
    "be6dc25f9b4b4da99ed5f74a3344a29b": {
     "model_module": "@jupyter-widgets/controls",
     "model_name": "FloatProgressModel",
     "model_module_version": "1.5.0",
     "state": {
      "_dom_classes": [],
      "_model_module": "@jupyter-widgets/controls",
      "_model_module_version": "1.5.0",
      "_model_name": "FloatProgressModel",
      "_view_count": null,
      "_view_module": "@jupyter-widgets/controls",
      "_view_module_version": "1.5.0",
      "_view_name": "ProgressView",
      "bar_style": "",
      "description": "",
      "description_tooltip": null,
      "layout": "IPY_MODEL_e18584dcf8b34a2dae7fdab7cc5edf2c",
      "max": 100,
      "min": 0,
      "orientation": "horizontal",
      "style": "IPY_MODEL_e24b0e7cedcd43799ec87d0b30d26ea3",
      "value": 100
     }
    },
    "e18584dcf8b34a2dae7fdab7cc5edf2c": {
     "model_module": "@jupyter-widgets/base",
     "model_name": "LayoutModel",
     "model_module_version": "1.2.0",
     "state": {
      "_model_module": "@jupyter-widgets/base",
      "_model_module_version": "1.2.0",
      "_model_name": "LayoutModel",
      "_view_count": null,
      "_view_module": "@jupyter-widgets/base",
      "_view_module_version": "1.2.0",
      "_view_name": "LayoutView",
      "align_content": null,
      "align_items": null,
      "align_self": null,
      "border": null,
      "bottom": null,
      "display": null,
      "flex": null,
      "flex_flow": null,
      "grid_area": null,
      "grid_auto_columns": null,
      "grid_auto_flow": null,
      "grid_auto_rows": null,
      "grid_column": null,
      "grid_gap": null,
      "grid_row": null,
      "grid_template_areas": null,
      "grid_template_columns": null,
      "grid_template_rows": null,
      "height": null,
      "justify_content": null,
      "justify_items": null,
      "left": null,
      "margin": null,
      "max_height": null,
      "max_width": null,
      "min_height": null,
      "min_width": null,
      "object_fit": null,
      "object_position": null,
      "order": null,
      "overflow": null,
      "overflow_x": null,
      "overflow_y": null,
      "padding": null,
      "right": null,
      "top": null,
      "visibility": null,
      "width": "auto"
     }
    },
    "e24b0e7cedcd43799ec87d0b30d26ea3": {
     "model_module": "@jupyter-widgets/controls",
     "model_name": "ProgressStyleModel",
     "model_module_version": "1.5.0",
     "state": {
      "_model_module": "@jupyter-widgets/controls",
      "_model_module_version": "1.5.0",
      "_model_name": "ProgressStyleModel",
      "_view_count": null,
      "_view_module": "@jupyter-widgets/base",
      "_view_module_version": "1.2.0",
      "_view_name": "StyleView",
      "bar_color": "black",
      "description_width": ""
     }
    }
   }
  }
 },
 "cells": [
  {
   "cell_type": "markdown",
   "source": [
    "# Databases\n",
    "\n",
    "Databases allow you to **store data** persistently. This means your data remains available even after your application shuts down."
   ],
   "metadata": {
    "id": "S-naJhMl_SbD"
   }
  },
  {
   "cell_type": "markdown",
   "source": [
    "## Types of databases\n",
    "- **Relational** Databases (RDBMS): Store data in structured tables with rows and columns, using SQL for data manipulation (e.g.,[MySQL](https://www.mysql.com/), [PostgreSQL](https://www.postgresql.org/), [SQLite](https://www.sqlite.org/index.html)).\n",
    "\n",
    "- **NoSQL** Databases: Designed for unstructured or semi-structured data, offering flexibility for scalability and various data models (e.g., [MongoDB](https://www.mongodb.com/es), [Cassandra](https://cassandra.apache.org/_/index.html)).\n",
    "\n",
    "- **Vector** Databases: Vector databases are specialized systems designed to store, index, and search high-dimensional vector data. They are particularly useful in applications that involve machine learning, artificial intelligence, and natural language processing (NLP)\n",
    "(e.g., [Pinecone](https://www.pinecone.io/), [Vespa](https://vespa.ai/))\n",
    "\n",
    "- **Graph** Databases: Use graph structures with nodes, edges, and properties to represent and store relationships between data points (e.g., [Neo4j](https://neo4j.com/), [ArangoDB](https://arangodb.com/)).\n",
    "\n",
    "- **Document-Oriented** Databases: Store data in flexible, hierarchical formats such as JSON or BSON, ideal for semi-structured data (e.g., [MongoDB](https://www.mongodb.com/), [CouchDB](https://couchdb.apache.org/).\n",
    "\n",
    "- **Columnar** Databases: Store data in columns rather than rows, optimizing read-heavy workloads, typically used for analytics (e.g., [Exasol](https://www.exasol.com/), [Clickhouse](https://clickhouse.com/), [Amazon Redshift](https://aws.amazon.com/redshift), [Google Big Query](https://cloud.google.com/bigquery), [DuckDB](https://duckdb.org/)).\n",
    "\n",
    "- **Time-Series** Databases: Specialize in handling time-stamped data, often used for monitoring and IoT applications (e.g., [InfluxDB](https://www.influxdata.com/)).\n"
   ],
   "metadata": {
    "id": "d7IZd1X0_XVw"
   }
  },
  {
   "cell_type": "markdown",
   "source": [
    "## Characteristics of Relational databases\n",
    "\n",
    "\n",
    "- In relational databases we can perform complex searches and data manipulations with **SQL** (Structured Query Language).\n",
    "\n",
    "- **ACID** transactions are a set of properties that guarantee the reliable processing of database transactions. These properties are crucial for ensuring that database systems handle data in a consistent, reliable, and fault-tolerant manner, especially in environments that require strict data integrity\n",
    "\n",
    "  - Atomicity: Either the entire transaction is completed successfully, or none of it is applied (it is rolled back).\n",
    "\n",
    "  - Consistency: The database must transition from one valid state to another, maintaining all predefined rules, constraints, and relationships.\n",
    "\n",
    "  - Isolation: Multiple transactions running at the same time do not interfere with each other. This often involves using locks to prevent one transaction from reading data that is being modified by another until the changes are committed.\n",
    "\n",
    "  - Durability: Once a transaction is committed, it will be permanently recorded, and the changes will persist even in the event of a system failure.\n",
    "\n",
    "\n"
   ],
   "metadata": {
    "id": "W2y9bRXDYWgv"
   }
  },
  {
   "cell_type": "markdown",
   "source": [
    "## Connecting Python to SQLite"
   ],
   "metadata": {
    "id": "iaSBbDsL7iW1"
   }
  },
  {
   "cell_type": "markdown",
   "source": [
    "\n",
    "[SQLite](https://www.sqlite.org/index.html) is a lightweight, serverless database engine that requires no configuration or external setup.\n",
    "\n",
    "To get started, let's create a database and a table.\n",
    "\n",
    "In your Google Colab notebook, first import the `sqlite3` module, then establish a connection to the database.\n",
    "\n",
    "For this example, we'll use an in-memory database, which is denoted by `:memory:`."
   ],
   "metadata": {
    "id": "0aiPk6co7X__"
   }
  },
  {
   "cell_type": "code",
   "source": [
    "import sqlite3\n",
    "\n",
    "conn = sqlite3.connect(':memory:')"
   ],
   "metadata": {
    "id": "atIT2D0G7wVK"
   },
   "outputs": [],
   "execution_count": null
  },
  {
   "cell_type": "markdown",
   "source": [
    "Once the connection to the database is established, we can create a table.\n",
    "\n",
    "For this example, let's create a table called transactions with five columns: date, id, from_account, to_account, currency, and amount.\n",
    "\n"
   ],
   "metadata": {
    "id": "yXz-rZQb71_N"
   }
  },
  {
   "cell_type": "code",
   "source": [
    "# Execute a SQL command to create a new table\n",
    "cursor = conn.cursor()\n",
    "# Define the SQL command to create the table\n",
    "\n",
    "create_table_query = \"\"\"\n",
    "CREATE TABLE transactions (\n",
    "    date TEXT,\n",
    "    id INTEGER PRIMARY KEY AUTOINCREMENT,\n",
    "    from_account TEXT,\n",
    "    to_account TEXT,\n",
    "    currency TEXT,\n",
    "    amount REAL\n",
    ")\n",
    "\"\"\"\n",
    "# Execute the SQL command\n",
    "cursor.execute(create_table_query)\n",
    "\n",
    "# Commit the changes to the database\n",
    "conn.commit()\n",
    "\n",
    "# Close the connection (optional but good practice)\n",
    "# conn.close()"
   ],
   "metadata": {
    "id": "u-qULclr73NH"
   },
   "outputs": [],
   "execution_count": null
  },
  {
   "cell_type": "markdown",
   "source": [
    "We can insert data into our transactions table using standard SQL `INSERT` syntax.\n",
    "\n",
    "Then, we `commit` the transaction to save changes to the database."
   ],
   "metadata": {
    "id": "dJKmbDm_75Pu"
   }
  },
  {
   "cell_type": "code",
   "source": [
    "# Define the data to insert\n",
    "transactions_data = [\n",
    "    ('2024-11-15', 'AccountA', 'AccountB', 'USD', 100.00),\n",
    "    ('2024-11-16', 'AccountC', 'AccountA', 'EUR', 50.50),\n",
    "    ('2024-11-17', 'AccountB', 'AccountD', 'GBP', 75.25),\n",
    "]\n",
    "\n",
    "# Create a cursor object to execute SQL commands\n",
    "cursor = conn.cursor()\n",
    "\n",
    "# Define the SQL command to insert data\n",
    "insert_query = \"INSERT INTO transactions (date, from_account, to_account, currency, amount) VALUES (?, ?, ?, ?, ?)\"\n",
    "\n",
    "# Execute the SQL command for each transaction\n",
    "for transaction in transactions_data:\n",
    "    cursor.execute(insert_query, transaction)\n",
    "\n",
    "# Commit the changes to the database\n",
    "conn.commit()\n"
   ],
   "metadata": {
    "id": "x76MNYwu9ms3"
   },
   "outputs": [],
   "execution_count": null
  },
  {
   "cell_type": "markdown",
   "source": [
    "Now that we have a populated database, we can start running SQL queries on it. Let's select all `BUY` transactions from our stocks table and print the output by fetching all the results from the execution."
   ],
   "metadata": {
    "id": "1C_HRHV99nRq"
   }
  },
  {
   "cell_type": "code",
   "source": [
    "# Define the SQL SELECT query\n",
    "select_query = \"SELECT * FROM transactions\"  # Select all columns and rows\n",
    "\n",
    "# Execute the query\n",
    "cursor.execute(select_query)\n",
    "\n",
    "# Fetch all results\n",
    "results = cursor.fetchall()\n",
    "\n",
    "# Print the results\n",
    "for row in results:\n",
    "    print(row)\n"
   ],
   "metadata": {
    "colab": {
     "base_uri": "https://localhost:8080/"
    },
    "id": "1-nrlbcM7_jb",
    "outputId": "0a103840-8349-40b9-9cfc-6bd03671955f"
   },
   "outputs": [],
   "execution_count": null
  },
  {
   "cell_type": "markdown",
   "source": [
    "Magic commands are a feature of IPython that provides a set of commands to solve common problems while working with data. The SQL magic command is one such command that lets you write SQL queries in your notebook.\n",
    "\n",
    "First, we need to install the ipython-sql extension. This can be done directly in a Colab cell:"
   ],
   "metadata": {
    "id": "YnIHeSjK8EAR"
   }
  },
  {
   "cell_type": "code",
   "source": [
    "# Install ipython-sql\n",
    "!pip install ipython-sql"
   ],
   "metadata": {
    "colab": {
     "base_uri": "https://localhost:8080/"
    },
    "id": "ABtdFBTH8HCQ",
    "outputId": "76d2bdce-9dd7-4056-f324-444d99c96f91"
   },
   "outputs": [],
   "execution_count": null
  },
  {
   "cell_type": "markdown",
   "source": [
    "Next, load the SQL extension and create a SQLite database:"
   ],
   "metadata": {
    "id": "jZAqufby8JxO"
   }
  },
  {
   "cell_type": "code",
   "source": [
    "# Load the SQL extension\n",
    "%load_ext sql\n",
    "\n",
    "# Create a SQLite database\n",
    "%sql sqlite:///:memory:"
   ],
   "metadata": {
    "id": "b0RrqThA8Pr7"
   },
   "outputs": [],
   "execution_count": null
  },
  {
   "cell_type": "markdown",
   "source": [
    "Now you can write SQL queries using the `%sql` or `%%sql` magic command.\n",
    "\n",
    "% is for single-line commands, and %% is for multi-line commands that run the whole cell as SQL.\n",
    "\n",
    "Here's an example of executing SQL commands to create a table, insert data, and run a query using %%sql."
   ],
   "metadata": {
    "id": "WcU5Xv6b8TAA"
   }
  },
  {
   "cell_type": "code",
   "source": [
    "%%sql\n",
    "CREATE TABLE transactions2 (\n",
    "    date TEXT,\n",
    "    id INTEGER PRIMARY KEY AUTOINCREMENT,\n",
    "    from_account TEXT,\n",
    "    to_account TEXT,\n",
    "    currency TEXT,\n",
    "    amount REAL\n",
    ");"
   ],
   "metadata": {
    "colab": {
     "base_uri": "https://localhost:8080/"
    },
    "id": "kpGmA_nB8V11",
    "outputId": "b1c7cca9-a6d7-44a8-d7f4-9cc1e06f1a3e"
   },
   "outputs": [],
   "execution_count": null
  },
  {
   "cell_type": "markdown",
   "source": [],
   "metadata": {
    "id": "aWOjAEgQ8LW9"
   }
  },
  {
   "cell_type": "markdown",
   "source": [
    "## Connecting Python to DuckDB ![DuckDB](https://duckdb.org/images/logo-dl/DuckDB_Logo-horizontal.svg)\n",
    "\n",
    "DuckDB is a in-process SQL database for analytical workloads that stores the data in columns.\n",
    "\n",
    "- **Simple**: SQLite is the [most widely deployed DBMS](https://www.sqlite.org/mostdeployed.html), and DuckDB embraces its simplicity and embedded operation.\n",
    "- **Portable**: There’s no separate DBMS server to install or maintain; DuckDB runs embedded within the host process for faster data transfer.\n",
    "- **Optimized for Analytics**: DuckDB is designed for OLAP workloads, enabling efficient processing of complex queries and large datasets.\n",
    "- **Free**: DuckDB is open-source, the entire source code is freely available on GitHub.\n",
    "\n",
    "Let's use it with Python\n",
    "\n",
    "First we need to make sure we are using the latest version."
   ],
   "metadata": {
    "id": "EwUWOeg4D3yW"
   }
  },
  {
   "cell_type": "markdown",
   "source": [
    "**Installation**\n",
    "We need to make sure we are using the latest version of DuckDB."
   ],
   "metadata": {
    "id": "wE9WrEvmTssF"
   }
  },
  {
   "cell_type": "code",
   "source": [
    "!pip uninstall duckdb\n",
    "!pip install duckdb --pre\n"
   ],
   "metadata": {
    "colab": {
     "base_uri": "https://localhost:8080/"
    },
    "id": "Zo3L0JuUG7R2",
    "outputId": "e9ab2e25-eea3-4862-c367-f8e4cf3c2ea5"
   },
   "outputs": [],
   "execution_count": null
  },
  {
   "cell_type": "markdown",
   "source": [
    "**Import** the DuckDB library with `import duckdb`, making its functions and classes available for use in your Python script.\n",
    "\n",
    "**Establish a connection** to a DuckDB database. The `connect()` function creates an in-memory database by default, which means you can start running SQL queries right away without needing to set up any external database server.\n"
   ],
   "metadata": {
    "id": "iYGg7U_oK59v"
   }
  },
  {
   "cell_type": "code",
   "source": [
    "import duckdb\n",
    "\n",
    "con = duckdb.connect()"
   ],
   "metadata": {
    "id": "cZXhs8DeK9Ld"
   },
   "outputs": [],
   "execution_count": null
  },
  {
   "cell_type": "markdown",
   "source": [
    "\n",
    "**Reading the data**\n",
    "\n",
    "For the class we are going to be using a couple of datasets from internet.\n",
    "\n",
    "1. [Weather in NYC](https://www.kaggle.com/datasets/ecboxer/nyc-weather) (380 KB)\n",
    "\n",
    "\n",
    "2. Yellow Tripdata from [NYC.gov](https://www.nyc.gov/site/tlc/about/tlc-trip-record-data.page) (45 MB)\n",
    "\n",
    "> A **Parquet** file is a type of data file designed for storing large amounts of data in a way that's efficient for processing and storage. It's like a smart container that organizes data in columns rather than rows, which helps with faster reading and better compression.\n",
    "This makes it great for big data applications where you need to analyze and retrieve data quickly.\n",
    "\n",
    "> The `!wget` command in Google Colab is used to download files from the internet directly into your Colab environment.\n",
    "\n",
    "\n",
    "\n"
   ],
   "metadata": {
    "id": "XHvg5U6QHGKL"
   }
  },
  {
   "cell_type": "code",
   "source": [
    "!wget \"https://d37ci6vzurychx.cloudfront.net/trip-data/yellow_tripdata_2016-01.parquet\"\n",
    "!wget \"https://pdet.github.io/assets/data/weather.csv\""
   ],
   "metadata": {
    "colab": {
     "base_uri": "https://localhost:8080/"
    },
    "id": "TVyVdcMfHMSp",
    "outputId": "5b4fd086-2da5-454d-9aeb-ba304fbeeff8"
   },
   "outputs": [],
   "execution_count": null
  },
  {
   "cell_type": "markdown",
   "source": [
    "Now we are going to explore the [Relational API](https://duckdb.org/docs/api/python/relational_api) of DuckDB exploring the data in the files.\n",
    "\n",
    "The relations can be seen as symbolic representations of SQL queries. They do not hold any data – and nothing is executed – until a method that triggers execution is called.\n",
    "\n",
    "We can construct relation objects of external data using a especific function according to the type of datasource like `from_arrow`, `from_df`, `read_csv`, `read_json`, `read_parquet`.\n",
    "\n",
    " More info about [data ingestion](https://duckdb.org/docs/api/python/data_ingestion)"
   ],
   "metadata": {
    "id": "8E05Gky8LlDm"
   }
  },
  {
   "cell_type": "code",
   "source": [
    "weather = con.read_csv('weather.csv')\n",
    "weather_df = con.execute(\"SELECT * FROM weather\").fetchdf()\n",
    "print(weather)\n",
    "print(weather.columns)\n",
    "weather_df"
   ],
   "metadata": {
    "colab": {
     "base_uri": "https://localhost:8080/",
     "height": 1000
    },
    "id": "pwni_FrkLx48",
    "outputId": "215f9cf5-640b-47cb-f2ed-65bf5ece3407"
   },
   "outputs": [],
   "execution_count": null
  },
  {
   "cell_type": "code",
   "source": [
    "weather_df.dtypes\n"
   ],
   "metadata": {
    "colab": {
     "base_uri": "https://localhost:8080/",
     "height": 303
    },
    "id": "PaUiyiJjXfG5",
    "outputId": "da53d1dd-39d9-4a2b-9f89-bc1b8819708b"
   },
   "outputs": [],
   "execution_count": null
  },
  {
   "cell_type": "code",
   "source": [
    "res = con.execute(\"CREATE OR REPLACE TABLE taxi as SELECT * FROM 'yellow_tripdata_2016-01.parquet'\").fetchall()\n",
    "taxi_df = con.execute(\"SELECT * FROM taxi\").fetchdf()\n",
    "taxi_df\n",
    "taxi_df.describe()"
   ],
   "metadata": {
    "colab": {
     "base_uri": "https://localhost:8080/",
     "height": 416,
     "referenced_widgets": [
      "90088fdbdb8b4eecab3a5d3c25c1f733",
      "108a738eb7a1469ca1cfb4ca085380d7",
      "ef561fab49944668a83de58592293c18",
      "d2996ccc7d26488a92b03b5be9314ae0",
      "1ce91654791843f5ae37486e65339501",
      "965b5f4f64bf4a508fba3a309fcdf2c4"
     ]
    },
    "id": "bxC0o2erWEhC",
    "outputId": "b44daec8-daea-461f-b7fc-344fcd35cde5"
   },
   "outputs": [],
   "execution_count": null
  },
  {
   "cell_type": "markdown",
   "source": [
    "**Querying the data**\n",
    "Now we are going to run queries on the tables that we've created."
   ],
   "metadata": {
    "id": "8sFUY1eCW_80"
   }
  },
  {
   "cell_type": "code",
   "source": [
    "import pandas as pd\n",
    "sql = '''select passenger_count, avg(tip_amount) as tip_amount from taxi group by all'''\n",
    "# Execute with SQL and pandas\n",
    "result_df = con.execute(sql).df()\n",
    "print(result_df)\n",
    "# Use a  Dataframe for plotting\n",
    "result_df.plot.bar(x=\"passenger_count\", y=\"tip_amount\")\n",
    "\n"
   ],
   "metadata": {
    "colab": {
     "base_uri": "https://localhost:8080/",
     "height": 659
    },
    "id": "o_bZN0foXXQr",
    "outputId": "2e3a3208-3708-447d-b660-5159613f161d"
   },
   "outputs": [],
   "execution_count": null
  },
  {
   "cell_type": "markdown",
   "source": [
    "What is the percentage of times there is no tip given?"
   ],
   "metadata": {
    "id": "oHovUyO_X-YF"
   }
  },
  {
   "cell_type": "code",
   "source": [
    "sql = \"\"\" select case when tip_amount = 0 then 'no tip' else 'tip' end as gives_tip\n",
    "                        , avg(tip_amount) as tip_amount\n",
    "                        , count(*) as travels\n",
    "                        from taxi\n",
    "                        group by 1 \"\"\"\n",
    "\n",
    "result_df = con.execute(sql).df()\n",
    "print(result_df)"
   ],
   "metadata": {
    "colab": {
     "base_uri": "https://localhost:8080/"
    },
    "id": "njoe71IlYFJN",
    "outputId": "b58efcbb-9528-4bf9-c240-b4f379498f00"
   },
   "outputs": [],
   "execution_count": null
  },
  {
   "cell_type": "code",
   "source": [
    "sql = \"\"\" with subquery as (select case when tip_amount = 0 then 'no tip' else 'tip' end as gives_tip\n",
    "                        , avg(tip_amount) as tip_amount\n",
    "                        , count(*) as travels\n",
    "                        from taxi\n",
    "                        group by 1\n",
    "            )\n",
    "            select gives_tip\n",
    "                  , tip_amount as avg_tip_amount\n",
    "                  , travels\n",
    "                  , travels / sum(travels) over() as rate_travels\n",
    "      from subquery\n",
    "      \"\"\"\n",
    "result_df = con.execute(sql).df()\n",
    "print(result_df)"
   ],
   "metadata": {
    "colab": {
     "base_uri": "https://localhost:8080/"
    },
    "id": "WQvKxf9NYifC",
    "outputId": "7a0cbca8-0b03-47f7-ebbc-4428e31e6bb7"
   },
   "outputs": [],
   "execution_count": null
  },
  {
   "cell_type": "markdown",
   "source": [
    "Does the distance of the trip influence the tip amount? How do short trips (less than 5 miles) compare to long trips (greater than 10 miles)?"
   ],
   "metadata": {
    "id": "nuCea56XYsDx"
   }
  },
  {
   "cell_type": "code",
   "source": [
    "\n",
    "res = con.execute(\"CREATE OR REPLACE TABLE taxi_clean as SELECT * FROM 'yellow_tripdata_2016-01.parquet' where passenger_count>0 and passenger_count<=5\").fetchall()\n",
    "print (res)\n",
    "\n",
    "sql = \"\"\" select passenger_count, count(*) as rides from taxi_clean group by 1\"\"\"\n",
    "result_df = con.execute(sql).df()\n",
    "print(result_df)\n",
    "\n",
    "sql = ''' select case when trip_distance <5 then 'short'\n",
    "            when trip_distance < 10 then 'medium'\n",
    "            when trip_distance >= 10 then 'high'\n",
    "            end as trip_distance_type\n",
    "          , avg(tip_amount/passenger_count) as avg_tip\n",
    "          , count(*)\n",
    "          from taxi_clean\n",
    "          group by 1'''\n",
    "\n",
    "\n",
    "# Use a  Dataframe for plotting\n",
    "result_df = con.execute(sql).df()\n",
    "print(result_df)"
   ],
   "metadata": {
    "colab": {
     "base_uri": "https://localhost:8080/",
     "height": 246,
     "referenced_widgets": [
      "6b3e6a531d4f45a8b98c5ec59a3d456f",
      "28891bda216341efb97816342c59efc8",
      "554e6af023974faeb639c2a1ddd6b624"
     ]
    },
    "id": "ASDCJaLyYxEP",
    "outputId": "9fcfccc1-4495-408d-8837-9c7cb2280624"
   },
   "outputs": [],
   "execution_count": null
  },
  {
   "cell_type": "markdown",
   "source": [
    "How does the weather affect tip amounts? Are tips higher in colder weather? What about when it rains?"
   ],
   "metadata": {
    "id": "ojYV8lUccjio"
   }
  },
  {
   "cell_type": "code",
   "source": [
    "sql = ''' select snow_fall\n",
    "          , avg(tip_amount/passenger_count) as avg_tip\n",
    "          from taxi join weather on taxi.tpep_pickup_datetime = weather.date\n",
    "          group by 1'''\n",
    "\n",
    "\n",
    "result_df = con.execute(sql).df()\n",
    "print(result_df)"
   ],
   "metadata": {
    "colab": {
     "base_uri": "https://localhost:8080/"
    },
    "id": "dAN8X_LwckKI",
    "outputId": "3beadbe0-9921-4d4b-dd04-e7af90d875e8"
   },
   "outputs": [],
   "execution_count": null
  },
  {
   "cell_type": "markdown",
   "source": [
    "Linear Regression\n",
    "\n",
    "Linear regression is a statistical method used to model the relationship between a dependent variable and one or more independent variables by fitting a linear equation to observed data\n",
    "\n",
    "This SQL query implements a linear regression model to predict the fare amount (fare_amount) based on the trip distance (trip_distance) using a formula for ordinary least squares (OLS) regression.\n",
    "\n",
    "beta = (Σ(xᵢ * yᵢ) - (Σxᵢ * Σyᵢ) / N) / (Σ(xᵢ²) - (Σxᵢ)² / N)\n",
    "\n",
    "\n",
    "The query computes the slope of the regression line (beta) using the formula for the slope in simple linear regression :\n",
    "\n",
    "`fare_amount = alpha + beta * trip_distance`\n"
   ],
   "metadata": {
    "id": "VksbfhsLbPNo"
   }
  },
  {
   "cell_type": "code",
   "source": [
    "linear_regression_sql = \"\"\"\n",
    "  SELECT\n",
    "      (SUM(trip_distance * fare_amount) - SUM(trip_distance) * SUM(fare_amount) / COUNT(*)) /\n",
    "      (SUM(trip_distance * trip_distance) - SUM(trip_distance) * SUM(trip_distance) / COUNT(*)) AS beta,\n",
    "      AVG(fare_amount) AS avg_fare_amount,\n",
    "      AVG(trip_distance) AS avg_trip_distance\n",
    "  FROM\n",
    "      'yellow_tripdata_2016-01.parquet',\n",
    "      (\n",
    "          SELECT\n",
    "              AVG(fare_amount) + 3 * STDDEV_SAMP(fare_amount) as max_fare,\n",
    "              AVG(trip_distance) + 3 * STDDEV_SAMP(trip_distance) as max_distance\n",
    "          FROM 'yellow_tripdata_2016-01.parquet'\n",
    "      ) AS sub\n",
    "  WHERE\n",
    "      fare_amount > 0 AND\n",
    "      fare_amount < sub.max_fare AND\n",
    "      trip_distance > 0 AND\n",
    "      trip_distance < sub.max_distance\n",
    "  \"\"\"\n",
    "res = con.execute(linear_regression_sql).fetchone()\n",
    "\n"
   ],
   "metadata": {
    "colab": {
     "base_uri": "https://localhost:8080/",
     "height": 49,
     "referenced_widgets": [
      "be6dc25f9b4b4da99ed5f74a3344a29b",
      "e18584dcf8b34a2dae7fdab7cc5edf2c",
      "e24b0e7cedcd43799ec87d0b30d26ea3"
     ]
    },
    "id": "F_2U6qVhbVu0",
    "outputId": "103fe03d-41c4-4ea6-c041-9ac1ac579bea"
   },
   "outputs": [],
   "execution_count": null
  },
  {
   "cell_type": "code",
   "source": [
    "!wget \"https://d37ci6vzurychx.cloudfront.net/trip-data/yellow_tripdata_2016-02.parquet\""
   ],
   "metadata": {
    "colab": {
     "base_uri": "https://localhost:8080/"
    },
    "id": "Er-vqbRob4Um",
    "outputId": "54701852-f05a-4de9-f8b6-61b75f3d1f4c"
   },
   "outputs": [],
   "execution_count": null
  },
  {
   "cell_type": "code",
   "source": [
    "beta, avg_fare_amount, avg_trip_distance = res\n",
    "alpha = avg_fare_amount - beta * avg_trip_distance\n",
    "\n",
    "duck_sample = \"SELECT trip_distance,fare_amount FROM 'yellow_tripdata_2016-02.parquet' ORDER BY RANDOM() LIMIT 1000;\"\n",
    "\n",
    "# Get a pandas dataframe from duckdb\n",
    "duck_df_sample = con.execute(duck_sample).fetchdf()\n",
    "\n",
    "duck_df_sample[\"price\"] = alpha + beta * duck_df_sample[\"trip_distance\"]\n",
    "ax = duck_df_sample.plot.scatter(x=\"trip_distance\", y=\"fare_amount\")\n",
    "duck_df_sample.plot.line(x=\"trip_distance\", y=\"price\", ax=ax, color=\"red\")\n"
   ],
   "metadata": {
    "colab": {
     "base_uri": "https://localhost:8080/",
     "height": 468
    },
    "id": "3SVcGsfabn5f",
    "outputId": "478359b5-955e-4449-e594-43dfa1a012df"
   },
   "outputs": [],
   "execution_count": null
  }
 ]
}
