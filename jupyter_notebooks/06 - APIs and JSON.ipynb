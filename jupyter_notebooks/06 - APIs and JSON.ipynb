{
 "nbformat": 4,
 "nbformat_minor": 0,
 "metadata": {
  "colab": {
   "provenance": [],
   "toc_visible": true
  },
  "kernelspec": {
   "name": "python3",
   "display_name": "Python 3"
  },
  "language_info": {
   "name": "python"
  }
 },
 "cells": [
  {
   "cell_type": "markdown",
   "source": [
    "#APIs\n",
    "\n",
    "APIs (Application Programming Interfaces) play a crucial role in Python programming by enabling developers to interact with external services and data sources.\n",
    "\n",
    "Through APIs, Python applications can request and manipulate data from various platforms, such as social media, financial services, and cloud storage, enhancing functionality without needing to build everything from scratch.\n",
    "\n",
    "Python’s simplicity and the availability of libraries like `requests` and `flask` make it easy to consume **RESTful APIs** or build your own.\n",
    "\n",
    "In the following sections, we will explore how networks function and gain a clearer understanding of the HTTP messages used in API calls."
   ],
   "metadata": {
    "id": "H3v9P22NHl6d"
   }
  },
  {
   "cell_type": "markdown",
   "source": [
    "## Data Transfer 🚀\n",
    "When communicating between computers, data must traverse several intermediary points in the network. 🖥️➡️🖥️ This can include devices like routers and modems, which facilitate the exchange of information between the two machines.\n",
    "\n",
    "The data we want to send undergoes several transformations before reaching its destination, starting from our code. This is where layers of abstraction come into play, representing the same data in different ways. Let's explore these layers:\n",
    "\n",
    "1. **Physical Layer** (Low Level) 🔌\n",
    "\n",
    "  In this layer, data is represented as ones and zeros in binary format. It is the foundation of all digital communication.\n",
    "\n",
    "2. **Network/Transport Layer** (Medium Level) 📦\n",
    "\n",
    "  Here, data is grouped into packets. The ones and zeros from the lower layers are organized according to predefined rules to form these packets. A key protocol in this layer is TCP/IP (Transmission Control Protocol/Internet Protocol), which establishes the rules for how packets are transmitted between computers. The router is the hero of this layer! 🦸‍♂️\n",
    "\n",
    "3. **Application Layer** (High Level) 📊\n",
    "\n",
    "  In the highest layer of abstraction, data is simply that: data. Here, it resembles variables in a programming language like Python. Some communication protocols operating at this level include HTTP (Hypertext Transfer Protocol). Many services we use daily, such as email and the World Wide Web (www), function at this layer. 🌐✉️\n",
    "\n",
    "Understanding these layers will help us develop more effective applications and optimize data transfer in our Python projects. Let’s dive into the code! 🐍💻"
   ],
   "metadata": {
    "id": "c_beIlY6CDKG"
   }
  },
  {
   "cell_type": "markdown",
   "source": [
    "## Understanding IP Addresses 🌐\n",
    "An IP address is a unique identifier for a computer on the Internet, such as 56.12.32.01. However, when we analyze the numbers more closely, we realize there aren’t as many possibilities as there are Internet users worldwide. So, how many possibilities are there? And how does the IP system work?\n",
    "\n",
    "Let's break it down with some calculations!\n",
    "\n",
    "Each segment of an IPv4 address can range from 0 to 255, giving us 256 options per segment.\n",
    "Since there are 4 segments in an IP address (like A.B.C.D), the total number of possible IP addresses is $256 \\times 4$ , which equals 4,294,967,296 addresses.\n",
    "\n",
    "- Current population in the world:  8,147,701,969\n",
    "- Available IP Addresses:           4,294,967,296\n",
    "\n",
    "Despite the vast number of possible IP addresses, the world population continues to grow, and so does Internet usage. This raises questions about how we manage these addresses, especially with the advent of IPv6, which expands our possibilities significantly\n"
   ],
   "metadata": {
    "id": "mVVgWs7iDE3T"
   }
  },
  {
   "cell_type": "markdown",
   "source": [
    "### Public and Private IP Addresses 🌍🔒\n",
    "In a simplified scenario, we can identify many \"local networks\" within the vast expanse of the Internet. For instance, consider a network where 10 computers (or devices) connect to a router. In these local networks, the router is responsible for assigning private IP addresses to each device.\n",
    "\n",
    "**How It Works:**\n",
    "\n",
    "- **Private IP Addresses**: These addresses are unique only within the local network. This means that the same private IP address can be used in different local networks without conflict. Common ranges for private IP addresses include:\n",
    "\n",
    "  - 10.0.0.0 to 10.255.255.255\n",
    "  - 172.16.0.0 to 172.31.255.255\n",
    "  - 192.168.0.0 to 192.168.255.255\n",
    "\n",
    "- **Public IP Address**: The router has a single public IP address that communicates with the rest of the Internet. This public address is unique across the entire Internet and is how the network is identified externally."
   ],
   "metadata": {
    "id": "rpmAEcC2GNAT"
   }
  },
  {
   "cell_type": "markdown",
   "source": [
    "### How Routers Manage Connections\n",
    "The router maintains a \"table\" of addresses to direct all the packets that pass through it. This is crucial for ensuring that data reaches the correct destination within local and external networks.\n",
    "\n",
    "**The Challenge of Multiple Programs**\n",
    "\n",
    "However, there’s still a challenge: what happens if two programs on the same computer want to communicate with the same external IP address? How does the router and the computer know which packets belong to which program?\n",
    "\n",
    "Solution: Sockets\n",
    "\n",
    "A socket is an endpoint for sending and receiving data across a network. It is defined by an IP address and a port number.\n",
    "\n",
    "- Port Numbers:\n",
    "\n",
    "  Each program (or service) on a computer uses a unique port number to distinguish its communication.\n",
    "  For instance, when a web browser and an email client both connect to the same external IP, they will each use different port numbers (e.g., 80 for HTTP and 25 for SMTP).\n",
    "  This way, the router can identify which packets belong to which application based on the combination of the IP address and the port number.\n",
    "\n",
    "- Network Address Translation (NAT):\n",
    "\n",
    "  NAT is the technology that allows multiple devices on a local network to share a single public IP address.\n",
    "  When data packets are sent from the computer to the router, the router changes the source IP address to its own public IP and assigns a unique port number for each outgoing connection.\n",
    "  When responses come back, the router uses its table to match the incoming packets to the correct internal IP and port number, ensuring that they are forwarded to the correct program.\n",
    "\n",
    "\n",
    "To learn more about socket programming in Python\n",
    "https://docs.python.org/3.13/howto/sockets.html\n",
    "https://docs.python.org/3/library/socket.html\n"
   ],
   "metadata": {
    "id": "5ZU4W3GIGvux"
   }
  },
  {
   "cell_type": "markdown",
   "source": [
    "### Client-Server Communication Model\n",
    "Many data communications follow a client-server model, where two computers take on distinct roles: one acts as the server and the other as the client.\n",
    "\n",
    "**Roles Explained:**\n",
    "- Server:\n",
    "\n",
    "  The server is responsible for storing and providing the data that the client requests.\n",
    "  It \"listens\" for incoming requests, waiting for clients to connect.\n",
    "  Once a request is received, the server processes it and sends the appropriate data back to the client.\n",
    "- Client:\n",
    "\n",
    "  The client is the entity that initiates communication with the server.\n",
    "  Typically, this is the program or device used by a user, like a web browser or email client.\n",
    "  After establishing a connection, the client can make various requests for data, such as fetching a web page or sending an email. The communication continues until the client decides to close the connection."
   ],
   "metadata": {
    "id": "OJHE6IBlH0w7"
   }
  },
  {
   "cell_type": "markdown",
   "source": [
    "## HTTP"
   ],
   "metadata": {
    "id": "OlW5scI3cwbw"
   }
  },
  {
   "cell_type": "markdown",
   "source": [
    "### HTTP Protocol\n",
    "The HTTP (Hypertext Transfer Protocol) is one of the primary ways applications communicate at the highest level of abstraction. While there are many other communication protocols at this level, such as FTP, SMTP, and SSH, we'll focus on HTTP since it's one of the most widely used and forms the foundation for all data communication on the web.\n",
    "\n",
    "**Key Features of HTTP:**\n",
    "\n",
    "- High-Level Communication:\n",
    "\n",
    "  - From a programming perspective, HTTP simplifies the creation and communication of the \"packets\" we've discussed earlier.\n",
    "  - It typically operates over the TCP/IP protocol, allowing developers to focus on building applications without worrying about low-level details.\n",
    "\n",
    "- Client-Server Model:\n",
    "\n",
    "  - Similar to sockets, HTTP also follows the client-server model.\n",
    "  - The client sends requests to the server, which then returns a response.\n",
    "  - The data exchanged usually includes hypertext documents, images, videos, form data, and more.\n",
    "\n",
    "- Requests and Responses:\n",
    "\n",
    "  - A typical interaction involves the client making a request (e.g., requesting a webpage), and the server responding with the requested data.\n",
    "  - Each HTTP request and response consists of a header (providing metadata) and a body (containing the actual data)."
   ],
   "metadata": {
    "id": "9lvhRBgtIWR4"
   }
  },
  {
   "cell_type": "markdown",
   "source": [
    "## HTTP Messages\n",
    "There are two basic types of HTTP messages, depending on which agent of the system sent them (client or server).\n",
    "\n"
   ],
   "metadata": {
    "id": "I_usE1NMKxy3"
   }
  },
  {
   "cell_type": "markdown",
   "source": [
    "### HTTP Request\n",
    "The messages sent by the client are called requests, and they consist of multiple elements.\n",
    "\n"
   ],
   "metadata": {
    "id": "2bXKls7Ec6P_"
   }
  },
  {
   "cell_type": "markdown",
   "source": [
    "#### HTTP Methods\n",
    "The protocol defines several methods that specify the action the client wants to perform. While there are multiple methods, the most commonly used are GET, POST, PUT, and DELETE:\n",
    "\n",
    "- GET: Used when the client wants to retrieve data from the server, such as getting a list of all students in a course.\n",
    "\n",
    "- POST: Used when the client wants to send new data to the server, like submitting a form to add a new student to the course.\n",
    "\n",
    "- PUT: Used when the client wants to modify existing data on the server, such as changing a student's name.\n",
    "\n",
    "- DELETE: Used when the client wants to remove data from the server, like deleting a student from the course.\n",
    "\n"
   ],
   "metadata": {
    "id": "vc550sn3dG8E"
   }
  },
  {
   "cell_type": "markdown",
   "source": [
    "#### URL and Path\n",
    "The request must specify the path of the resource the client wants to interact with. This path does not include some elements that the server can infer from context, but it's important to understand the entire structure that makes up the URL (Uniform Resource Locator):\n",
    "\n",
    "- Protocol: Typically seen as \"http://\", indicating the protocol being used.\n",
    "\n",
    "- Domain or Host: For example, \"developer.mozilla.org\". This indicates the domain name, which is resolved to the corresponding server IP.\n",
    "\n",
    "- Port: As mentioned earlier, the port, like the IP address, is important for locating the specific server. For web traffic, the default port is 80, which usually doesn't appear in the URL because it’s assumed.\n",
    "\n",
    "Combining these elements gives us the URL that we typically see in browsers:\n",
    "```\n",
    "http://developer.mozilla.org/\n",
    "```\n",
    "Parameters can also be added to the URL after the resource in a key-value format separated by &. For example:\n",
    "\n",
    "```\n",
    "http://developer.mozilla.org?key1=value1&key2=value2\n",
    "```\n",
    "These parameters can be thought of as arguments passed to a function in Python, as if the function were hosted on the server, which is common in a GET request.\n",
    "\n"
   ],
   "metadata": {
    "id": "4XVy-j2idNtn"
   }
  },
  {
   "cell_type": "markdown",
   "source": [
    "#### Headers and Body\n",
    "A request also includes a series of headers that can provide additional information to the server, such as authentication details. Additionally, there may be a body in the request, used to send required information to the server, like form data in a POST request."
   ],
   "metadata": {
    "id": "EVU_xJaNeM5H"
   }
  },
  {
   "cell_type": "markdown",
   "source": [
    "### HTTP Response\n",
    "Messages sent by the server are called responses, and they consist of multiple elements.\n",
    "\n",
    "\n"
   ],
   "metadata": {
    "id": "KsxR8vyGdVck"
   }
  },
  {
   "cell_type": "markdown",
   "source": [
    "#### Status Code\n",
    "\n",
    "In the response, the server sends a status code (along with a message) that indicates the result of the client's request—whether it was successful or encountered an error. There are many status codes defined by the HTTP protocol, but the most commonly known are:\n",
    "\n",
    "- 200 OK: Indicates that the request was successful.\n",
    "- 404 Not Found: Indicates that the requested resource could not be found.\n",
    "For a deeper dive into the various status codes, you can check out this comprehensive list: HTTP Status Codes. https://developer.mozilla.org/en-US/docs/Web/HTTP/Status"
   ],
   "metadata": {
    "id": "LflFQIayeZn0"
   }
  },
  {
   "cell_type": "markdown",
   "source": [
    "#### Headers and Body\n",
    "\n",
    "Similar to requests, the response also includes headers that serve the same purpose—providing additional metadata about the response.\n",
    "\n",
    "The body of the response, on the other hand, contains the resource and data that the client requested from the server. This could be HTML content, JSON data, images, or any other type of resource."
   ],
   "metadata": {
    "id": "NVOfdrfZemag"
   }
  },
  {
   "cell_type": "markdown",
   "source": [
    "## Making Requests in Python\n",
    "When it comes to making HTTP requests in Python, you can use python libraries such as [`requests`](https://docs.python-requests.org/en/latest/index.html).\n",
    "```python\n",
    "!pip install requests\n",
    "import requests\n",
    "```\n",
    "We can make any HTTP request simply by using the corresponding method from the requests library.\n",
    "\n"
   ],
   "metadata": {
    "id": "KlTRLJyrd354"
   }
  },
  {
   "cell_type": "markdown",
   "source": [
    "### A GET request\n",
    "\n",
    "GET requests are a fundamental part of web communication. They are used to retrieve data from a specified resource, such as a web server or an API endpoint.\n",
    "\n",
    "In Python, you can easily perform GET requests using the `requests` library.\n",
    "\n",
    "**What is a GET Request?**\n",
    "\n",
    "- **Purpose**: A GET request is used to request data from a specified resource. The data is usually returned in a format like JSON or HTML.\n",
    "- **Idempotent**: GET requests are idempotent, meaning that making the same request multiple times will not change the state of the server.\n",
    "- **Parameters**: You can pass parameters in the URL, which can be used to filter or specify the data you want.\n",
    "\n",
    "For example, we can use the requests library to make a GET request to a specified URL.\n",
    "\n",
    "Checking the response status code is important to determine whether the request was successful (`200`), if the resource was not found (`404`), or if there was another type of error.\n",
    "\n",
    "In the next example, the response content is printed if the request is successful, allowing you to see the data returned by the server.\n",
    "\n",
    "```python\n",
    "import requests\n",
    "\n",
    "# Making a GET request\n",
    "response = requests.get('http://developer.mozilla.org')\n",
    "\n",
    "# Checking the status code\n",
    "if response.status_code == 200:\n",
    "    print(\"Request was successful!\")\n",
    "    print(response.text)  # This will print the content of the response\n",
    "elif response.status_code == 404:\n",
    "    print(\"Resource not found.\")\n",
    "else:\n",
    "    print(f\"An error occurred: {response.status_code}\")\n",
    "\n",
    "```\n"
   ],
   "metadata": {
    "id": "AzRxv_3dMH_K"
   }
  },
  {
   "cell_type": "markdown",
   "source": [
    "####🏆 GET request challenge\n",
    "\n",
    "**Fetch Current Cryptocurrency Prices**\n",
    "\n",
    "Use a GET request to retrieve the current prices of Bitcoin and Ethereum in USD from the CoinGecko API and display the results.\n",
    "\n",
    "Instructions\n",
    "- API Endpoint:\n",
    "\n",
    "  You will be using the CoinGecko API, specifically the endpoint that provides simple price data for cryptocurrencies. The URL to use is:\n",
    "  ```\n",
    "  https://api.coingecko.com/api/v3/simple/price?ids=bitcoin,ethereum&vs_currencies=usd\n",
    "```\n",
    "- Make a `GET` Request:\n",
    "\n",
    "  Use the requests library to send a GET request to the specified URL.\n",
    "  Store the response in a variable.\n",
    "\n",
    "- Parse the Response:\n",
    "\n",
    "  Convert the response data from JSON format into a Python dictionary using the .json() method.\n",
    "\n",
    "- Display the Prices:\n",
    "\n",
    "  Extract the prices of Bitcoin and Ethereum from the parsed data.\n",
    "  Print the current prices in a user-friendly format.\n",
    "\n",
    "- Bonus:\n",
    "\n",
    "  Experiment by adding other cryptocurrencies to the ids parameter in the URL (e.g., \"litecoin,cardano\") and display their prices as well."
   ],
   "metadata": {
    "id": "M3qQhLDdcxD8"
   }
  },
  {
   "cell_type": "code",
   "source": [
    "import requests\n",
    "\n",
    "url = \"https://api.coingecko.com/api/v3/simple/price?ids=bitcoin,ethereum&vs_currencies=usd\"\n",
    "response = requests.get(url)\n",
    "data = response.json()\n",
    "print(\"Crypto Prices:\", data)"
   ],
   "metadata": {
    "colab": {
     "base_uri": "https://localhost:8080/"
    },
    "id": "b9nckpmdNYTI",
    "outputId": "17a5a64d-fa04-4e80-9d20-cad86540bc67"
   },
   "outputs": [],
   "execution_count": null
  },
  {
   "cell_type": "markdown",
   "source": [
    "### A POST request\n",
    "\n",
    "For POST and PUT methods, the request generally needs to be accompanied by the data we want to modify on the server.\n",
    "\n",
    "For that, there is the `data` argument, which allows us to pass the data in the form of a Python dictionary.\n",
    "\n",
    "```python\n",
    "import requests\n",
    "\n",
    "# You can also send data using a POST request\n",
    "data = {'key1': 'value1', 'key2': 'value2'}\n",
    "response = requests.post('http://example.com/api', data=data)\n",
    "\n",
    "# Checking the response from the POST request\n",
    "print(\"Response from POST request:\", response.status_code)\n",
    "```\n",
    "\n",
    "\n"
   ],
   "metadata": {
    "id": "9xytYA0YMVIR"
   }
  },
  {
   "cell_type": "markdown",
   "source": [
    "####🏆 POST request challenge\n",
    "\n",
    "**Creating a New Post with a POST Request**\n",
    "- Goal\n",
    "\n",
    "  Your task is to use a POST request to create a new post in a mock blogging platform using the JSONPlaceholder API. This exercise will help you understand how to send data to a server and handle the server's response.\n",
    "\n",
    "- Background\n",
    "  \n",
    "  In web development, POST requests are commonly used to submit data to a server, such as creating a new resource. When you create a new post, you typically send details like the post's title, body, and the user associated with it.\n",
    "\n",
    "- Instructions\n",
    "\n",
    "  - Set Up Your Environment: Make sure you have Python and the requests library installed. If not, you can install it using pip install requests.\n",
    "\n",
    "  - Define the API Endpoint: Use the following URL to send your POST request:\n",
    "  ```\n",
    "  https://jsonplaceholder.typicode.com/posts\n",
    "  ```\n",
    "  - Create Your Data Payload: Construct a Python dictionary that represents the data you want to send. Include the following keys:\n",
    "\n",
    "    - title: A string representing the title of the post.\n",
    "    - body: A string containing the content of the post.\n",
    "    - userId: An integer representing the ID of the user creating the post (use 1 for this exercise).\n",
    "\n",
    "  - Send the POST Request: Use the `requests.post()` method to send your data to the API endpoint. Pass your data as a JSON object.\n",
    "\n",
    "  - Handle the Response: Print the HTTP status code and the response body to see the result of your POST request. The response should contain the newly created post with an ID assigned by the server.\n",
    "\n"
   ],
   "metadata": {
    "id": "2wwGYdQSSD8i"
   }
  },
  {
   "cell_type": "code",
   "source": [
    "import requests\n",
    "\n",
    "url = \"https://jsonplaceholder.typicode.com/posts\"\n",
    "data = {\n",
    "    \"title\": \"New Post\",\n",
    "    \"body\": \"This is the content of the new post Test.\",\n",
    "    \"userId\": 1\n",
    "}\n",
    "\n",
    "response = requests.post(url, json=data)\n",
    "print(\"Response from post creation:\", response.status_code, response.json())\n"
   ],
   "metadata": {
    "colab": {
     "base_uri": "https://localhost:8080/"
    },
    "id": "HKWtBKGwNluk",
    "outputId": "930fb508-710b-494a-9c46-b5c0a0fff982"
   },
   "outputs": [],
   "execution_count": null
  },
  {
   "cell_type": "markdown",
   "source": [
    "# Parsing JSON Documents in Python\n"
   ],
   "metadata": {
    "id": "QgbBwT9hRiTa"
   }
  },
  {
   "cell_type": "markdown",
   "source": [
    "## Introduction to JSON\n",
    "JSON (JavaScript Object Notation) is a lightweight data interchange format that is easy to read and write for humans and easy to parse and generate for machines.\n",
    "\n",
    "JSON is commonly used for APIs and configuration files due to its simplicity and versatility.\n",
    "\n"
   ],
   "metadata": {
    "id": "UKq8oJETRn0f"
   }
  },
  {
   "cell_type": "markdown",
   "source": [
    "\n",
    "### JSON library\n",
    "In Python, the primary library for working with JSON data is the built-in `json` module. This module provides methods to encode (serialize) and decode (parse) JSON data.\n",
    "\n",
    "[Documentation](https://docs.python.org/3/library/json.html)\n",
    "\n",
    "**Commonly Used Functions in the json Module**\n",
    "\n",
    "- `json.load()`: Parses JSON data from a file or file-like object.\n",
    "- `json.loads()`: Parses JSON data from a string.\n",
    "- `json.dump()`: Writes JSON data to a file.\n",
    "- `json.dumps()`: Serializes Python objects to a JSON-formatted string.\n",
    "\n",
    "**Main Use Cases**\n",
    "\n",
    "- Fetching Data from APIs: Most APIs return data in JSON format, making it necessary to parse the response.\n",
    "- Configuration Files: JSON is often used for configuration files due to its readability.\n",
    "- Data Storage: JSON can be used for lightweight data storage in applications.\n",
    "\n",
    "Now we are going to see several example code snippets ilustrating the different use cases.\n",
    "\n"
   ],
   "metadata": {
    "id": "eZqlk5LVRw1p"
   }
  },
  {
   "cell_type": "markdown",
   "source": [
    "### Deserializing JSON from a String\n",
    "Deserialization is the reverse process of serialization. When we receive a JSON in the form of a string, we must deserialize it in order to work with it in our code.\n",
    "\n",
    "Here's how to parse a JSON string into a Python dictionary using `json.loads()`.\n",
    "\n",
    "```python\n",
    "import json\n",
    "\n",
    "# Sample JSON string\n",
    "json_string = '{\"name\": \"Alice\", \"age\": 30, \"city\": \"New York\"}'\n",
    "\n",
    "# Parse JSON string\n",
    "data = json.loads(json_string)\n",
    "\n",
    "# Accessing data\n",
    "print(\"Name:\", data['name'])  # Output: Name: Alice\n",
    "print(\"Age:\", data['age'])    # Output: Age: 30\n",
    "print(\"City:\", data['city'])  # Output: City: New York\n",
    "```\n",
    "\n"
   ],
   "metadata": {
    "id": "zL7rpZVIuzRM"
   }
  },
  {
   "cell_type": "code",
   "source": [],
   "metadata": {
    "id": "oZXaJQ3ju9vY"
   },
   "outputs": [],
   "execution_count": null
  },
  {
   "cell_type": "markdown",
   "source": [
    "### Parsing JSON from a File\n",
    "To read JSON data from a file, use `json.load()`.\n",
    "\n",
    "```python\n",
    "import json\n",
    "\n",
    "# Assume 'employees.json' contains: {\"employees\": [{\"name\": \"Alice\"}, {\"name\": \"Bob\"}]}\n",
    "with open('employees.json', 'r') as file:\n",
    "    data = json.load(file)\n",
    "\n",
    "# Accessing the list of employees\n",
    "for employee in data['employees']:\n",
    "    print(\"Employee Name:\", employee['name'])\n",
    "\n",
    "# Output: Employee Name: Alice\n",
    "#         Employee Name: Bob\n",
    "```\n"
   ],
   "metadata": {
    "id": "f4U2m3hlu-Ah"
   }
  },
  {
   "cell_type": "code",
   "source": [],
   "metadata": {
    "id": "v_zEMad0vBIY"
   },
   "outputs": [],
   "execution_count": null
  },
  {
   "cell_type": "markdown",
   "source": [
    "### Serializing Python Objects to JSON\n",
    "\n",
    "When we talk about text formats, serialization is the process of converting an object into its string representation. This is often done because the exchange of information, whether over the web or via a cable, is conducted in a serialized format using strings or bytes. The same applies to the JSON format. In Python code, a JSON represents a dictionary, but to transmit it, it must be converted into a string.\n",
    "\n",
    "You can convert Python dictionaries or lists into JSON strings using `json.dumps()`.\n",
    "\n",
    "```python\n",
    "import json\n",
    "\n",
    "# Sample Python dictionary\n",
    "data = {\n",
    "    \"name\": \"Alice\",\n",
    "    \"age\": 30,\n",
    "    \"city\": \"New York\"\n",
    "}\n",
    "\n",
    "# Convert to JSON string\n",
    "json_string = json.dumps(data)\n",
    "print(\"JSON String:\", json_string) # Output: JSON String: {\"name\": \"Alice\", \"age\": 30, \"city\": \"New York\"}\n",
    "```\n"
   ],
   "metadata": {
    "id": "HfHrJnccvBZA"
   }
  },
  {
   "cell_type": "code",
   "source": [],
   "metadata": {
    "id": "Mqq6ZgZpvDbd"
   },
   "outputs": [],
   "execution_count": null
  },
  {
   "cell_type": "markdown",
   "source": [
    "### Writing JSON to a File\n",
    "To write JSON data to a file, use `json.dump()`.\n",
    "\n",
    "```python\n",
    "import json\n",
    "\n",
    "data = {\n",
    "    \"employees\": [\n",
    "        {\"name\": \"Alice\"},\n",
    "        {\"name\": \"Bob\"}\n",
    "    ]\n",
    "}\n",
    "\n",
    "# Write JSON to a file\n",
    "with open('employees.json', 'w') as file:\n",
    "    json.dump(data, file)\n",
    "\n",
    "print(\"Data written to employees.json\")\n",
    "```\n"
   ],
   "metadata": {
    "id": "9rfntwi8vDux"
   }
  },
  {
   "cell_type": "markdown",
   "source": [
    "#🏆 Challenge\n",
    "**Visualize SpaceX Launch Data**\n",
    "\n",
    "Fetch data about past SpaceX launches and create a timeline visualization of the launch dates and rocket names.\n",
    "\n",
    "[API Documentation](https://docs.spacexdata.com/)\n",
    "\n",
    "[GIT Repository](https://github.com/r-spacex/SpaceX-API)\n",
    "\n",
    "Steps\n",
    "- Use a GET request to retrieve launch data.\n",
    "- Parse the JSON response to extract relevant information.\n",
    "- Visualize the data using a simple plot."
   ],
   "metadata": {
    "id": "M-SdhwmbQqo6"
   }
  },
  {
   "cell_type": "code",
   "source": [
    "import requests\n",
    "import matplotlib.pyplot as plt\n",
    "from datetime import datetime\n",
    "\n",
    "# Step 1: Fetch SpaceX launch data\n",
    "url = \"https://api.spacexdata.com/v4/launches/past\"\n",
    "response = requests.get(url)\n",
    "\n",
    "# Check if the request was successful\n",
    "if response.status_code == 200:\n",
    "    launch_data = response.json()  # Parse JSON response\n",
    "else:\n",
    "    print(\"Error fetching data:\", response.status_code)\n",
    "    launch_data = []\n",
    "\n",
    "# Step 2: Extract launch dates and rocket names\n",
    "launch_dates = []\n",
    "rocket_names = []\n",
    "\n",
    "for launch in launch_data:\n",
    "    launch_dates.append(datetime.fromisoformat(launch['date_utc'][:-1]))  # Convert to datetime\n",
    "    rocket_id = launch['rocket']  # Get rocket ID\n",
    "    rocket_response = requests.get(f\"https://api.spacexdata.com/v4/rockets/{rocket_id}\")\n",
    "\n",
    "    if rocket_response.status_code == 200:\n",
    "        rocket_name = rocket_response.json()['name']  # Get rocket name\n",
    "        rocket_names.append(rocket_name)\n",
    "    else:\n",
    "        rocket_names.append(\"Unknown Rocket\")\n",
    "\n",
    "# Step 3: Visualize the data\n",
    "plt.figure(figsize=(12, 6))\n",
    "plt.scatter(launch_dates, rocket_names, color='blue', alpha=0.6)\n",
    "\n",
    "# Formatting the plot\n",
    "plt.title(\"Timeline of SpaceX Launches\")\n",
    "plt.xlabel(\"Launch Date\")\n",
    "plt.ylabel(\"Rocket Name\")\n",
    "plt.xticks(rotation=45)\n",
    "plt.grid(axis='x')\n",
    "\n",
    "# Show the plot\n",
    "plt.tight_layout()\n",
    "plt.show()\n"
   ],
   "metadata": {
    "colab": {
     "base_uri": "https://localhost:8080/",
     "height": 397
    },
    "id": "HC2F34eCPN1j",
    "outputId": "70ee76e1-23cc-42c8-8e02-29d98f117cc4"
   },
   "outputs": [],
   "execution_count": null
  }
 ]
}
