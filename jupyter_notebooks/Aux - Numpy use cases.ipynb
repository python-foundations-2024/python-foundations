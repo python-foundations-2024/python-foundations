{
  "nbformat": 4,
  "nbformat_minor": 0,
  "metadata": {
    "colab": {
      "provenance": []
    },
    "kernelspec": {
      "name": "python3",
      "display_name": "Python 3"
    },
    "language_info": {
      "name": "python"
    }
  },
  "cells": [
    {
      "cell_type": "markdown",
      "source": [
        "#Numpy\n",
        "\n",
        "<img src=\"https://numpy.org/images/logo.svg\" height=\"50\">\n",
        "\n",
        "[NumPy](https://numpy.org/) (short for Numerical Python) is a powerful open-source library for numerical computing in Python. It provides support for large multi-dimensional arrays and matrices, along with a collection of high-level mathematical functions to operate on these arrays. NumPy is a fundamental package for scientific computing and is widely used in data analysis, machine learning, image processing, and many other fields requiring numerical computations.\n",
        "\n",
        "NumPy was created by [Travis Olliphant](https://en.wikipedia.org/wiki/Travis_Oliphant) in 2005. It was built on top of Numeric, an earlier library developed by [Jim Hugunin](https://en.wikipedia.org/wiki/Jim_Hugunin) in the 1990s. Numeric was the first Python package that provided support for multi-dimensional arrays and operations on them. Over time, it became clear that a more robust and feature-rich version was needed, leading to the creation of NumPy, which integrated features from both Numeric and numarray (another similar package).\n",
        "\n",
        "NumPy quickly became the cornerstone of the Python data analysis ecosystem. It allows efficient handling of arrays, fast operations on large datasets, and is designed to integrate seamlessly with other scientific libraries like **SciPy**, **Pandas**, **Matplotlib**, and **Scikit-learn**.\n"
      ],
      "metadata": {
        "id": "wnNrQeONu0EQ"
      }
    },
    {
      "cell_type": "markdown",
      "source": [
        "## Examples of use cases in Data Analytics with NumPy"
      ],
      "metadata": {
        "id": "dTiHm5DuxCEL"
      }
    },
    {
      "cell_type": "markdown",
      "source": [
        "### Handling and Manipulating Large Datasets\n",
        "\n",
        "You have a large dataset (e.g., 1 million rows) and need to perform element-wise arithmetic operations, such as adding 10 to each element of the dataset.\n"
      ],
      "metadata": {
        "id": "mXQEFO71xFOO"
      }
    },
    {
      "cell_type": "code",
      "source": [
        "import numpy as np\n",
        "\n",
        "# Creating a large array of random numbers\n",
        "data = np.random.rand(1000000)\n",
        "\n",
        "# Adding 10 to each element in the array\n",
        "data_plus_10 = data + 10"
      ],
      "metadata": {
        "id": "UzSV9W3GxVB8"
      },
      "execution_count": null,
      "outputs": []
    },
    {
      "cell_type": "markdown",
      "source": [
        "The same can be achieved using list comprehension or loops but using Python lists, we would need to loop through each element, which would be slower due to the lack of optimization in Python lists for numerical computations."
      ],
      "metadata": {
        "id": "W-uFEMYixgBs"
      }
    },
    {
      "cell_type": "code",
      "source": [
        "import random\n",
        "data = [random.random() for _ in range(1000000)]\n",
        "data_plus_10 = [x + 10 for x in data]"
      ],
      "metadata": {
        "id": "F5MH__Wex5tI"
      },
      "execution_count": null,
      "outputs": []
    },
    {
      "cell_type": "markdown",
      "source": [
        "\n",
        "What are the main differences?\n",
        "- Performance: NumPy provides highly optimized C-based implementations, so operations on large datasets (like adding 10 to every element) are done much faster compared to Python loops. NumPy’s vectorized operations are often orders of magnitude faster than pure Python loops.\n",
        "- Memory Efficiency: NumPy arrays are stored more efficiently than Python lists and use less memory, especially for large datasets.\n"
      ],
      "metadata": {
        "id": "OCmCyOOtyfWm"
      }
    },
    {
      "cell_type": "markdown",
      "source": [
        "### Matrix Operations Scenario\n",
        "\n",
        "You need to perform matrix multiplication, which is a common task in machine learning (e.g., calculating the dot product between feature matrices)."
      ],
      "metadata": {
        "id": "hdktekpbymhG"
      }
    },
    {
      "cell_type": "code",
      "source": [
        "A = np.random.rand(3, 3)  # 3x3 matrix\n",
        "B = np.random.rand(3, 3)  # 3x3 matrix\n",
        "\n",
        "# Matrix multiplication\n",
        "result = np.dot(A, B)\n",
        "result\n"
      ],
      "metadata": {
        "colab": {
          "base_uri": "https://localhost:8080/"
        },
        "id": "wUPOjoZuy1BR",
        "outputId": "f1678c3d-be58-44f8-be91-d503d2823832"
      },
      "execution_count": null,
      "outputs": [
        {
          "output_type": "execute_result",
          "data": {
            "text/plain": [
              "array([[0.50279847, 0.5632417 , 0.96707076],\n",
              "       [0.79505735, 0.84528553, 1.50311837],\n",
              "       [0.87707853, 0.7817518 , 1.45299398]])"
            ]
          },
          "metadata": {},
          "execution_count": 6
        }
      ]
    },
    {
      "cell_type": "markdown",
      "source": [
        "We can do it using just Python lists: Without NumPy, you would need to manually iterate through each element of the matrices and calculate the dot product, which is both inefficient and error-prone.\n"
      ],
      "metadata": {
        "id": "ByaYfhxFy-0w"
      }
    },
    {
      "cell_type": "code",
      "source": [
        "def matrix_multiply(A, B):\n",
        "  \"\"\"\n",
        "  Multiplies two matrices A and B.\n",
        "\n",
        "  Args:\n",
        "    A: The first matrix.\n",
        "    B: The second matrix.\n",
        "\n",
        "  Returns:\n",
        "    The resulting matrix after multiplication.\n",
        "  \"\"\"\n",
        "  num_rows_A = len(A)\n",
        "  num_cols_A = len(A[0])\n",
        "  num_rows_B = len(B)\n",
        "  num_cols_B = len(B[0])\n",
        "\n",
        "  if num_cols_A != num_rows_B:\n",
        "    raise ValueError(\"Matrices cannot be multiplied due to incompatible dimensions.\")\n",
        "\n",
        "  result = [[0 for _ in range(num_cols_B)] for _ in range(num_rows_A)]\n",
        "\n",
        "  for i in range(num_rows_A):\n",
        "    for j in range(num_cols_B):\n",
        "      for k in range(num_cols_A):  # or num_rows_B\n",
        "        result[i][j] += A[i][k] * B[k][j]\n",
        "\n",
        "  return result\n",
        "\n",
        "\n",
        "A = [[random.random() for _ in range(3)] for _ in range(3)]\n",
        "B = [[random.random() for _ in range(3)] for _ in range(3)]\n",
        "\n",
        "# Manual matrix multiplication (inefficient)\n",
        "#Using list comprenhension\n",
        "#result = [[sum(A[i][k] * B[k][j] for k in range(len(B))) for j in range(len(B[0]))] for i in range(len(A))]\n",
        "\n",
        "#Using function\n",
        "result = matrix_multiply(A, B)\n",
        "result\n"
      ],
      "metadata": {
        "colab": {
          "base_uri": "https://localhost:8080/"
        },
        "id": "aU4crH2JzXYv",
        "outputId": "33117e7a-e0bb-4c18-d4cd-bd9eaf585437"
      },
      "execution_count": null,
      "outputs": [
        {
          "output_type": "execute_result",
          "data": {
            "text/plain": [
              "[[1.1111205894333458, 1.5430904682874056, 0.872687420319606],\n",
              " [1.3042689579162192, 1.5780279847576144, 0.4708319772078078],\n",
              " [0.6674111690199104, 0.9611250318451263, 0.3918035847418381]]"
            ]
          },
          "metadata": {},
          "execution_count": 7
        }
      ]
    },
    {
      "cell_type": "markdown",
      "source": [
        "What are the differences?\n",
        "- Efficiency: NumPy's np.dot is implemented in C and optimized for performance. The manual approach is significantly slower, especially as the matrix sizes increase.\n",
        "- Code Simplicity: The NumPy solution is much more concise and readable. The Python list approach is not only slower but also more complex and harder to debug.\n"
      ],
      "metadata": {
        "id": "kMkC8i0n0p51"
      }
    },
    {
      "cell_type": "markdown",
      "source": [
        "### Statistical Analysis\n",
        "You need to calculate the mean, standard deviation and correlation of a dataset\n",
        "\n",
        "\n"
      ],
      "metadata": {
        "id": "hdGwQNF006UJ"
      }
    },
    {
      "cell_type": "code",
      "source": [
        "data = np.random.rand(1000)\n",
        "\n",
        "mean = np.mean(data)\n",
        "std_dev = np.std(data)\n",
        "\n",
        "print(f\"mean: {mean}, std_dev: {std_dev}\")"
      ],
      "metadata": {
        "colab": {
          "base_uri": "https://localhost:8080/"
        },
        "id": "XEuL8r7t1Hep",
        "outputId": "9a8acb64-da8e-4b9a-8715-a3f2f2c86f53"
      },
      "execution_count": null,
      "outputs": [
        {
          "output_type": "stream",
          "name": "stdout",
          "text": [
            "mean: 0.5008557282612514, std_dev: 0.2850620809156234\n"
          ]
        }
      ]
    },
    {
      "cell_type": "markdown",
      "source": [
        "Using Python's built-in functions: You could calculate the mean and standard deviation manually using Python loops, but this would be inefficient and require more lines of code.\n"
      ],
      "metadata": {
        "id": "SsRcrvms2GuF"
      }
    },
    {
      "cell_type": "code",
      "source": [
        "\n",
        "data = [random.random() for _ in range(1000)]\n",
        "\n",
        "mean = sum(data) / len(data)\n",
        "std_dev = (sum((x - mean)**2 for x in data) / len(data))**0.5\n",
        "\n",
        "print(f\"mean: {mean}, std_dev: {std_dev}\")"
      ],
      "metadata": {
        "colab": {
          "base_uri": "https://localhost:8080/"
        },
        "id": "pS4VVRin2MlL",
        "outputId": "990d44cf-6c11-4058-9f81-38cdf6b1c32f"
      },
      "execution_count": null,
      "outputs": [
        {
          "output_type": "stream",
          "name": "stdout",
          "text": [
            "mean: 0.5132583429051921, std_dev: 0.29279051443165854\n"
          ]
        }
      ]
    },
    {
      "cell_type": "code",
      "source": [],
      "metadata": {
        "id": "IY55emsK2seh"
      },
      "execution_count": null,
      "outputs": []
    },
    {
      "cell_type": "markdown",
      "source": [
        "What is different ?\n",
        "- Performance: The NumPy functions np.mean, np.std are highly optimized and execute much faster than manually implementing these calculations in Python.\n",
        "- Code Simplicity: NumPy abstracts away the complex calculations, reducing the lines of code and making it easier to perform statistical analysis on datasets.\n"
      ],
      "metadata": {
        "id": "CL_9LFAq2oSa"
      }
    },
    {
      "cell_type": "markdown",
      "source": [
        "### Reshaping and Slicing Arrays\n",
        "You have a 1D array and want to reshape it into a 2D array or slice it to work with subsets of the data"
      ],
      "metadata": {
        "id": "FPOK5I2w25-v"
      }
    },
    {
      "cell_type": "code",
      "source": [
        "# Create a 1D array of 12 elements\n",
        "data = np.arange(12)\n",
        "\n",
        "# Reshape it to a 3x4 2D array\n",
        "reshaped_data = data.reshape(3, 4)\n",
        "\n",
        "# Slice the 2D array\n",
        "subset = reshaped_data[1:, 1:]\n",
        "\n",
        "print(f\" The original data is \\n {data}\")\n",
        "print(f\" The reshaped data is \\n {reshaped_data}\")\n",
        "print(f\" The subset data is \\n {subset}\t\")"
      ],
      "metadata": {
        "colab": {
          "base_uri": "https://localhost:8080/"
        },
        "id": "NzgUvsSB3Ddo",
        "outputId": "02210f77-702f-4b7f-baec-ae4b55f7d069"
      },
      "execution_count": null,
      "outputs": [
        {
          "output_type": "stream",
          "name": "stdout",
          "text": [
            " The original data is \n",
            " [ 0  1  2  3  4  5  6  7  8  9 10 11]\n",
            " The reshaped data is \n",
            " [[ 0  1  2  3]\n",
            " [ 4  5  6  7]\n",
            " [ 8  9 10 11]]\n",
            " The subset data is \n",
            " [[ 5  6  7]\n",
            " [ 9 10 11]]\t\n"
          ]
        }
      ]
    },
    {
      "cell_type": "markdown",
      "source": [
        "Using Python lists: Reshaping or slicing using Python lists is more complex and less intuitive than NumPy. Python lists don't support reshaping directly, so you would need to manually rearrange the data."
      ],
      "metadata": {
        "id": "JTxIcp3k3Z66"
      }
    },
    {
      "cell_type": "code",
      "source": [
        "data = [i for i in range(12)]\n",
        "\n",
        "# Manual reshaping (inefficient and error-prone)\n",
        "reshaped_data = [data[i:i+4] for i in range(0, 12, 4)]\n",
        "subset = [row[1:] for row in reshaped_data[1:]]\n",
        "\n",
        "print(f\" The original data is \\n {data}\")\n",
        "print(f\" The reshaped data is \\n {reshaped_data}\")\n",
        "print(f\" The subset data is \\n {subset}\t\")"
      ],
      "metadata": {
        "colab": {
          "base_uri": "https://localhost:8080/"
        },
        "id": "7iMjC-J53iCV",
        "outputId": "14f76acb-210f-4911-809c-b439d0f2429f"
      },
      "execution_count": null,
      "outputs": [
        {
          "output_type": "stream",
          "name": "stdout",
          "text": [
            " The original data is \n",
            " [0, 1, 2, 3, 4, 5, 6, 7, 8, 9, 10, 11]\n",
            " The reshaped data is \n",
            " [[0, 1, 2, 3], [4, 5, 6, 7], [8, 9, 10, 11]]\n",
            " The subset data is \n",
            " [[5, 6, 7], [9, 10, 11]]\t\n"
          ]
        }
      ]
    },
    {
      "cell_type": "markdown",
      "source": [
        "What is different?\n",
        "- Ease of Use: NumPy's reshape method provides an easy way to change the shape of an array without needing to manually rearrange the data.\n",
        "- Performance: The reshaping operation in NumPy is optimized and does not require copying data, unlike with Python lists.\n"
      ],
      "metadata": {
        "id": "xFwRRORJ3v1i"
      }
    },
    {
      "cell_type": "markdown",
      "source": [
        "### Element-wise operations\n",
        "You need to apply a mathematical transformation (e.g square each element of a dataset)"
      ],
      "metadata": {
        "id": "2TmRgFWi35aw"
      }
    },
    {
      "cell_type": "code",
      "source": [
        "data = np.random.rand(1000)\n",
        "\n",
        "# Squaring each element\n",
        "squared_data = np.square(data)\n"
      ],
      "metadata": {
        "id": "bxh_HTKq4DIQ"
      },
      "execution_count": null,
      "outputs": []
    },
    {
      "cell_type": "markdown",
      "source": [
        "Without NumPy, you would have to loop through each element and apply the transformation manually.\n"
      ],
      "metadata": {
        "id": "yedUyvxt4NqY"
      }
    },
    {
      "cell_type": "code",
      "source": [
        "data = [random.random() for _ in range(1000)]\n",
        "\n",
        "# Manual element-wise operation (inefficient)\n",
        "squared_data = [x**2 for x in data]"
      ],
      "metadata": {
        "id": "1tTTGl794TFJ"
      },
      "execution_count": null,
      "outputs": []
    },
    {
      "cell_type": "markdown",
      "source": [
        "What is different?\n",
        "- Performance: NumPy’s vectorized operations (like np.square) are much faster than using Python loops, especially for large datasets.\n",
        "- Code Readability: The NumPy approach is concise and easier to understand. The loop-based approach is longer and more error-prone.\n"
      ],
      "metadata": {
        "id": "ife3KRCi4cNM"
      }
    },
    {
      "cell_type": "markdown",
      "source": [
        "\n",
        "Summary of Key Differences Between NumPy and Traditional Python Methods\n",
        "- Performance: NumPy outperforms traditional Python loops in terms of speed due to its implementation in C, optimized for handling large arrays and matrices.\n",
        "- Memory Efficiency: NumPy uses contiguous blocks of memory, allowing for better memory management compared to Python lists, which can lead to slower performance as data grows.\n",
        "- Ease of Use: NumPy’s high-level functions (e.g., np.dot, np.mean, np.reshape) simplify complex operations and reduce the likelihood of errors.\n",
        "- Scalability: NumPy handles larger datasets much more efficiently than pure Python, which can become slow and cumbersome as the size of the data increases.\n",
        "\n",
        "In data analytics, NumPy is often the go-to tool for handling large datasets, performing complex mathematical operations, and achieving both performance and simplicity in your code."
      ],
      "metadata": {
        "id": "Vzvplsb_uihF"
      }
    }
  ]
}