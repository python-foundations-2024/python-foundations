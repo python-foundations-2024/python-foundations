{
  "nbformat": 4,
  "nbformat_minor": 0,
  "metadata": {
    "colab": {
      "provenance": [],
      "toc_visible": true
    },
    "kernelspec": {
      "name": "python3",
      "display_name": "Python 3"
    },
    "language_info": {
      "name": "python"
    }
  },
  "cells": [
    {
      "cell_type": "markdown",
      "source": [
        "# Modules\n",
        "\n",
        "In Python, a module is a file that contains Python code, and it typically includes functions, classes, and variables that can be reused across different programs.\n",
        "\n",
        "Modules are a way to organize code logically and promote code reusability.\n",
        "\n",
        "Instead of writing the same code over and over, you can store commonly used functions in a module and import it wherever needed.\n",
        "\n"
      ],
      "metadata": {
        "id": "0jerR22wWsF1"
      }
    },
    {
      "cell_type": "markdown",
      "source": [
        "\n",
        "## Creating a Module\n",
        "Any Python file with the `.py` extension is considered a module.\n",
        "\n",
        "For example, if you create a file called `math_operations.py` containing functions like `add`, `subtract`, `multiply`, etc., this file is now a module that can be imported into other Python scripts.\n",
        "\n",
        "```python\n",
        "# math_operations.py\n",
        "\n",
        "def add(a, b):\n",
        "    return a + b\n",
        "\n",
        "def subtract(a, b):\n",
        "    return a - b\n",
        "```\n"
      ],
      "metadata": {
        "id": "dx__Dv9eP5Ho"
      }
    },
    {
      "cell_type": "markdown",
      "source": [
        "## Importing a Module\n",
        "To use the functions and variables from a module in another file, you import the module using the import keyword.\n",
        "\n",
        "```python\n",
        "# main.py\n",
        "\n",
        "import math_operations\n",
        "\n",
        "result = math_operations.add(5, 3)\n",
        "print(result)  # Output: 8\n",
        "```\n",
        "\n",
        "You can also import specific functions or variables from a module:\n",
        "\n",
        "```python\n",
        "\n",
        "from math_operations import add\n",
        "\n",
        "result = add(5, 3)\n",
        "print(result)  # Output: 8\n",
        "```"
      ],
      "metadata": {
        "id": "j3UygHYiQvkT"
      }
    },
    {
      "cell_type": "markdown",
      "source": [
        "The following code demonstrates how to import and use a function from Python's built-in `math` module."
      ],
      "metadata": {
        "id": "Do-h30tBRYjN"
      }
    },
    {
      "cell_type": "code",
      "execution_count": null,
      "metadata": {
        "id": "O0fYleh0Wj3A"
      },
      "outputs": [],
      "source": [
        "# You can import modules\n",
        "import math\n",
        "\n",
        "# Using a function from the math module\n",
        "sqrt_value = math.sqrt(16)\n",
        "print(\"Square Root of 16:\", sqrt_value)"
      ]
    },
    {
      "cell_type": "markdown",
      "source": [
        "Instead of importing the entire `math` module, this code only imports the `ceil` and `floor` functions from math.\n",
        "\n",
        "By importing specific functions, we save memory and make the code slightly more efficient since Python doesn’t load the entire math module.\n",
        "\n",
        "After this import, you can call `ceil` and `floor` directly, without needing the math. prefix."
      ],
      "metadata": {
        "id": "y2jn8OVKSYxZ"
      }
    },
    {
      "cell_type": "code",
      "source": [
        "# You can get specific functions from a module\n",
        "from math import ceil, floor\n",
        "print(ceil(3.7))   # => 4\n",
        "print(floor(3.7))  # => 3"
      ],
      "metadata": {
        "id": "K09FtB3cO2CO"
      },
      "execution_count": null,
      "outputs": []
    },
    {
      "cell_type": "markdown",
      "source": [
        "This code demonstrates how to import all functions, classes, and variables from a module using the `*` symbol (often called a \"wildcard import\")\n",
        "\n",
        "> **Namespace Pollution**: When you import everything from a module, all of its functions and variables are added to your script's namespace. This can lead to conflicts if the imported names overlap with any names already defined in your code.\n",
        "\n",
        "For example, if you had a function called `log` in your script and you used `from math import *`, Python would use math.log instead of your own log function without any warning, which could lead to hard-to-find bugs."
      ],
      "metadata": {
        "id": "YwdoHpdASs74"
      }
    },
    {
      "cell_type": "code",
      "source": [
        "# You can import all functions from a module.\n",
        "# Warning: this is not recommended\n",
        "from math import *"
      ],
      "metadata": {
        "id": "GeXIPPQKSr4q"
      },
      "execution_count": null,
      "outputs": []
    },
    {
      "cell_type": "markdown",
      "source": [
        "The `import math as m` line imports the math module but assigns it the alias `m`.\n",
        "This means that everywhere you would typically use math, you can now use `m` instead.\n",
        "Using an alias can make your code cleaner, especially if a module has a long name or if you’re using it frequently.\n"
      ],
      "metadata": {
        "id": "KMx0vOgSTg2A"
      }
    },
    {
      "cell_type": "code",
      "source": [
        "# You can shorten module names\n",
        "import math as m\n",
        "math.sqrt(16) == m.sqrt(16)  # => True"
      ],
      "metadata": {
        "id": "_-a9hq_OO7cB"
      },
      "execution_count": null,
      "outputs": []
    },
    {
      "cell_type": "markdown",
      "source": [
        ">  For example, `import numpy as np` and `import pandas as pd` are standard conventions for the numpy and pandas libraries."
      ],
      "metadata": {
        "id": "n2Mp8PnRT4kq"
      }
    },
    {
      "cell_type": "markdown",
      "source": [
        "## Types of Modules\n",
        "\n",
        "Python modules can be of several types:\n",
        "\n",
        "- Built-in Modules: Python includes many standard modules, such as math, os, sys, datetime, etc., that provide useful functions and classes for common tasks.\n",
        "- User-Defined Modules: These are modules created by users, like math_operations.py in the example above.\n",
        "- Third-Party Modules: These are modules provided by third-party developers, often available through the Python Package Index (PyPI) and can be installed using pip. Examples include numpy, pandas, and requests.\n"
      ],
      "metadata": {
        "id": "WoNzgcynQ35t"
      }
    },
    {
      "cell_type": "markdown",
      "source": [
        "### Built-in Modules\n",
        "These are modules included with Python, so you don’t need to install them. They provide common functionality like math operations, file handling, and working with dates.\n",
        "\n",
        "Example: Using the random Built-in Module\n"
      ],
      "metadata": {
        "id": "XtH3jVsrVyQ3"
      }
    },
    {
      "cell_type": "code",
      "source": [
        "import random\n",
        "\n",
        "# Generate a random integer between 1 and 10\n",
        "random_number = random.randint(1, 10)\n",
        "print(\"Random number:\", random_number)"
      ],
      "metadata": {
        "id": "d7XOj5r8V3VQ"
      },
      "execution_count": null,
      "outputs": []
    },
    {
      "cell_type": "markdown",
      "source": [
        "### User-Defined Modules\n",
        "These are modules created by the user. Any .py file you write can be a module that you import into other Python files.\n",
        "\n",
        "Suppose you create a file called greetings.py with the following code:\n",
        "```python\n",
        "# greetings.py\n",
        "\n",
        "def say_hello(name):\n",
        "    return f\"Hello, {name}!\"\n",
        "```\n",
        "\n",
        "Then, you can use this module in another file as follows:\n",
        "\n",
        "```python\n",
        "# main.py\n",
        "\n",
        "import greetings\n",
        "\n",
        "# Use the function from the greetings module\n",
        "message = greetings.say_hello(\"Alice\")\n",
        "print(message)  # Output: Hello, Alice!\n",
        "```"
      ],
      "metadata": {
        "id": "MZ07-wWxV84P"
      }
    },
    {
      "cell_type": "markdown",
      "source": [
        "### Third-Party Modules\n",
        "These modules are created by other developers and are available via the Python Package Index (PyPI).\n",
        "\n",
        "You can install them with `pip`.\n",
        "\n",
        "Examples include `requests` for making HTTP requests, `numpy` for numerical operations, and `pandas` for data manipulation.\n",
        "\n"
      ],
      "metadata": {
        "id": "z_UO-3oUWavi"
      }
    },
    {
      "cell_type": "code",
      "source": [
        "!pip install requests"
      ],
      "metadata": {
        "id": "5lqzXe5mWgpT"
      },
      "execution_count": null,
      "outputs": []
    },
    {
      "cell_type": "code",
      "source": [
        "import requests\n",
        "\n",
        "# Fetch data from an API\n",
        "response = requests.get(\"https://jsonplaceholder.typicode.com/todos/1\")\n",
        "\n",
        "# Check if the request was successful and print the JSON data\n",
        "if response.status_code == 200:\n",
        "    print(response.json())\n"
      ],
      "metadata": {
        "id": "gV5oMcvHWxR9"
      },
      "execution_count": null,
      "outputs": []
    },
    {
      "cell_type": "markdown",
      "source": [
        "## Priority between modules"
      ],
      "metadata": {
        "id": "naCeQAHqUKD1"
      }
    },
    {
      "cell_type": "markdown",
      "source": [
        "Python modules are just ordinary Python files. You can write your own, and import them. The name of the module is the same as the name of the file.\n",
        "You can find out which functions and attributes are defined in a module using `dir(module_name)`\n",
        ">     import math\n",
        ">     dir(math)\n",
        "\n",
        "If you have a Python script named math.py in the same folder as your current script, the file math.py will be loaded instead of the built-in Python module.\n",
        "This happens because the local folder has priority over Python's built-in libraries."
      ],
      "metadata": {
        "id": "CEPeaVPjPCdN"
      }
    },
    {
      "cell_type": "code",
      "source": [
        "import math\n",
        "dir(math)"
      ],
      "metadata": {
        "id": "iT7uINQfURfO"
      },
      "execution_count": null,
      "outputs": []
    },
    {
      "cell_type": "markdown",
      "source": [
        "## Accessing Module Contents\n",
        "Modules can contain functions, classes, and variables. Once imported, you can access these by using the module_name.attribute syntax.\n",
        "\n",
        "```python\n",
        "import math\n",
        "\n",
        "result = math.sqrt(16)  # Using a function from the math module\n",
        "print(result)  # Output: 4.0\n",
        "```\n"
      ],
      "metadata": {
        "id": "cgyXI6dIRzJU"
      }
    },
    {
      "cell_type": "markdown",
      "source": [
        "## The `__name__` Variable\n",
        "\n",
        "Every module has a special built-in variable called `__name__`. When a module is run directly, `__name__` is set to `\"__main__\"`. However, when a module is imported into another script, `__name__` is set to the module's filename. This allows you to control parts of the module’s code execution.\n",
        "\n",
        "```python\n",
        "# math_operations.py\n",
        "\n",
        "def add(a, b):\n",
        "    return a + b\n",
        "\n",
        "if __name__ == \"__main__\":\n",
        "    print(\"Running module directly\")\n",
        "    print(add(5, 3))  # Output: 8\n",
        "```\n"
      ],
      "metadata": {
        "id": "SLfNl4RaU3Zf"
      }
    },
    {
      "cell_type": "markdown",
      "source": [
        "## Built-in Functions for Modules\n",
        "Python offers built-in functions for handling modules, such as:\n",
        "\n",
        "- `dir(module)`: Lists all functions and attributes of a module.\n",
        "- `help(module)`: Provides documentation about the module.\n",
        "Using these tools, you can explore the functionalities and documentation of both built-in and third-party modules.\n",
        "\n"
      ],
      "metadata": {
        "id": "sw7dClHFVGNJ"
      }
    },
    {
      "cell_type": "code",
      "source": [],
      "metadata": {
        "id": "OEw9A2MRPH3O"
      },
      "execution_count": null,
      "outputs": []
    },
    {
      "cell_type": "markdown",
      "source": [
        "# Packages\n",
        "\n",
        "Organizing Multiple Modules\n",
        "When you have a collection of modules organized into a folder, it is called a package. Packages make it easy to manage large projects by organizing modules into directories. Each package typically includes an __init__.py file, which can be empty or contain package-level code.\n",
        "\n",
        "For example:\n",
        "\n",
        "\n",
        "\n",
        "\n",
        "\n",
        "A package contains a special `__init__.py` file, which indicates to Python that the directory should be treated as a package.\n",
        "- Packages enable a more organized and hierarchical structuring of your code, especially useful for large projects with many modules.\n",
        "\n",
        "Example: If you have a directory structure like this\n",
        "```css\n",
        "my_project/\n",
        "│\n",
        "├── math_operations/\n",
        "│   ├── __init__.py\n",
        "│   ├── addition.py\n",
        "│   └── subtraction.py\n",
        "└── main.py\n",
        "```\n",
        "Then, in main.py, you can import these modules as follows:\n",
        "\n",
        "```python\n",
        "from math_operations import addition, subtraction\n",
        "```"
      ],
      "metadata": {
        "id": "Q4uTMqyYPIN6"
      }
    },
    {
      "cell_type": "markdown",
      "source": [
        "## Safe packages\n",
        "\n",
        "**How to know when a python package can be used?**\n",
        "\n",
        "- Being able to find it in Python Package Index (PyPI) is a good indicator that the package is legit. https://pypi.org/\n",
        "- Check dependencies in https://libraries.io/\n",
        "- Does the package support the Python version that you’re working with?\n",
        "- How popular is the package?\n",
        "- Is the package’s codebase well maintained?\n",
        "- Do other packages rely on the package?\n",
        "- Does the package’s license fit your needs?\n",
        "- What’s the exact pip install command for the package?"
      ],
      "metadata": {
        "id": "VAUZcC-tPQAf"
      }
    },
    {
      "cell_type": "markdown",
      "source": [
        "Even when you follow the good practice of working with a virtual environment, Python packages can access other parts of your operating system outside your project’s folder.\n",
        "\n",
        "Evildoers may upload packages where they’ve switched two letters or replaced one with a neighboring letter on the keyboard. This imitation technique is known as **typosquatting**. Some packages can be considered malware and shouldn’t find their way onto your system.\n"
      ],
      "metadata": {
        "id": "94PYUxLdPUvH"
      }
    },
    {
      "cell_type": "markdown",
      "source": [
        "## How to know the version of a package?\n",
        "\n",
        "While `__version__` is not mandatory, it’s a best practice that enhances usability, compatibility, and standardization for both personal projects and widely-used libraries.\n",
        "\n",
        "This is useful for checking which version you are working with, especially when different versions of the packages may introduce changes or new features.\n",
        "\n",
        "\n"
      ],
      "metadata": {
        "id": "SSHqXl4EPYP1"
      }
    },
    {
      "cell_type": "code",
      "source": [
        "import pandas as pd\n",
        "\n",
        "print(pd.__version__)\n"
      ],
      "metadata": {
        "id": "d0yLoTnUPbki"
      },
      "execution_count": null,
      "outputs": []
    },
    {
      "cell_type": "code",
      "source": [
        "import numpy as np\n",
        "\n",
        "print(np.__version__)"
      ],
      "metadata": {
        "id": "Sho1qOYAPd0i"
      },
      "execution_count": null,
      "outputs": []
    },
    {
      "cell_type": "markdown",
      "source": [
        "## How to generate a list of all installed Python packages?\n",
        "\n",
        "You can use either the command `pip list` or `pip freeze`.\n",
        "The difference between both lies in their output format and intended use.\n",
        "- `pip list` output is in a human-readable format\n",
        "- `pip freeze` output is suitable for generating requirements file.\n",
        "\n",
        "Open your terminal or command prompt and type\n",
        "```bash\n",
        "pip freeze\n",
        "```\n",
        "If you do it on Colab or in Jupyter Notebook, you can run it in a code cell using the ! character in the beginning to indicate that it´s a command.\n",
        "```python\n",
        "!pip freeze\n",
        "```\n",
        "In both cases you´ll get a list of packages that are installed and the versions of each of them.\n",
        "\n",
        "This list is important because:\n",
        "- It helps you see what packages are installed, which is crucial for managing dependencies in a project\n",
        "- It ensures that you can keep track of package versions, which helps maintain compatibility and avoid issues when sharing code or deploying applications\n",
        "\n",
        "> If you copy the list to a text file called `requirements.txt` it will allow you to easily recreate the environment on another system or share it with others\n",
        "\n",
        "For production pipelines dependency management and packaging tool like Poetry is highly recommended because it simplifies the project.\n",
        "\n",
        "More information about [Poetry](https://python-poetry.org/docs/)"
      ],
      "metadata": {
        "id": "aNMHbEMhkFgy"
      }
    },
    {
      "cell_type": "markdown",
      "source": [
        "## How to install a python package from PyPI?\n",
        "\n",
        "To install a Python package from PyPI (Python Package Index), you can use the pip command in your terminal or command prompt.\n",
        "\n",
        "1. Install the Latest Version\n",
        "\n",
        "  ```bash\n",
        "  pip install package_name\n",
        "  ```\n",
        "  The `-U` flag in pip install stands for \"upgrade.\" When you use this flag, it instructs pip to upgrade the specified package to the latest version available on PyPI, even if a version is already installed.\n",
        "  ```bash\n",
        "  pip install -U package_name\n",
        "  ```\n",
        "\n",
        "\n",
        "2. Install a Specific Version\n",
        "\n",
        "  To install a specific version of a package, specify the version number:\n",
        "\n",
        "  ```bash\n",
        "  pip install package_name==version_number\n",
        "  ```\n",
        "3. Install At Least a Given Version\n",
        "\n",
        "  To install a package that is at least a certain version, use the greater-than-or-equal-to operator (>=):\n",
        "\n",
        "  ```bash\n",
        "  pip install package_name>=version_number\n",
        "  ```\n",
        "4. Install a Stable Version\n",
        "\n",
        "  To avoid unexpected behavior caused by newer versions of a package, this ensure that you use a stable, tested version.\n",
        "  ```bash\n",
        "  pip install package_name<=version_number\n",
        "  ```"
      ],
      "metadata": {
        "id": "o0K48BPBnE7_"
      }
    },
    {
      "cell_type": "markdown",
      "source": [
        "#🏆 Packages Challenge\n",
        "\n",
        "**Exploratory Data Analysis on NYC For-Hire Vehicle Dataset**\n",
        "\n",
        "In recent years, the New York City transportation landscape has undergone significant changes, particularly with the rise of for-hire vehicle (FHV) services. Understanding the patterns and trends in FHV usage is crucial for city planners, policymakers, and transportation companies aiming to improve urban mobility and enhance service delivery.\n",
        "\n",
        "As part of a data analysis initiative, we are tasked with performing an exploratory data analysis (EDA) on the For-Hire Vehicles dataset provided by the City of New York. This analysis aims to uncover insights about FHV usage, identify trends, and help stakeholders make informed decisions regarding transportation policies.\n",
        "\n",
        "**Objective**\n",
        "\n",
        "The primary objective of this challenge is to download the For-Hire Vehicles dataset from [NYC's Open Data portal](https://data.cityofnewyork.us/Transportation/For-Hire-Vehicles-FHV-Active/8wbx-tsch/about_data), perform preliminary data cleaning, and generate a comprehensive EDA report using the [`ydata-profiling` library](https://pypi.org/project/ydata-profiling/).\n",
        "\n",
        "This report will serve as a foundational analysis to guide further research and decision-making.\n",
        "\n"
      ],
      "metadata": {
        "id": "2WkfkYd2Ure3"
      }
    }
  ]
}