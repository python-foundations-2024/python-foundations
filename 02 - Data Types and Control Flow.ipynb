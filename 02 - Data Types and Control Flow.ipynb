{
 "nbformat": 4,
 "nbformat_minor": 0,
 "metadata": {
  "colab": {
   "provenance": [],
   "toc_visible": true,
   "authorship_tag": "ABX9TyPL3pjVF9psSgVL102ljtpv"
  },
  "kernelspec": {
   "name": "python3",
   "display_name": "Python 3 (ipykernel)",
   "language": "python"
  },
  "language_info": {
   "name": "python"
  }
 },
 "cells": [
  {
   "cell_type": "markdown",
   "source": [
    "# Python 101\n",
    "\n",
    "## Your first lines of code\n",
    "\n",
    "This section introduces basic Python concepts with clear examples and explanations.\n",
    "\n",
    "In this notebook we are going to see basic concepts of Python that will be used in more advanced parts of the course.\n",
    "\n",
    "To use Google Colab to run code cells, simply type your Python code into a cell, then either press Shift + Enter or click the little play ▶️ button on the left of the cell to run it. The cell will execute, and any output will appear just below it.\n",
    "\n",
    "You can add new cells by clicking + Code at the top, and if you want to write notes or explanations, you can add Text cells as well.\n",
    "\n",
    "It's like having a coding notebook in your browser!"
   ],
   "metadata": {
    "id": "lHZU0YQINOw1"
   }
  },
  {
   "cell_type": "markdown",
   "source": [
    "## Comments 💬\n",
    "In Python, comments are used to explain code, make notes, or temporarily disable code without affecting the program's execution. They're ignored by the Python interpreter, so they don’t affect how the code runs. There are two main types of comments:\n",
    "\n",
    "- **Single-line comments**: Use the # symbol at the beginning of the line. Everything after the # on that line is considered a comment."
   ],
   "metadata": {
    "id": "Pj61f7eKPrCN"
   }
  },
  {
   "cell_type": "code",
   "source": "# Single line comments start with a number symbol.",
   "metadata": {
    "id": "lnrMom9vPwz8"
   },
   "outputs": [],
   "execution_count": null
  },
  {
   "cell_type": "markdown",
   "source": [
    "- **Multi-line comments**: Although Python doesn't have a specific syntax for multi-line comments, you can use triple quotes (''' or \"\"\") to create a string that acts as a comment, especially for documentation purposes."
   ],
   "metadata": {
    "id": "zS0bsGEZQZmK"
   }
  },
  {
   "cell_type": "code",
   "source": [
    "\"\"\"\n",
    "Multiline strings can be written\n",
    "using three \"s, and are often used\n",
    "as documentation.\n",
    "\"\"\""
   ],
   "metadata": {
    "id": "S5BIfMuPQnAW"
   },
   "outputs": [],
   "execution_count": null
  },
  {
   "cell_type": "code",
   "source": [
    "'''\n",
    "This is a multi-line comment.\n",
    "It can span several lines.\n",
    "'''"
   ],
   "metadata": {
    "id": "EvVdlWxaQsyV"
   },
   "outputs": [],
   "execution_count": null
  },
  {
   "cell_type": "code",
   "source": [
    "sql_query = \"\"\"\n",
    "SELECT *\n",
    "FROM employees\n",
    "WHERE department = 'Sales'\n",
    "\"\"\""
   ],
   "metadata": {
    "id": "INFq2P7HRH5m"
   },
   "outputs": [],
   "execution_count": null
  },
  {
   "cell_type": "markdown",
   "source": [
    "In Jupyter notebooks you can see the value of the variable just typing its name in a code cell."
   ],
   "metadata": {
    "id": "jIneu_k5RkCT"
   }
  },
  {
   "cell_type": "code",
   "source": [
    "sql_query"
   ],
   "metadata": {
    "id": "SeHLCiPGRf7I"
   },
   "outputs": [],
   "execution_count": null
  },
  {
   "cell_type": "markdown",
   "source": [
    "Accessing a variable that hasn’t been assigned yet will raise a NameError exception in Python.\n",
    "\n",
    "This happens because Python, being an interpreted language, checks each line as it runs, and when it encounters a variable that doesn't exist, it throws an error.\n",
    "\n",
    "Don’t worry—we’ll dive into exceptions later! For now, just remember that errors like this will break the execution of your code, meaning the program stops running at the error point until it's fixed.\n"
   ],
   "metadata": {
    "id": "0bItNyWARZWn"
   }
  },
  {
   "cell_type": "code",
   "source": [
    "some_unknown_var  # Raises a NameError"
   ],
   "metadata": {
    "id": "Gh9QWdatRvJ6"
   },
   "outputs": [],
   "execution_count": null
  },
  {
   "cell_type": "markdown",
   "source": [
    "### Print 🖨️\n",
    "\n",
    "In Python, the `print()` command is your go-to for showing stuff on the screen.\n",
    "\n",
    "You can use it to display variables, text, or pretty much anything!\n",
    "\n"
   ],
   "metadata": {
    "id": "aQ7g9QNGmb7H"
   }
  },
  {
   "cell_type": "code",
   "source": [
    "print(sql_query)"
   ],
   "metadata": {
    "id": "TUleEaAQm1oW"
   },
   "outputs": [],
   "execution_count": null
  },
  {
   "cell_type": "markdown",
   "source": [
    "Since Python 3.6, we’ve got these awesome **f-strings** (formatted string literals), which make printing super convenient.\n",
    "\n",
    "Just type an `f` before the string and then throw your variables inside curly braces `{}` within the string, and Python will handle the rest!\n"
   ],
   "metadata": {
    "id": "QfSTgBgym6NN"
   }
  },
  {
   "cell_type": "code",
   "source": [
    "print(f'variable message has value {message} and type {type(message)}')"
   ],
   "metadata": {
    "id": "wSSlOBe3nSRj"
   },
   "outputs": [],
   "execution_count": null
  },
  {
   "cell_type": "markdown",
   "source": [
    "## Variables\n",
    "When you're working with a computer, to do any kind of processing, you need a place to store the data you're going to use. That's where variables come in! 🎉\n",
    "\n",
    "To assign a variable, programmers follow these steps:\n",
    "\n",
    "- Pick a name for your variable 📝\n",
    "\n",
    "  It's a good idea for the name to describe what you're going to store in it.\n",
    "  The rules for naming are:\n",
    "  - It must start with a letter (a-z, A-Z) or an underscore (_).\n",
    "  - After the first character, you can use letters, numbers, or underscores.\n",
    "  - Variable names are case-sensitive. That means name and Name are two different things!\n",
    "  - There are some reserved words in Python that you can’t use as variable names because Python already uses them for other things. For example, you can't name your variable print.\n",
    "- Write the variable name ✍️\n",
    "\n",
    "- Assign an initial value 🧮\n",
    "\n",
    "You do this with an = sign, like so:\n",
    "Example:\n",
    "\n",
    "In this code:\n",
    "\n",
    "A variable `max_value` is created and assigned the value 5.\n",
    "\n",
    "A variable `message` is created and assigned the value \"Hello\".\n",
    "\n",
    "And voilà! You've got variables ready to roll."
   ],
   "metadata": {
    "id": "03iUQjzhL-lR"
   }
  },
  {
   "cell_type": "code",
   "source": [
    "max_value = 5\n",
    "message = \"Hello\""
   ],
   "metadata": {
    "id": "MDDtJ86jMm0C"
   },
   "outputs": [],
   "execution_count": null
  },
  {
   "cell_type": "markdown",
   "source": [
    "### Naming conventions\n",
    "\n",
    "There are various rules that you must adhere to when choosing the name of your variables\n",
    "- Must start with either a letter or an underscore\n",
    "- Can contain letters, numbers underscores or dash\n",
    "- Variable names are case sensitive\n",
    "- Convention is to use lower_case_with_underscores"
   ],
   "metadata": {
    "id": "y4Mj--9yir5U"
   }
  },
  {
   "cell_type": "markdown",
   "source": [
    "### Global vs Local variables\n",
    "\n",
    "In Python, the difference between **global** and **local variables** comes down to scope—where they can be accessed.\n",
    "\n",
    "- 🌍 Global variables are defined outside of functions and can be accessed from anywhere in the program. They’re like a shared resource that any part of the code can use.\n",
    "\n",
    "- On the other hand, 🔒 local variables are defined inside a function and are only accessible within that function. Once the function finishes running, the local variables are discarded. If you try to access a local variable from outside its function, Python will raise an error because that variable no longer exists in the broader program.\n",
    "\n"
   ],
   "metadata": {
    "id": "SSfncUXOSlwV"
   }
  },
  {
   "cell_type": "markdown",
   "source": [
    "We will cover the following contents during the course, so don´t worry if some of this don´t make sense right now.\n",
    "\n",
    "> 🔍 The following code iterates over a copy of the globals() dictionary, which contains all the global variables currently defined in the program. By using `list(globals().items())`, it creates a snapshot of the global variables and their values to safely loop through them without triggering errors. For each global variable, it prints both the variable name (var_name) and its value (var_value).\n",
    "\n",
    "> 🔧 This type of code is exactly what a debugger does behind the scenes! It lets you inspect all the global variables in your program, helping you track down any unexpected values or variables that could be causing bugs. By printing each variable's name and value, you get a clear view of what’s happening in your code. If a variable isn’t being set correctly or has an unexpected value, this approach helps you quickly identify where things are going off track. It’s like a manual mini-debugger!"
   ],
   "metadata": {
    "id": "dADe_KtRWAkX"
   }
  },
  {
   "cell_type": "code",
   "source": [
    "# Iterate over a copy of the globals() dictionary\n",
    "for var_name, var_value in list(globals().items()):\n",
    "   if not var_name.startswith(\"_\") and not callable(var_value):  # Exclude system-generated variables\n",
    "        print(f'Variable {var_name} has value {var_value}')"
   ],
   "metadata": {
    "id": "ORceYMWrn3j2"
   },
   "outputs": [],
   "execution_count": null
  },
  {
   "cell_type": "markdown",
   "source": [
    "## Data Types\n",
    "\n",
    "Python variables are not strictly typed, this means that you do not"
   ],
   "metadata": {
    "id": "F50H0aIVOXo-"
   }
  },
  {
   "cell_type": "markdown",
   "source": [
    "### Strings (str) 📝\n",
    "- String variables can be defined with either double **\"** or single **'** quotations. The same one to open and close the string.\n",
    "- To combine two strings you can use the concatenation character, which is the plus **+** sign.\n",
    "- Python **f-strings** provide a quick way to interpolate and format strings. They’re readable, concise, and less prone to error than traditional string interpolation and formatting tools, such as the .format() method and the modulo operator (%). An f-string is also a bit faster than those tools!\n",
    "- The scape character in Python is the back slash \\\\. You can use it to tell Python to ignore the next character and just print it.\n",
    "- The scape character can also be used to change the formatting of the output. **\\n** will create a new line and **\\t** will add a tab."
   ],
   "metadata": {
    "id": "mNX59Ef2i-rU"
   }
  },
  {
   "cell_type": "code",
   "source": [
    "# String variables can be defined with either double or single quotations.\n",
    "name = 'Alice'\n",
    "surname = \"O'Connor\""
   ],
   "metadata": {
    "id": "GbtM2ZSLjRLc"
   },
   "outputs": [],
   "execution_count": null
  },
  {
   "cell_type": "code",
   "source": [
    "# Concatenation\n",
    "# To combine two strings you need to use concatenation character, which is the plus sign.\n",
    "full_name = name + \" \" + surname\n",
    "age = 20\n",
    "print(f\"Hello, {full_name}! You're {age} years old.\")"
   ],
   "metadata": {
    "id": "kxfmLORsjjOz"
   },
   "outputs": [],
   "execution_count": null
  },
  {
   "cell_type": "code",
   "source": [
    "# The scape character in Python is the back slash. You can use it to tell Python to ignore the next character and just print it.\n",
    "quote = \"\\\"It’s no use going back to yesterday, because I was a different person then.\\\"\\nAlice, from Alice in Wonderland by Lewis Carroll\"\n",
    "print(quote)"
   ],
   "metadata": {
    "id": "bKszOkq6jv23"
   },
   "outputs": [],
   "execution_count": null
  },
  {
   "cell_type": "code",
   "source": [
    "# Triple quotes (either \"\"\" or ''') allow you to include line breaks and keep your text organized without needing to use escape characters\n",
    "quote = \"\"\"\"It’s no use going back to yesterday, because I was a different person then.\"\n",
    "Alice, from Alice in Wonderland by Lewis Carroll\"\"\"\n",
    "print(quote)"
   ],
   "metadata": {
    "id": "eUYfOs69km2k"
   },
   "outputs": [],
   "execution_count": null
  },
  {
   "cell_type": "markdown",
   "source": [
    "#### Common String methods and their usage\n",
    "\n",
    "Here are some commonly used string methods in Python, along with their basic usage:\n",
    "\n",
    "- `casefold()` and `lower()`: Converts the string to lowercase, which can be used for caseless matching\n",
    "- `capitalize()` and and `upper()`: Converts the first character of a string or all the characters to uppercase.\n",
    "- `replace(old, new[, count])`: Returns a string where a specified value is replaced with a specified value.\n",
    "- `center(width[, fillchar])`: Centers the string in a field of specified width.\n",
    "- `split(sep=None, maxsplit=-1)`: Splits the string at the specified separator and returns a list.\n",
    "- `join(iterable)`: Converts the elements of an iterable (like a list) into a string.\n",
    "- `strip([chars])`: Returns a trimmed version of the string.\n",
    "\n",
    "When using string methods, it's important to remember that strings in Python are immutable. This means that the original string is not modified. Instead, these methods return new string objects with the applied changes. To reflect these changes, you must assign the result to a new variable or overwrite the existing one."
   ],
   "metadata": {
    "id": "GD2hAGyDlqg9"
   }
  },
  {
   "cell_type": "code",
   "source": [
    "\n",
    "# Using lower()\n",
    "text = \"Straße\"\n",
    "lower_text = text.lower()\n",
    "print(lower_text)  # Output: \"straße\"\n",
    "\n",
    "# Using casefold()\n",
    "casefold_text = text.casefold()\n",
    "print(casefold_text)  # Output: \"strasse\"\n",
    "\n",
    "# Using capitalize()\n",
    "text = \"hello world\"\n",
    "capitalized_text = text.capitalize()\n",
    "print(capitalized_text)  # Output: \"Hello world\"\n",
    "\n",
    "# Using replace()\n",
    "text = \"apple banana orange\"\n",
    "replaced_text = text.replace(\"banana\", \"kiwi\")\n",
    "print(replaced_text)  # Output: \"apple kiwi orange\"\n",
    "\n",
    "# Using center()\n",
    "text = \"center\"\n",
    "centered_text = text.center(10)\n",
    "print(centered_text)  # Output: \"  center  \"\n",
    "\n",
    "# Using split()\n",
    "text = \"apple,banana,orange\"\n",
    "split_text = text.split(\",\")\n",
    "print(split_text)  # Output: [\"apple\", \"banana\", \"orange\"]\n",
    "\n",
    "# Using join()\n",
    "fruits = [\"apple\", \"banana\", \"orange\"]\n",
    "joined_fruits = \", \".join(fruits)\n",
    "print(joined_fruits)  # Output: \"apple, banana, orange\"\n",
    "\n",
    "# Using strip()\n",
    "text = \"   strip   \"\n",
    "stripped_text = text.strip()\n",
    "print(stripped_text)  # Output: \"strip\"\n"
   ],
   "metadata": {
    "id": "zFdiqkPJlpev"
   },
   "outputs": [],
   "execution_count": null
  },
  {
   "cell_type": "markdown",
   "source": [
    "#### Length of a string\n",
    "\n",
    "In Python, we use `len(str)` instead of `str.length()` for several reasons related to Python's design philosophy and object-oriented principles. Here’s a friendly breakdown of why this is the case:\n",
    "\n",
    "1. **Built-in Function vs. Method**\n",
    " - **Built-in Function**: `len()` is a built-in function in Python, designed to provide a uniform way to get the length of various data types, including strings, lists, tuples, and more. Using a function allows it to be more general-purpose.\n",
    "\n",
    "  - **Method**: In many object-oriented programming languages (like Java or JavaScript), you often see methods tied to an object, like `str.length()`. However, Python takes a different approach by implementing certain operations as functions rather than methods to provide a more uniform interface.\n",
    "\n",
    "2. **Uniformity Across Data Types**\n",
    "Consistent Interface: By using a function like `len()`, Python maintains a consistent way to access the length of different data types. This means you can call `len()` on a **string**, **list**, **tuple**, or **dictionary** without needing to remember different method names for each type."
   ],
   "metadata": {
    "id": "8ngT1W1ypcHZ"
   }
  },
  {
   "cell_type": "code",
   "source": [
    "# String Length\n",
    "quote_length = len(quote)\n",
    "print(f\"Length of Quote: {quote_length} characters\")\n"
   ],
   "metadata": {
    "id": "0gcHxQ_Bkxp1"
   },
   "outputs": [],
   "execution_count": null
  },
  {
   "cell_type": "markdown",
   "source": [
    "#### Slicing and indexing\n",
    "\n",
    "String slicing and indexing in Python are powerful tools that allow you to access and manipulate parts of a string easily.\n",
    "\n",
    "- **Indexing** refers to accessing individual characters in a string using their position, where the first character has an index of 0, the second character has an index of 1, and so on.\n",
    "\n",
    "  You can also use negative indexing, which counts from the end of the string, with -1 representing the last character.\n",
    "\n",
    "  For example, in the string `text = \"Hello\"`, `text[0]` returns 'H', and `text[-1]` returns 'o'.\n",
    "\n",
    "- On the other hand, **slicing** allows you to extract a substring by specifying a start and end index using the format `string[start:end]`.\n",
    "\n",
    "  The substring will include characters from the start index up to, but not including, the end index. For instance, `text[1:4]` gives you 'ell'. You can also omit the start or end index to slice from the beginning or to the end of the string, respectively.\n",
    "  \n",
    "  Additionally, you can use a third parameter, the step, to skip characters.\n",
    "  \n",
    "  For example, `text[::2]` would return every second character, resulting in 'Hlo'. This flexibility makes string slicing and indexing essential for text manipulation in Python!"
   ],
   "metadata": {
    "id": "_pkZheo9sD05"
   }
  },
  {
   "cell_type": "code",
   "source": [
    "# String Indexing\n",
    "first_char = full_name[0]\n",
    "print(\"First Character:\", first_char)"
   ],
   "metadata": {
    "id": "gqToUs-bk3Vt"
   },
   "outputs": [],
   "execution_count": null
  },
  {
   "cell_type": "code",
   "source": [
    "# Slicing\n",
    "first_10_quote = quote[:10]  # Up to but not including index 10\n",
    "print(\"First 10 characters of the quote:\", first_10_quote)\n"
   ],
   "metadata": {
    "id": "2ebvUCeqk9NF"
   },
   "outputs": [],
   "execution_count": null
  },
  {
   "cell_type": "markdown",
   "source": [
    "#### Input of data\n",
    "\n",
    "In Python, the `input()` function is used to receive input from the user, making it an essential part of interactive programs.\n",
    "\n",
    "When you call `input()`, the program pauses and waits for the user to type something into the console. Once the user presses Enter, the function returns the input as a string, regardless of what type of data was entered.\n",
    "\n",
    "For example, if you want to ask the user for their name, you might use `name = input(\"What is your name? \")`, which prompts the user and stores their response in the variable name. You can also convert the input to other data types using functions like `int()` or `float()` if you expect numerical values.\n",
    "\n",
    "However, it’s important to handle user input carefully, as entering unexpected data can lead to errors. To enhance user experience, you can provide clear prompts and even validate the input to ensure it meets your program’s requirements."
   ],
   "metadata": {
    "id": "nAkbAINXuBFt"
   }
  },
  {
   "cell_type": "code",
   "source": [
    "# Use input when you don't mind that the text is echoed in the console\n",
    "name = input(\"What's your name?\")\n",
    "print(f\"Hello, {name}!\")"
   ],
   "metadata": {
    "id": "OUNBW4RMuHgl"
   },
   "outputs": [],
   "execution_count": null
  },
  {
   "cell_type": "markdown",
   "source": [
    "####🏆 String Challenge\n",
    "\n",
    "Create a variable with a string input input by the user and print the result of applying the following transformations to it\n",
    "- Reverse the String: The string should be reversed.\n",
    "- Change Case: All uppercase letters should be converted to lowercase, and all lowercase letters should be converted to uppercase.\n",
    "- Replace Vowels: Replace all vowels (a, e, i, o, u in both cases) with the symbol `*`.\n",
    "- Add Length: Append the length of the original string at the end of the transformed string.\n",
    "\n",
    "Input: `Hello Alice!`\n",
    "\n",
    "step1: `!ecilA olleH`\n",
    "\n",
    "step2: `!ECILa OLLEh`\n",
    "\n",
    "step3: `!*C*L* *LL*h`\n",
    "\n",
    "Output: `!*C*L* *LL*h12`"
   ],
   "metadata": {
    "id": "gkYCiBZBiGfu"
   }
  },
  {
   "cell_type": "markdown",
   "source": [
    "### Numeric 🔢\n",
    "\n",
    "- Integers are whole numbers\n",
    "- Floats are numbers with decimal places.When you do a calculation that results ina fraction e.g. 4 ÷ 3 the result will always be a floating point number."
   ],
   "metadata": {
    "id": "dEzLhALpjJWn"
   }
  },
  {
   "cell_type": "markdown",
   "source": [
    "#### Arithmetic operations\n",
    "In Python, we can perform operations to modify the received data and calculate the necessary outputs.\n",
    "\n",
    "For example if we have these 2 variables\n",
    "`a = 10`\n",
    "`b = 5`\n",
    "\n",
    "- **Sum**\n",
    "\n",
    "  `c = a + b` will return 15\n",
    "- **Substraction**\n",
    "\n",
    "  `c = a - b` will return 5\n",
    "- **Multiplication**\n",
    "\n",
    "  `c = a * b` will return 50\n",
    "- Division\n",
    "\n",
    "  `c = a / b` will return 2\n",
    "\n",
    "- Exponentiations\n",
    "\n",
    "  `c = a ** b` will return 100000"
   ],
   "metadata": {
    "id": "lxlWDqYPtrus"
   }
  },
  {
   "cell_type": "code",
   "source": [
    "# Feel free to play around with arithmetic operations here and experiment!\n",
    "a = 10\n",
    "b = 5\n",
    "c = a ** b\n",
    "print(c)"
   ],
   "metadata": {
    "id": "KmO-OLlnvR-s"
   },
   "outputs": [],
   "execution_count": null
  },
  {
   "cell_type": "markdown",
   "source": [
    "#### Common Numeric functions and their usage\n",
    "\n",
    "- `abs()`: Returns the absolute value of a number.\n",
    "\n",
    "  For example, `abs(-5)` returns 5.\n",
    "\n",
    "- `round()`: Rounds a floating-point number to the nearest integer or specified decimal places.\n",
    "\n",
    "  For example, `round(3.14159, 2)` returns 3.14.\n",
    "\n",
    "- `pow()`: Computes the power of a number. It’s equivalent to using the ** operator.\n",
    "\n",
    "  For instance, `pow(2, 3)` returns 8.\n",
    "\n",
    "- `max()` and `min()`: Return the largest and smallest values from a list or collection.\n",
    "\n",
    "  For example, `max(3, 5, 1)` returns 5 and `min(3, 5, 1)` returns 1.\n",
    "\n",
    "- `sum()`: Returns the sum of all items in an iterable.\n",
    "\n",
    "  For example, `sum([1, 2, 3])` returns 6.\n",
    "\n",
    "- `divmod()`: Returns a tuple containing the quotient and remainder when dividing two numbers.\n",
    "\n",
    "  For instance, `divmod(10, 3)` returns (3, 1)."
   ],
   "metadata": {
    "id": "CInrvNCCpxnv"
   }
  },
  {
   "cell_type": "markdown",
   "source": [
    "#### Why the arithmetic we learn at school does not work with floats?\n",
    "\n",
    "In Python, floating-point numbers can sometimes behave unexpectedly when performing arithmetic due to how they are stored in memory. Floats are represented using binary fractions, which leads to rounding errors in many cases."
   ],
   "metadata": {
    "id": "mTqlVy1Vkm1R"
   }
  },
  {
   "cell_type": "code",
   "source": [
    "print(0.1 + 0.2)"
   ],
   "metadata": {
    "id": "iEbONz08kz65"
   },
   "outputs": [],
   "execution_count": null
  },
  {
   "cell_type": "markdown",
   "source": [
    "- **Why Does This Happen?**\n",
    "\n",
    "This happens because floats in Python (and most programming languages) cannot represent some decimal numbers exactly in binary form. This rounding error becomes apparent when performing arithmetic.\n",
    "\n",
    "For instance:\n",
    "\n",
    "`0.1` in binary is an infinitely repeating fraction: `0.00011001100110011...`\n",
    "\n",
    "`0.2` is similarly imprecise in binary: `0.001100110011...`\n",
    "\n",
    "If you want to get a better idea of how the machines convert the numbers into binary format you can have a look at this tutorial [Decimal to Binary](https://www.youtube.com/watch?v=1MGBapRPzqE)\n",
    "\n",
    "- **Solving Float Precision Issues**\n",
    "\n",
    "There are several ways to handle these precision problems:\n",
    "\n",
    "  1. **Using ´round()`**\n",
    "\n",
    "You can use Python’s built-in round() function to round the result to the desired number of decimal places.\n"
   ],
   "metadata": {
    "id": "fI_f_YYClgTs"
   }
  },
  {
   "cell_type": "code",
   "source": [
    "result = 0.1 + 0.2\n",
    "print(round(result, 2))  # Output: 0.3"
   ],
   "metadata": {
    "id": "SP-egCF2mrP6"
   },
   "outputs": [],
   "execution_count": null
  },
  {
   "cell_type": "markdown",
   "source": [
    "2. **Using the `decimal` Module**\n",
    "\n",
    "Python provides the decimal module, which allows you to work with floating-point numbers as exact decimal numbers.\n",
    "\n",
    "With the decimal module, numbers are represented as exact decimals, eliminating rounding errors.\n",
    "\n"
   ],
   "metadata": {
    "id": "GZgNCDR3mjrn"
   }
  },
  {
   "cell_type": "code",
   "source": [
    "from decimal import Decimal\n",
    "\n",
    "# Convert the numbers to Decimal type\n",
    "a = Decimal('0.1')\n",
    "b = Decimal('0.2')\n",
    "result = a + b\n",
    "print(result)  # Output: 0.3"
   ],
   "metadata": {
    "id": "GcuQSBIhm3Qk"
   },
   "outputs": [],
   "execution_count": null
  },
  {
   "cell_type": "markdown",
   "source": [
    "3. **Using `fractions.Fraction`**\n",
    "\n",
    "The fractions module can be used to represent numbers as fractions. This avoids the precision issue entirely by storing numbers as ratios of two integers.\n",
    "\n",
    "This approach is especially useful when you need exact rational arithmetic.\n"
   ],
   "metadata": {
    "id": "vKvdNaDRm086"
   }
  },
  {
   "cell_type": "code",
   "source": [
    "from fractions import Fraction\n",
    "\n",
    "a = Fraction(1, 10)  # Represents 0.1 as 1/10\n",
    "b = Fraction(2, 10)  # Represents 0.2 as 2/10\n",
    "result = a + b\n",
    "print(float(result))  # Output: 0.3\n"
   ],
   "metadata": {
    "id": "OVb8VJJfnXNf"
   },
   "outputs": [],
   "execution_count": null
  },
  {
   "cell_type": "markdown",
   "source": [
    "4. **Formatting the Output**\n",
    "\n",
    "In cases where you only care about the output presentation and not exact precision, you can format the floating-point number to a certain number of decimal places:\n",
    "\n",
    "This approach is useful when you're displaying results to users, but the underlying rounding issue will still exist."
   ],
   "metadata": {
    "id": "0NJeqT8TnQnA"
   }
  },
  {
   "cell_type": "code",
   "source": [
    "result = 0.1 + 0.2\n",
    "print(f\"{result:.2f}\")  # Output: 0.30"
   ],
   "metadata": {
    "id": "adyLPegEnoX3"
   },
   "outputs": [],
   "execution_count": null
  },
  {
   "cell_type": "markdown",
   "source": [
    "####🏆 Numeric Challenge\n",
    "\n",
    "You are working on a project to help users convert temperatures between Celsius and Fahrenheit. In addition, you want to analyze the temperature data provided by the user to find the highest and lowest temperatures.\n",
    "\n",
    "Your challenge is to build a Python program that does the following:\n",
    "1. Prompt the user to enter a temperature in Celsius.\n",
    "2. Convert Temperature:\n",
    "\n",
    "  The formula to convert Celsius to Fahrenheit is:\n",
    "$\\text{Fahrenheit} = \\left(\\text{Celsius} \\times \\frac{9}{5}\\right) + 32$.\n",
    "\n",
    "3. Prompt the user to enter another temperature in Fahrenheit.\n",
    "4. Find the higher of the two temperatures.\n",
    "5. Calculate the absolute difference between the two temperatures\n",
    "6. Determine Freezing and Boiling Points:\n",
    "7. Check if the Celsius temperature is below freezing (0°C) and if the Fahrenheit temperature is above boiling (212°F).\n",
    "8. Print messages indicating whether the temperatures are below freezing or above boiling.\n",
    "\n",
    "Input:\n",
    "```\n",
    "Enter a temperature in Celsius: 25\n",
    "Enter a temperature in Fahrenheit: 70\n",
    "```\n",
    "\n",
    "Output\n",
    "```\n",
    "Converted Temperature: 77.0°F\n",
    "Higher Temperature: 77.0°F\n",
    "Absolute Difference: 7.0°\n",
    "The Celsius temperature is not below freezing.\n",
    "The Fahrenheit temperature is not above boiling.\n",
    "```"
   ],
   "metadata": {
    "id": "EOWNNkvowLi9"
   }
  },
  {
   "cell_type": "markdown",
   "source": [
    "### Booleans ✅ ❌\n",
    "\n",
    "In Python, a Boolean is a fundamental data type that represents one of two values: `True` or `False`.\n",
    "\n",
    "Booleans are often used in conditional statements to control the flow of a program based on certain conditions. For example, the expression `5 > 3` evaluates to `True`, while `3 == 5` evaluates to `False`.\n",
    "\n",
    "Booleans can also be the result of logical operations; using the logical `and`, `or`, `not` and `^` operators, you can combine or negate Boolean values.\n",
    "\n",
    "For instance, the expression `True and False` evaluates to `False`, while `not False` evaluates to `True`.\n",
    "\n",
    "In addition to direct comparisons, Boolean values can also be derived from built-in functions, such as `bool()`, which converts a value to a Boolean based on its truthiness (e.g., `bool(0)` returns `False`, and `bool(\"Hello\")` returns `True`).\n",
    "\n",
    "True and Fals are actually 1 and 0 but with different keywords\n",
    "`True + True = 2`\n",
    "\n",
    "Booleans are integral to control flow structures like if statements, where they determine which block of code should be executed, making them a vital part of Python programming.\n",
    "\n"
   ],
   "metadata": {
    "id": "B3yY0b7sjO5q"
   }
  },
  {
   "cell_type": "markdown",
   "source": [
    "#### Boolean arithmetic\n",
    "\n",
    "- AND\n",
    "\n",
    "| A     | B     | A AND B |\n",
    "|-------|-------|---------|\n",
    "| True  | True  | True    |\n",
    "| True  | False | False   |\n",
    "| False | True  | False   |\n",
    "| False | False | False   |\n",
    "\n",
    "- OR\n",
    "\n",
    "| A     | B     | A OR B  |\n",
    "|-------|-------|---------|\n",
    "| True  | True  | True    |\n",
    "| True  | False | True    |\n",
    "| False | True  | True    |\n",
    "| False | False | False   |\n",
    "\n",
    "\n",
    "- NOT\n",
    "\n",
    "| A     | NOT A  |\n",
    "|-------|--------|\n",
    "| True  | False  |\n",
    "| False | True   |\n",
    "\n",
    "\n",
    "- XOR (^)\n",
    "\n",
    "| A     | B     | A XOR B |\n",
    "|-------|-------|---------|\n",
    "| True  | True  | False   |\n",
    "| True  | False | True    |\n",
    "| False | True  | True    |\n",
    "| False | False | False   |\n",
    "\n"
   ],
   "metadata": {
    "id": "pPmHc2zo31cr"
   }
  },
  {
   "cell_type": "code",
   "source": [
    "# Feel free to play around with booleans here and experiment!\n",
    "a = True\n",
    "b = False\n",
    "print(a + b)\n",
    "print(not a)\n",
    "print(a and b)\n",
    "print(a or b)\n",
    "print(a ^ b)"
   ],
   "metadata": {
    "id": "Ra5FyQ2T05-Y"
   },
   "outputs": [],
   "execution_count": null
  },
  {
   "cell_type": "markdown",
   "source": [
    "####🏆 Boolean challenge\n",
    "\n",
    "**Discount Calculator**\n",
    "\n",
    "Develop a simple discount calculator for a retail store. Customers can receive discounts based on their membership status and total purchase amount.\n",
    "\n",
    "Conditions:\n",
    "- Customers with a membership get a 10% discount if their total is over 100 USD.\n",
    "- Non-members get a 5% discount if their total is over 50 USD.\n",
    "- Print the applicable discount based on membership and total purchase.\n",
    "\n",
    "Input\n",
    "```\n",
    "Are you a member? (True/False): False\n",
    "Enter your total purchase amount: $60\n",
    "```\n",
    "\n",
    "Output\n",
    "\n",
    "```\n",
    "You received a discount of $3.00.\n",
    "The final price after applying the discount is: $57.00\n",
    "```\n"
   ],
   "metadata": {
    "id": "GRQciKG02whL"
   }
  },
  {
   "cell_type": "markdown",
   "source": [
    "### Lists 📋\n",
    "\n",
    "In Python, lists are versatile and dynamic data structures that can hold an **ordered collection of items**, which can be of different types, including numbers, strings, and even other lists.\n",
    "\n",
    "Lists are defined by enclosing elements in square brackets, separated by commas, such as `my_list = [1, 2, 3, 'apple', 'banana']`\n",
    "\n",
    "They are **mutable**, meaning you can modify their contents after creation by adding, removing, or changing elements using various built-in methods like `append()`, `remove()`, and `insert()`.\n",
    "\n",
    "Lists support **indexing and slicing**, allowing easy access to individual elements or sub-sections of the list. This makes them ideal for managing collections of data, such as user inputs, datasets, or sequences of operations, and they are commonly used in tasks like iteration, data manipulation, and implementing algorithms, making them a fundamental part of Python programming."
   ],
   "metadata": {
    "id": "DvmkYeaQjY8w"
   }
  },
  {
   "cell_type": "markdown",
   "source": [
    "You can create an empty list like this\n",
    "`fruits = []`\n",
    "Or you can create a list with values like this\n",
    "`fruits = [\"apple\", \"orange\"]`\n",
    "\n",
    "You can access the elements in the list by index. In python, the indexes start on 0. In the previous example to get the 1st element we can do `fruits[0]`\n",
    "If we try to access an element out of bounds we will get a `Index out of range` Exception\n",
    "\n",
    "We can look at the last element using the index -1 like `fruits[-1]`\n",
    "\n",
    "You can also check if an element exists in a list using the `in` keyword.\n",
    "\n",
    "The elements in a list can be of different types. For example: `[101, \"Design website layout\", \"In Progress\"]`\n",
    "\n",
    "Additionally, it's possible to create lists that contain other lists (nested lists).\n",
    "\n",
    "```python\n",
    "[\n",
    "    [101, \"Design website layout\", \"In Progress\"],\n",
    "    [102, \"Develop backend API\", \"Complete\"],\n",
    "    [103, \"Test API endpoints\", \"Complete\"]\n",
    "]\n",
    "```"
   ],
   "metadata": {
    "id": "_RPhS6eF_0SJ"
   }
  },
  {
   "cell_type": "code",
   "source": [
    "#Playground to explore about lists\n",
    "fruits = [\"apple\", \"orange\"]\n",
    "print(fruits[0])\n",
    "#fruits[2]\n",
    "print(fruits[-1])\n",
    "\"apple\" in fruits"
   ],
   "metadata": {
    "id": "nXvywGacAiOc"
   },
   "outputs": [],
   "execution_count": null
  },
  {
   "cell_type": "markdown",
   "source": [
    "#### List functions\n",
    "These are built-in functions that can be used with lists:\n",
    "\n",
    "- `len(list)`\tReturns the number of elements in the list.\n",
    "- `sorted(list)`\tReturns a new list containing all items from the original list in ascending order (does not modify the original list).\n",
    "- `sum(list)`\tReturns the sum of all elements in the list (works only for numerical lists).\n",
    "- `min(list)`\tReturns the smallest item in the list.\n",
    "- `max(list)`\tReturns the largest item in the list.\n",
    "- `list(iterable)`\tConverts an iterable (like a tuple or string) into a list.\n",
    "- `any(list)`\tReturns True if at least one element in the list is truthy; otherwise, it returns False.\n",
    "- `all(list)`\tReturns True if all elements in the list are truthy; otherwise, it returns False.\n",
    "- The `enumerate()` function in Python is a built-in function that adds a counter to an iterable (like a list or a tuple) and returns it as an enumerate object. This is particularly useful when you need both the index and the value of items in a loop."
   ],
   "metadata": {
    "id": "ZQwBHGACCnJ6"
   }
  },
  {
   "cell_type": "markdown",
   "source": [
    "#### List methods\n",
    "These are methods that are specific to list objects and must be called on a list instance:\n",
    "\n",
    "- `list.append(item)`\tAdds an item to the end of the list.\n",
    "- `list.extend(iterable)`\tExtends the list by appending elements from an iterable.\n",
    "- `list.insert(index, item)`\tInserts an item at a specified index in the list.\n",
    "- `list.remove(item)`\tRemoves the first occurrence of a specified item from the list.\n",
    "- `list.pop(index)`\tRemoves and returns the item at the specified index. If no index is specified, it removes and returns the last item.\n",
    "- `list.clear()`\tRemoves all items from the list.\n",
    "- `list.index(item)`\tReturns the index of the first occurrence of the specified item. Raises a ValueError if not found.\n",
    "- `list.count(item)`\tReturns the number of occurrences of the specified item in the list.\n",
    "- `list.sort()`\tSorts the items of the list in place (modifies the original list).\n",
    "- `list.reverse()`\tReverses the elements of the list in place (modifies the original list).\n"
   ],
   "metadata": {
    "id": "yM3rW98oDCDK"
   }
  },
  {
   "cell_type": "code",
   "source": [
    "# Feel free to play around with lists here and experiment!\n",
    "my_list = [1, 2, 3, 'apple']\n",
    "print(len(my_list))  # Output: 4\n",
    "\n",
    "my_list = [3, 1, 2, 5]\n",
    "sorted_list = sorted(my_list)\n",
    "print(sorted_list)  # Output: [1, 2, 3, 5]\n",
    "\n",
    "my_list = [1, 2, 3, 4]\n",
    "print(sum(my_list))  # Output: 10\n",
    "\n",
    "print(min(my_list))  # Output: 1\n",
    "\n",
    "print(max(my_list))  # Output: 4\n",
    "\n",
    "my_tuple = (1, 2, 3)\n",
    "my_list = list(my_tuple)\n",
    "print(my_list)  # Output: [1, 2, 3]\n",
    "\n",
    "my_list = [0, None, '', 5]\n",
    "print(any(my_list))  # Output: True\n",
    "\n",
    "my_list = [1, 2, 3, 0]\n",
    "print(all(my_list))  # Output: False\n",
    "\n",
    "fruits = ['apple', 'banana', 'cherry']\n",
    "# Using enumerate to get both index and value\n",
    "for index, value in enumerate(fruits):\n",
    "    print(f\"Index: {index}, Fruit: {value}\")\n",
    "\n",
    "my_list = [1, 2, 3]\n",
    "my_list.append(4)\n",
    "print(my_list)  # Output: [1, 2, 3, 4]\n",
    "\n",
    "my_list = [1, 2, 3]\n",
    "my_list.extend([4, 5])\n",
    "print(my_list)  # Output: [1, 2, 3, 4, 5]\n",
    "\n",
    "my_list = [1, 2, 4]\n",
    "my_list.insert(2, 3)\n",
    "print(my_list)  # Output: [1, 2, 3, 4]\n",
    "\n",
    "my_list = [1, 2, 3, 2]\n",
    "my_list.remove(2)\n",
    "print(my_list)  # Output: [1, 3, 2]\n",
    "\n",
    "my_list = [1, 2, 3]\n",
    "popped_item = my_list.pop(1)\n",
    "print(popped_item)  # Output: 2\n",
    "print(my_list)  # Output: [1, 3]\n",
    "\n",
    "my_list = [1, 2, 3]\n",
    "my_list.clear()\n",
    "print(my_list)  # Output: []\n",
    "\n",
    "my_list = [1, 2, 3]\n",
    "print(my_list.index(2))  # Output: 1\n",
    "\n",
    "my_list = [1, 2, 2, 3]\n",
    "print(my_list.count(2))  # Output: 2\n",
    "\n",
    "my_list = [3, 1, 2]\n",
    "my_list.sort()\n",
    "print(my_list)  # Output: [1, 2, 3]\n",
    "\n",
    "my_list = [1, 2, 3]\n",
    "my_list.reverse()\n",
    "print(my_list)  # Output: [3, 2, 1]"
   ],
   "metadata": {
    "id": "kJibVIpFDk-9"
   },
   "outputs": [],
   "execution_count": null
  },
  {
   "cell_type": "markdown",
   "source": [
    "#### Shallow Copy vs Deep Copy\n",
    "\n",
    "When passing values to a Python function, there are **two** possible ways these parameters can be handled:\n",
    "\n",
    "- Pass by Value: A copy of the object is created, meaning the function works with a separate instance of the data.\n",
    "- Pass by Reference: A reference to the original object is passed, allowing the function to access and modify the original object without creating a copy.\n",
    "\n",
    "**Python Parameter Passing: Pass by Reference vs. Pass by Value**\n",
    "\n",
    "| Data Type      | Mutable or Immutable | Pass Behavior         | Explanation                                                                                 |\n",
    "|----------------|----------------------|------------------------|---------------------------------------------------------------------------------------------|\n",
    "| `int`          | Immutable            | Pass by \"Value\"       | A new instance is created if modified, so original remains unchanged.                       |\n",
    "| `float`        | Immutable            | Pass by \"Value\"       | Changes create a new instance, preserving the original value.                               |\n",
    "| `str`          | Immutable            | Pass by \"Value\"       | Any modification creates a new string, leaving the original string unchanged.               |\n",
    "| `bool`         | Immutable            | Pass by \"Value\"       | Changes result in a new instance, keeping the original intact.                              |\n",
    "| `tuple`        | Immutable            | Pass by \"Value\"       | Elements cannot be modified, so tuples behave like they are passed by value.                |\n",
    "| `list`         | Mutable              | Pass by Reference      | Modifications affect the original list as both variables point to the same object.          |\n",
    "| `dict`         | Mutable              | Pass by Reference      | Changes to the dictionary within the function affect the original dictionary.               |\n",
    "| `set`          | Mutable              | Pass by Reference      | Alterations (e.g., add/remove elements) impact the original set, as the reference is shared.|\n",
    "| `NoneType`     | Immutable            | Pass by \"Value\"       | Treated as a single instance and can't be modified.                                         |\n",
    "\n",
    "\n",
    "\n",
    "By default, Python uses pass by reference for mutable data structures such as lists, dictionaries, and sets. This means changes made to these objects inside a function will affect the original object. In contrast, for immutable types like integers (int), booleans (bool), and strings, Python effectively behaves as if it’s pass by value, because you can't modify these objects in-place.\n",
    "\n",
    "Explanation:\n",
    "Mutable objects (e.g., lists, dictionaries) are passed by reference. Changes made within a function affect the original object because both the original and the function’s parameters point to the same memory location.\n",
    "Immutable objects (e.g., integers, strings, tuples) behave as if passed by value, because any attempt to modify them inside the function results in creating a new object, leaving the original untouched.\n",
    "\n",
    "Understanding this behavior is crucial when **working with functions**, especially when you want to control whether the original data gets modified or not.\n",
    "\n",
    "It is also important when creating a copy of a complex structure using **shallow copy** (e.g., `[:]`) to avoid modifying the original. Shallow copies share references to mutable objects, so changes to the copy may affect the original like in the following example"
   ],
   "metadata": {
    "id": "pbHA0m8OCGRa"
   }
  },
  {
   "cell_type": "code",
   "source": [
    "# Original list of project tasks\n",
    "project_tasks = [\n",
    "    [101, \"Design website layout\", \"In Progress\"],\n",
    "    [102, \"Develop backend API\", \"In Progress\"],\n",
    "    [103, \"Test API endpoints\", \"Complete\"],\n",
    "]\n",
    "\n",
    "# Create a shallow copy of project_tasks\n",
    "copied_tasks = project_tasks[:]\n",
    "\n",
    "# Print both lists before making any changes\n",
    "print(\"Original project tasks before change:\", project_tasks)\n",
    "print(\"Copied project tasks before change:\", copied_tasks)\n",
    "\n",
    "# Update the status of a task in the shallow copy\n",
    "copied_tasks[1][2] = \"Complete\"\n",
    "\n",
    "# Print both lists after making the change\n",
    "print(\"Original project tasks after change:\", project_tasks)\n",
    "print(\"Copied project tasks after change:\", copied_tasks)\n"
   ],
   "metadata": {
    "id": "7c9fLz4xCpjr"
   },
   "outputs": [],
   "execution_count": null
  },
  {
   "cell_type": "markdown",
   "source": [
    "**Explanation of What’s Happening**\n",
    "\n",
    "We start with project_tasks, a list where each element is a nested list representing a task (a list of lists).\n",
    "\n",
    "Each task list contains three elements:\n",
    "\n",
    "- Task ID (an integer, e.g., 101)\n",
    "- Description (a string, e.g., \"Design website layout\")\n",
    "- Status (a string, e.g., \"In Progress\")\n",
    "\n",
    "Shallow Copy Creation:\n",
    "\n",
    "We then create a shallow copy of project_tasks called copied_tasks using slicing (`copied_tasks = project_tasks[:]`).\n",
    "\n",
    "While copied_tasks is a new list object, each task inside it points to the same memory location as those in project_tasks. Thus, copied_tasks[0] is actually pointing to the same task list as project_tasks[0], and so on.\n",
    "\n",
    "| `project_tasks`       |   | `copied_tasks`       | Explanation                           |\n",
    "|-----------------------|---|----------------------|---------------------------------------|\n",
    "| [101, \"Design website layout\", \"In Progress\"] | → | [101, \"Design website layout\", \"In Progress\"] | Shared references for all elements (immutable) |\n",
    "| [102, \"Develop backend API\", \"In Progress\"]   | → | [102, \"Develop backend API\", \"In Progress\"]   | Shared references for all elements (mutable)   |\n",
    "| [103, \"Test API endpoints\", \"Complete\"]       | → | [103, \"Test API endpoints\", \"Complete\"]       | Shared references for all elements (immutable) |\n",
    "\n",
    "\n",
    "**Changing Task Status:**\n",
    "\n",
    "We update the status of the second task (\"Develop backend API\") in copied_tasks by setting it to \"Complete\". Since this task is a nested list shared between project_tasks and copied_tasks, the status update is reflected in both lists.\n",
    "\n",
    "**Final Output:**\n",
    "\n",
    "After updating copied_tasks, we print both lists and see that the change to the task status affects both project_tasks and copied_tasks.\n",
    "\n",
    "| `project_tasks`       |   | `copied_tasks`       | Explanation                           |\n",
    "|-----------------------|---|----------------------|---------------------------------------|\n",
    "| [101, \"Design website layout\", \"In Progress\"] | → | [101, \"Design website layout\", \"In Progress\"] | No changes to shared elements            |\n",
    "| [102, \"Develop backend API\", \"Complete\"]      | → | [102, \"Develop backend API\", \"Complete\"]      | Change reflected in both lists due to shared reference |\n",
    "| [103, \"Test API endpoints\", \"Complete\"]       | → | [103, \"Test API endpoints\", \"Complete\"]       | No changes to shared elements            |\n",
    "\n",
    "\n",
    "**Explanation**\n",
    "\n",
    "- Both `project_tasks` and `copied_tasks` are shallow copies, so the nested lists (tasks) share references.\n",
    "- Modifying `copied_tasks[1][2]` (the status of \"Develop backend API\") updates **both** lists because they share the same memory reference for the nested list.\n",
    "\n",
    "\n",
    "##### When to Use a Deep Copy\n",
    "In real applications, a deep copy is often preferred for lists of complex objects to ensure that each object is truly independent. A deep copy creates completely new copies of all objects in the original list, so changes in one list won’t affect the other. You can achieve a deep copy using the copy module:\n",
    "\n",
    "```python\n",
    "import copy\n",
    "deep_copied_tasks = copy.deepcopy(project_tasks)\n",
    "```\n",
    "\n",
    "With a deep copy, modifying a task in deep_copied_tasks will not affect project_tasks."
   ],
   "metadata": {
    "id": "TnPGot62q-KH"
   }
  },
  {
   "cell_type": "markdown",
   "source": [
    "####🏆 Lists Challenge\n",
    "\n",
    "**Simple Task Prioritization Challenge: \"Manage Your To-Do List\"**\n",
    "\n",
    "- Scenario:\n",
    "\n",
    "Imagine you're a project manager juggling multiple tasks each day. You want a simple Python program to help you add, complete, and prioritize tasks. Your goal is to manage your to-do list efficiently, where higher priority tasks always come first, and you can easily update or remove tasks as you go.\n",
    "\n",
    "- Conditions:\n",
    "\n",
    "- **Task List**: You will maintain a list of tasks where each task is a string (e.g., \"Submit project report\").\n",
    "- **Menu Options:**\n",
    "  1. Add a Task: Allow the user to input a task and add it to the list. New tasks are always added at the end of the list.\n",
    "  2. Complete a Task: The user can choose a task by its position number to mark it as complete, and it will be removed from the list.\n",
    "  3. Reprioritize a Task: The user can select a task and change its position in the list to reflect a new priority.\n",
    "  4. Exit: The user can exit the program when they are done.\n",
    "\n",
    "- **Display Tasks**: The current list of tasks should be displayed after every action, with task numbers clearly shown.\n",
    "- **Error Handling**: Ensure that users cannot choose invalid task numbers or positions (e.g., selecting a task that doesn't exist).\n",
    "- **Continuous Menu**: The menu should keep looping until the user chooses to exit.\n",
    "\n",
    "Menu:\n",
    "1. Add Task\n",
    "2. Complete Task\n",
    "3. Reprioritize Task\n",
    "4. Exit"
   ],
   "metadata": {
    "id": "kfDlr8sO-r6r"
   }
  },
  {
   "cell_type": "markdown",
   "source": [
    "### Tuples 📦\n",
    "\n",
    "Tuples are one of the fundamental data structures in Python. They are similar to lists but with one key difference: tuples are **immutable**, meaning their values cannot be changed after they are created. This makes tuples useful in scenarios where you want to ensure that the data remains constant throughout the program.\n",
    "\n",
    "Key Characteristics of Tuples:\n",
    "- Immutable: Once a tuple is created, its elements cannot be changed.\n",
    "- Ordered: Tuples maintain the order of elements, allowing you to access elements by their position (index).\n",
    "- Heterogeneous: Tuples can store different types of data, such as strings, integers, floats, etc.\n",
    "- Parentheses Notation: Tuples are created using parentheses `()` and commas to separate elements.\n",
    "\n",
    "\n",
    "Example of a Tuple:\n",
    "```python\n",
    "# Creating a tuple\n",
    "my_tuple = (10, \"Python\", 3.14, True)\n",
    "print(my_tuple)  # Output: (10, 'Python', 3.14, True)\n",
    "```\n",
    "\n",
    "You can create a tuple with a **single element** putting a comma after it\n",
    "```python\n",
    "my_tuple = (1,)\n",
    "```\n",
    "\n",
    "Main Uses of Tuples\n",
    "\n",
    "- Data Integrity: Since tuples are immutable, they are used to store data that shouldn't be modified. For example, geographical coordinates or fixed configurations can be stored in tuples.\n",
    "- Return Multiple Values from Functions: Tuples are commonly used in Python functions to return more than one value.\n",
    "- Dictionary Keys: Since tuples are hashable, they can be used as keys in dictionaries, while lists cannot be used for this purpose.\n",
    "\n",
    "Accessing Elements in a Tuple\n",
    "\n",
    "Like lists, you can access elements of a tuple using indexing. However, unlike lists, you can't modify or delete elements in a tuple.\n",
    "\n",
    "```python\n",
    "my_tuple = (10, \"Python\", 3.14)\n",
    "\n",
    "# Accessing elements by index\n",
    "print(my_tuple[0])  # Output: 10\n",
    "print(my_tuple[1])  # Output: 'Python'\n",
    "```\n"
   ],
   "metadata": {
    "id": "EW-SP2Fcjkti"
   }
  },
  {
   "cell_type": "markdown",
   "source": [
    "#### Functions and Methods\n",
    "\n",
    "Though tuples are immutable, there are several built-in functions and methods you can use to interact with them:\n",
    "\n",
    "- `len()` Returns the number of elements in a tuple.\n",
    "- `index()` Finds the first occurrence of a specified value in the tuple and returns its index. If the value is not found, it raises a ValueError.\n",
    "- `count()` Counts how many times a specific value occurs in a tuple.\n",
    "- Tuple Packing and Unpacking:  You can pack values into a tuple and unpack them into variables.\n",
    "```python\n",
    "# Packing\n",
    "my_tuple = (\"apple\", \"banana\", \"cherry\")\n",
    "# Unpacking\n",
    "fruit1, fruit2, fruit3 = my_tuple\n",
    "print(fruit1)  # Output: apple\n",
    "print(fruit2)  # Output: banana\n",
    "print(fruit3)  # Output: cherry\n",
    "```\n",
    "- `tuple()` Constructor:\n",
    "You can convert other data structures, like lists, into tuples using it.\n",
    "- Delete the whole tuple using `del`\n",
    "\n",
    "\n",
    "**Immutable Nature of Tuples**\n",
    "\n",
    "Because tuples are immutable, trying to modify or delete individual elements will raise an error. However, you can delete an entire tuple using del.\n",
    "```python\n",
    "# This will raise an error\n",
    "my_tuple = (1, 2, 3)\n",
    "my_tuple[0] = 10  # TypeError: 'tuple' object does not support item assignment\n",
    "```\n"
   ],
   "metadata": {
    "id": "QWc1iqmh0W9S"
   }
  },
  {
   "cell_type": "code",
   "source": [
    "# Feel free to play around with tuples here and experiment!\n",
    "my_tuple = (1, 2, 3, 4)\n",
    "print(len(my_tuple))  # Output: 4\n",
    "\n",
    "my_tuple = (5, 8, 12, 8)\n",
    "print(my_tuple.index(8))  # Output: 1\n",
    "\n",
    "my_tuple = (10, 20, 20, 30)\n",
    "print(my_tuple.count(20))  # Output: 2\n",
    "\n",
    "my_list = [1, 2, 3]\n",
    "my_tuple = tuple(my_list)\n",
    "print(my_tuple)  # Output: (1, 2, 3)\n",
    "\n",
    "# This will raise an error\n",
    "my_tuple = (1, 2, 3)\n",
    "my_tuple[0] = 10  # TypeError: 'tuple' object does not support item assignment\n",
    "\n",
    "# You can delete the whole tuple\n",
    "del my_tuple\n"
   ],
   "metadata": {
    "id": "jZLrO3aZ2A1o"
   },
   "outputs": [],
   "execution_count": null
  },
  {
   "cell_type": "markdown",
   "source": [
    "####🏆 Tuples Challenge\n",
    "\n",
    "**Programming Challenge: Geolocation Distance Calculation**\n",
    "\n",
    "You are tasked with creating a Python function that calculates the distance between two geographical points given their latitude and longitude using the **Haversine formula**.\n",
    "\n",
    "The input will be tuples representing the coordinates of the two locations, and the output should be the distance in kilometers.\n",
    "\n",
    "**Haversine Formula**\n",
    "\n",
    "The Haversine formula calculates the distance \\(d\\) between two points on the surface of a sphere (Earth) given their latitude and longitude:\n",
    "$d = 2r \\arcsin\\left(\\sqrt{\\sin^2\\left(\\frac{\\phi_2 - \\phi_1}{2}\\right) + \\cos(\\phi_1) \\cos(\\phi_2) \\sin^2\\left(\\frac{\\lambda_2 - \\lambda_1}{2}\\right)}\\right)$\n",
    "where:\n",
    "\n",
    "- d is the distance between two points on the surface of a sphere (e.g., Earth)\n",
    "- r is the radius of the sphere (mean radius = 6,371 km)\n",
    "- $\\phi_1$, $\\phi_2$ are the latitudes of point 1 and point 2 (in radians)\n",
    "- $\\lambda_1$, $\\lambda_2$ are the longitudes of point 1 and point 2 (in radians)\n",
    "\n",
    "### Input\n",
    "- Two tuples, each containing the latitude and longitude of a location in decimal degrees:\n",
    "  - `location1 = (latitude1, longitude1)`\n",
    "  - `location2 = (latitude2, longitude2)`\n",
    "\n",
    "### Output\n",
    "- The distance in kilometers between the two locations as a float.\n",
    "\n",
    "**Requirements**\n",
    "1. Define a function named `haversine_distance` that takes two tuples as input.\n",
    "2. Convert degrees to radians using `math.radians()`.\n",
    "3. Calculate the differences in latitude and longitude.\n",
    "4. Implement the Haversine formula to compute the distance.\n",
    "5. Return the computed distance in kilometers.\n",
    "\n",
    "\n",
    "**Example Usage**\n",
    "```\n",
    "location_a = (52.2296756, 21.0122287)  # Warsaw, Poland\n",
    "location_b = (41.8919300, 12.5113300)  # Rome, Italy\n",
    "\n",
    "The distance between Warsaw and Rome is: 1315.51 km\n",
    "```\n",
    "\n",
    "You can use the Google Maps function to measure distance between points to validate your results and to get the latitude and longitude of different locations"
   ],
   "metadata": {
    "id": "KFnyOGQY2khQ"
   }
  },
  {
   "cell_type": "markdown",
   "source": [
    "### Dictionaries 📚\n",
    "\n",
    "In Python, dictionaries are powerful data structures that store **key-value pairs**, making them ideal for real-world applications where quick data retrieval is essential.\n",
    "\n",
    "Dictionaries are highly efficient for lookups, insertions and deletions due to theis underlying hash table implementation, making them ideal for situations where quick access to data via unique key is essential.\n",
    "\n",
    "For instance, you can use dictionaries to represent a contact list, where names serve as keys and phone numbers as values, enabling fast lookups.\n",
    "Other common uses include storing and retrieving data by labels and managing configuration settings.\n",
    "\n",
    "\n",
    "- **Mutability**: Dictionaries in Python are mutable, meaning you can change their content (add, update, or delete entries) without creating a new dictionary.\n",
    "- **Hashing for Efficiency**: Keys in a dictionary are hashed, allowing for constant-time complexity $ \\mathcal{O}(1) $ for basic operations like lookup, insertion, and deletion.\n",
    "- **Key Uniqueness**: Keys must be unique and immutable (e.g., strings, numbers, tuples with immutable elements). Values, however, can be of any data type and can be duplicated.\n"
   ],
   "metadata": {
    "id": "3414Tiapji_S"
   }
  },
  {
   "cell_type": "markdown",
   "source": [
    "We can create a dictionary\n",
    "`alumni_contacts = {}`\n",
    "\n",
    "To create a dictionary with some data\n",
    "```python\n",
    "# Dictionary to store alumni contact information\n",
    "alumni_contacts = {\n",
    "    \"name\":\"John Doe\",\n",
    "    \"phone\": \"555-1234\",\n",
    "    \"email\": \"johndoe@example.com\",\n",
    "    \"graduation_year\": 2023    \n",
    "}\n",
    "```\n",
    "\n",
    "- To access the values use the `[]` notation `alumni_contact[\"name\"]`\n",
    "\n",
    "- To remove a key-value pair we can use the `del` command\n",
    "\n",
    "> In both cases, if the key doesn´t exist in the dictionary an error will be raised.\n",
    "We are going to see in the next section some methods that avoid this error.\n",
    "\n",
    "\n",
    "The keys can be of any inmmutable type like Numeric Values\n",
    "\n",
    "```python\n",
    "# Dictionary with integer product IDs as keys\n",
    "inventory = {\n",
    "    1001: {\"name\": \"Laptop\", \"price\": 1200, \"stock\": 30},\n",
    "    1002: {\"name\": \"Smartphone\", \"price\": 800, \"stock\": 50},\n",
    "    1003: {\"name\": \"Tablet\", \"price\": 450, \"stock\": 25}\n",
    "}\n",
    "\n",
    "# Accessing product information by product ID\n",
    "print(inventory[1001])  # Output: {'name': 'Laptop', 'price': 1200, 'stock': 30}\n",
    "```\n",
    "\n",
    "Or even dates\n",
    "\n",
    "```python\n",
    "from datetime import date\n",
    "\n",
    "# Dictionary with dates as keys\n",
    "sales = {\n",
    "    date(2024, 10, 25): {\"total_sales\": 1000, \"transactions\": 40},\n",
    "    date(2024, 10, 26): {\"total_sales\": 1200, \"transactions\": 45},\n",
    "    date(2024, 10, 27): {\"total_sales\": 900, \"transactions\": 30}\n",
    "}\n",
    "\n",
    "# Accessing sales data for a specific date\n",
    "print(sales[date(2024, 10, 26)])  # Output: {'total_sales': 1200, 'transactions': 45}\n",
    "```"
   ],
   "metadata": {
    "id": "BgS2IW972wLq"
   }
  },
  {
   "cell_type": "code",
   "source": [
    "# Feel free to play around with disctionaries here and experiment!\n"
   ],
   "metadata": {
    "id": "HTkztjJY7xTr"
   },
   "outputs": [],
   "execution_count": null
  },
  {
   "cell_type": "markdown",
   "source": [
    "#### Dictionary Methods\n",
    "- `get(key, default)`: Returns the value for a key if it exists; otherwise, returns a default value.\n",
    "- `keys()`: Returns a view object containing all keys.\n",
    "- `values()`: Returns a view object containing all values.\n",
    "- `items()`: Returns a view object containing (key, value) tuples for iteration.\n",
    "- `update()`: Adds a new key-value pair to the dictionary.\n",
    "-`setdefault()`: Inserts into a dictionary only if the given key isn´t present.\n",
    "- ` pop()` Removes a key-value pair by key. You can also specify a default value to avoid a KeyError if the key doesn’t exist.\n",
    "- `popitem()` Removes and returns the last inserted (key, value) pair as a tuple.\n",
    "- `clear()` Removes all items from the dictionary, leaving it empty.\n",
    "\n",
    "\n",
    "From python 3.5 you can also use the additional unpacking options\n",
    "You can use the {**dict1, **dict2} syntax to merge dictionaries or update values from another dictionary.\n",
    "```python\n",
    "# Two example dictionaries\n",
    "class_grades = {\"Alice\": 85, \"Bob\": 90}\n",
    "extra_grades = {\"Charlie\": 78, \"Alice\": 92}  # Alice's grade will be updated\n",
    "\n",
    "# Merging dictionaries\n",
    "merged_grades = {**class_grades, **extra_grades}\n",
    "print(merged_grades)  # Output: {'Alice': 92, 'Bob': 90, 'Charlie': 78}\n",
    "\n",
    "```\n",
    "\n",
    "You can also use **Dictionary Comprehension** for conditional deletion, to create a new dictionary with only the elements you want to keep.\n",
    "\n",
    "```python\n",
    "# Example dictionary with conditional deletion\n",
    "student_grades = {\"Alice\": 85, \"Bob\": 92, \"Charlie\": 78, \"David\": 65}\n",
    "\n",
    "# Remove entries with grades less than 80\n",
    "student_grades = {k: v for k, v in student_grades.items() if v >= 80}\n",
    "print(student_grades)  # Output: {'Alice': 85, 'Bob': 92}\n",
    "```\n",
    "\n",
    "`{k: v ...}`: This part defines the structure of the new dictionary. Here, `k` is the key (`student name`), and `v` is the value (`grade`)."
   ],
   "metadata": {
    "id": "ZI7xl0y42p2V"
   }
  },
  {
   "cell_type": "code",
   "source": [
    "# Feel free to play around with dictionaries here and experiment!\n",
    "\n",
    "# Example dictionary\n",
    "student_grades = {\"Alice\": 85, \"Bob\": 92}\n",
    "\n",
    "# Get the grade for \"Alice\"\n",
    "print(student_grades.get(\"Alice\", \"No grade\"))  # Output: 85\n",
    "\n",
    "# Try to get the grade for a student not in the dictionary, with a default\n",
    "print(student_grades.get(\"Eve\", \"No grade\"))    # Output: \"No grade\"\n",
    "\n",
    "# Get all keys\n",
    "print(student_grades.keys())  # Output: dict_keys(['Alice', 'Bob'])\n",
    "\n",
    "# Get all values\n",
    "print(student_grades.values())  # Output: dict_values([85, 92])\n",
    "print(list(student_grades.values())) # Output:[85, 92]\n",
    "\n",
    "# Get all key-value pairs as tuples\n",
    "print(student_grades.items())  # Output: dict_items([('Alice', 85), ('Bob', 92)])\n",
    "\n",
    "# Iterating through items\n",
    "for student, grade in student_grades.items():\n",
    "    print(f\"{student}: {grade}\")\n",
    "# Output:\n",
    "# Alice: 85\n",
    "# Bob: 92\n",
    "\n",
    "# Adding a new student\n",
    "student_grades.update({\"Charlie\": 78})\n",
    "print(student_grades)  # Output: {'Alice': 85, 'Bob': 92, 'Charlie': 78}\n",
    "\n",
    "# Updating an existing student's grade\n",
    "student_grades.update({\"Alice\": 90})\n",
    "print(student_grades)  # Output: {'Alice': 90, 'Bob': 92, 'Charlie': 78}\n",
    "\n",
    "# Adding a new key only if it doesn't exist\n",
    "student_grades.setdefault(\"David\", 88)\n",
    "print(student_grades)  # Output: {'Alice': 90, 'Bob': 92, 'Charlie': 78, 'David': 88}\n",
    "\n",
    "# Trying to set a value for an existing key (won't change existing value)\n",
    "student_grades.setdefault(\"Alice\", 95)\n",
    "print(student_grades)  # Output: {'Alice': 90, 'Bob': 92, 'Charlie': 78, 'David': 88}\n",
    "\n",
    "# Removing an entry\n",
    "student_grades.pop(\"Bob\")\n",
    "print(student_grades)  # Output: {'Alice': 90, 'Charlie': 78, 'David': 88}\n",
    "\n",
    "# Removing an entry\n",
    "student_grades.pop(\"Rob\", \"Not Found\")\n",
    "print(student_grades)  # Output: {'Alice': 90, 'Charlie': 78, 'David': 88}\n",
    "\n",
    "# Remove entries with grades less than 80\n",
    "student_grades = {k: v for k, v in student_grades.items() if v >= 80}\n",
    "print(student_grades)  # Output: {'Alice': 85, 'David': 88}\n",
    "\n",
    "# Clear all elements from the dictionary\n",
    "student_grades.clear()\n",
    "print(student_grades)  # Output: {}\n",
    "\n"
   ],
   "metadata": {
    "id": "pcDRLXbV2ojL"
   },
   "outputs": [],
   "execution_count": null
  },
  {
   "cell_type": "markdown",
   "source": [
    "####🏆 Dictionaries Challenge\n",
    "**Word Frequency Counter**\n",
    "\n",
    "Imagine you have a collection of text documents, and you want to understand the most common words used in those documents. This can help in various scenarios such as:\n",
    "\n",
    "- Analyzing customer feedback: Understanding what words are most frequently associated with customer satisfaction or dissatisfaction.\n",
    "- Text summarization: Identifying key topics by analyzing the frequency of words.\n",
    "- Spam detection: Recognizing common words in spam messages versus legitimate emails.\n",
    "\n",
    "Steps to Create a Word Frequency Counter:\n",
    "\n",
    "1. Read the Text: Load the text from a file or a string.\n",
    "2. Normalize the Text: Convert the text to lowercase to ensure that the counting is case-insensitive.\n",
    "3. Remove punctuation characters like `.,!?;:\"()[]{}`and replace them with spaces\n",
    "4. Tokenization: Split the text into individual words (tokens). This can be done by using spaces or punctuation as delimiters.\n",
    "5. Count Frequencies: Use a dictionary to count how many times each word appears.\n",
    "6. Output the Results: Display the word frequencies, which can be sorted or filtered based on specific criteria.\n",
    "\n",
    "- Input: `\"Python is great. Python is dynamic and versatile. Python is widely used for data science, web development, automation, and much more.\"`\n",
    "- Output: `python: 3\n",
    "is: 3\n",
    "great: 1\n",
    "dynamic: 1\n",
    "and: 2\n",
    "versatile: 1\n",
    "widely: 1\n",
    "used: 1\n",
    "for: 1\n",
    "data: 1\n",
    "science: 1\n",
    "web: 1\n",
    "development: 1\n",
    "automation: 1\n",
    "much: 1\n",
    "more: 1\n",
    "`"
   ],
   "metadata": {
    "id": "L4RMJNg-EvfQ"
   }
  },
  {
   "cell_type": "markdown",
   "source": [],
   "metadata": {
    "id": "E530xUzP1WJj"
   }
  },
  {
   "cell_type": "markdown",
   "source": [
    "### Sets ✨\n",
    "\n",
    "In Python, a `set` is an unordered collection of unique elements. It is a built-in data type that is used to store multiple items in a single variable. Sets are particularly useful when you want to ensure that no duplicates are stored, as they automatically handle uniqueness.\n",
    "\n",
    "- **Unordered**: The elements in a set do not have a defined order, and their position can change.\n",
    "- **Mutable**: You can add or remove elements from a set after it has been created.\n",
    "- **Unique Elements**: Sets automatically eliminate duplicate entries, meaning each element must be distinct.\n",
    "- **Dynamic Size**: Sets can grow and shrink in size as you add or remove elements.\n",
    "- **Hashing for Efficiency**: Sets are hashed, allowing for constant-time complexity $ \\mathcal{O}(1) $ for basic operations like add, remove and check.\n",
    "\n",
    "Sets are perfect where the presence or absence of an element is more important than the order or number of occurrences such as managing unique items or eliminating duplicates in a very efficient way.\n",
    "\n",
    "```python\n",
    "# Example: Counting distinct elements in a survey response\n",
    "responses = ['yes', 'no', 'yes', 'maybe', 'no', 'no']\n",
    "\n",
    "# Using a set to count distinct responses\n",
    "distinct_responses = set(responses)\n",
    "print(distinct_responses)  # Output: {'yes', 'no', 'maybe'}\n",
    "```\n",
    "\n",
    "**Creation**\n",
    "\n",
    "You can create a set using curly braces `{}` like `empty_set = {}` or the `set()` function `empty_set = set()`\n",
    "\n",
    "We can initialize a set with a bunch of values. Note how duplicates are removed\n",
    "```python\n",
    "some_set = {1, 1, 2, 2, 3, 4}\n",
    "print(some_set) # Output: {1, 2, 3, 4}\n",
    "```\n",
    "\n",
    "Similar to keys of a dictionary, elements of a set have to be **immutable**\n",
    "\n",
    "```python\n",
    "valid_set = {(1,),1}\n",
    "invalid_set = {[1],1}\n",
    "```"
   ],
   "metadata": {
    "id": "bQSuSzHfkEqT"
   }
  },
  {
   "cell_type": "code",
   "source": [
    "# Feel free to play around with sets here and experiment!\n",
    "\n",
    "valid_set = {[1],1}\n"
   ],
   "metadata": {
    "id": "TC9ePvuAI9dH"
   },
   "outputs": [],
   "execution_count": null
  },
  {
   "cell_type": "markdown",
   "source": [
    "#### Sets Methods\n",
    "\n",
    "- `add()` Adds an element to the set. If the element is already present, it does nothing.\n",
    "- `clear()` Removes all elements from the set, resulting in an empty set.\n",
    "- `copy()` Returns a copy of the set.\n",
    "- `difference()` Returns a new set containing elements in the first set that are not in the second set. You can also use the `-` operator like in `set1 - set2`\n",
    "- `difference_update()` Removes elements from the set that are also present in the specified set.\n",
    "- `discard()` Removes an element from the set if it is present. Does nothing if the element is not found.\n",
    "- `intersection()` Returns a new set containing elements that are common to both sets. You can also use the `&` operator like in `set1 & set2`\n",
    "- `intersection_update()` Updates the set to keep only elements found in both sets.\n",
    "- `isdisjoint()` Returns True if the set has no elements in common with another set; otherwise, False.\n",
    "- `issubset()` Returns True if all elements of the set are in another set. You can also use the `<=` operator like in `set1 <= set2`\n",
    "- `issuperset()` Returns True if the set contains all elements of another set. You can also use the `>=` operator like in `set1 >= set2`\n",
    "- `pop()` Removes and returns an arbitrary element from the set. Raises a KeyError if the set is empty.\n",
    "- `remove()` Removes an element from the set. Raises a KeyError if the element is not found.\n",
    "- `union()` Returns a new set that is the union of two or more sets, containing all unique elements. You can also use the `|` operator like in `set1 | set2`\n",
    "- `update` Updates the set with elements from another set or iterable, adding new elements.\n"
   ],
   "metadata": {
    "id": "-h4WBhzkLKZW"
   }
  },
  {
   "cell_type": "code",
   "source": [
    "# Feel free to play around with sets here and experiment!\n",
    "\n",
    "s = {1, 2, 3}\n",
    "s.add(4)  # Adds 4 to the set\n",
    "print(s)  # Output: {1, 2, 3, 4}\n",
    "s.add(2)  # Adding a duplicate element (no effect)\n",
    "print(s)  # Output: {1, 2, 3, 4}\n",
    "\n",
    "s.clear()  # Clears the set\n",
    "print(s)  # Output: set()\n",
    "\n",
    "s = {1, 2, 3}\n",
    "s_copy = s.copy()  # Creates a copy of the set\n",
    "print(s_copy)  # Output: {1, 2, 3}\n",
    "s_copy.add(4)\n",
    "print(s_copy)  # Output: {1, 2, 3, 4}\n",
    "print(s)  # Output: {1, 2, 3}\n",
    "\n",
    "s1 = {1, 2, 3}\n",
    "s2 = {2, 3, 4}\n",
    "result = s1.difference(s2)  # Elements in s1 not in s2\n",
    "print(result)  # Output: {1}\n",
    "s1.difference_update(s2)  # Updates s1 by removing common elements\n",
    "print(s1)  # Output: {1}\n",
    "\n",
    "s = {1, 2, 3}\n",
    "s.discard(2)  # Removes 2 from the set\n",
    "print(s)  # Output: {1, 3}\n",
    "\n",
    "s1 = {1, 2, 3}\n",
    "s2 = {2, 3, 4}\n",
    "result = s1.intersection(s2)  # Common elements\n",
    "print(result)  # Output: {2, 3}\n",
    "s1.intersection_update(s2)  # Updates s1 to common elements\n",
    "print(s1)  # Output: {2, 3}\n",
    "\n",
    "s1 = {1, 2}\n",
    "s2 = {3, 4}\n",
    "result = s1.isdisjoint(s2)  # Checks for common elements\n",
    "print(result)  # Output: True\n",
    "\n",
    "s1 = {1, 2}\n",
    "s2 = {1, 2, 3}\n",
    "result = s1.issubset(s2)  # Checks if s1 is a subset of s2\n",
    "print(result)  # Output: True\n",
    "\n",
    "s1 = {1, 2, 3}\n",
    "s2 = {1, 2}\n",
    "result = s1.issuperset(s2)  # Checks if s1 is a superset of s2\n",
    "print(result)  # Output: True\n",
    "\n",
    "s = {1, 2, 3}\n",
    "element = s.pop()  # Removes and returns an arbitrary element\n",
    "print(element)  # Output: (may vary, e.g., 1)\n",
    "print(s)  # Output: {2, 3} (remaining elements)\n",
    "\n",
    "s = {1, 2, 3}\n",
    "s.remove(2)  # Removes 2 from the set\n",
    "print(s)  # Output: {1, 3}\n",
    "\n",
    "s1 = {1, 2}\n",
    "s2 = {2, 3}\n",
    "result = s1.union(s2)  # Combines elements from both sets\n",
    "print(result)  # Output: {1, 2, 3}\n",
    "\n",
    "s = {1, 2}\n",
    "s.update([2, 3, 4])  # Adds elements from the iterable\n",
    "print(s)  # Output: {1, 2, 3, 4}\n"
   ],
   "metadata": {
    "id": "lv6a_xHcMCkP"
   },
   "outputs": [],
   "execution_count": null
  },
  {
   "cell_type": "markdown",
   "source": [
    "####🏆 Sets Challenge\n",
    "\n",
    "In a retail or e-commerce business, understanding customer behavior is essential for effective marketing strategies. By segmenting customers based on their purchase history, businesses can tailor their marketing efforts to meet the specific needs of different customer groups. Using sets allows for efficient identification of customers who belong to multiple segments, providing valuable insights for targeted marketing.\n",
    "\n",
    "Steps to Implement Customer Segmentation Using Sets\n",
    "\n",
    "1. **Data Collection**\n",
    "\n",
    "  Gather customer purchase data, which may include details such as customer IDs, product categories purchased, transaction amounts, and dates. For this challenge we are going to use the following categories: Electronics, Clothing, Home\n",
    "\n",
    "2. **Define Customer Segments:**\n",
    "\n",
    "  Create customer segments based on the purchase category\n",
    "Example segments:\n",
    "```python\n",
    "electronics_segment = {\"customer1\", \"customer3\", \"customer5\"}\n",
    "clothing_segment = {\"customer2\", \"customer4\", \"customer5\"}\n",
    "home_segment = {\"customer3\", \"customer4\", \"customer5\"}\n",
    "```\n",
    "\n",
    "3. **Identify Customers in Multiple Segments:**\n",
    "\n",
    "  Use `set` operations to find customers who belong to more than one segment. This is valuable for understanding cross-category interests and behaviors.\n",
    "\n",
    "4. **Analyze the Results:**\n",
    "\n",
    "  Analyze the identified multi-segment customers to understand their buying patterns, preferences, and potential for upselling or cross-selling.\n",
    "  For example, if customer5 is a frequent buyer who purchases in multiple categories, targeted marketing campaigns can include bundled offers that feature both electronics and clothing.\n",
    "\n",
    "5. **Develop Targeted Marketing Strategies:**\n",
    "\n",
    "  Create personalized marketing campaigns based on the identified multi-segment customers. These strategies could include:\n",
    "    - Cross-Promotions: Offer discounts or bundle deals on products from different segments they have shown interest in.\n",
    "    - Loyalty Programs: Provide rewards for customers who purchase across multiple categories, encouraging them to explore more products.\n",
    "    - Personalized Recommendations: Use data analytics to suggest products based on their purchase history across different segments, enhancing the shopping experience.\n",
    "\n",
    "6. **Measure Effectiveness:**\n",
    "\n",
    "After implementing targeted marketing strategies, track the performance and engagement of campaigns to assess their impact on sales and customer loyalty.\n",
    "Use feedback and data analytics to refine segments and marketing tactics for continuous improvement.\n",
    "\n",
    "**Input**\n",
    "\n",
    "```python\n",
    "purchase_history = {\n",
    "    \"customer1\": {\"Electronics\", \"Clothing\"},\n",
    "    \"customer2\": {\"Clothing\"},\n",
    "    \"customer3\": {\"Electronics\", \"Home\"},\n",
    "    \"customer4\": {\"Home\", \"Clothing\"},\n",
    "    \"customer5\": {\"Electronics\", \"Clothing\", \"Home\"},\n",
    "}\n",
    "```\n",
    "\n",
    "**Output**\n",
    "\n",
    "```python\n",
    "Customers in both Electronics and Clothing segments: {'customer1', 'customer5'}\n",
    "Customers in both Clothing and Home segments: {'customer4', 'customer5'}\n",
    "Customers in Electronics, Clothing, and Home segments: {'customer5'}\n",
    "\n",
    "Customers who bought only Clothing: {'customer2'}\n",
    "\n",
    "--- Targeted Marketing Recommendations ---\n",
    "Offer cross-promotion bundle to customer1 for buying Electronics and Clothing\n",
    "Offer cross-promotion bundle to customer5 for buying Electronics and Clothing\n",
    "Suggest new arrivals in both Clothing and Home categories to customer4\n",
    "Suggest new arrivals in both Clothing and Home categories to customer5\n",
    "```"
   ],
   "metadata": {
    "id": "ns58w0iVUKpe"
   }
  },
  {
   "cell_type": "markdown",
   "source": [
    "## Control Flow\n",
    "\n",
    "Control flow is a fundamental concept in programming that allows us to control the order in which our code executes. Imagine building a program to make decisions and handle different scenarios—without control flow, we'd have a very static and rigid program, limited to executing code line by line, regardless of context. Control flow enables us to write dynamic programs that respond to user input, loop over data, or react to different situations.\n",
    "\n",
    "In Python, control flow is achieved through **conditional statements** (like `if`, `elif`, and `else`) and **loops** (`for` and `while`).\n",
    "\n",
    "Let’s walk through these concepts and understand the role they play in writing efficient and responsive code."
   ],
   "metadata": {
    "id": "lSJNjmZ45BZ0"
   }
  },
  {
   "cell_type": "markdown",
   "source": [
    "### Conditional Statements\n",
    "\n",
    "#### If Statements:\n",
    "\n",
    "- 🟢 `if` block: Required. It starts the conditional chain and must have a condition.\n",
    "- ⚪ `elif` blocks: Optional and can be used multiple times. Each elif introduces an additional condition to check if the previous conditions are False.\n",
    "- 🔴 `else` block: Optional and used only once, at the end. It acts as a \"catch-all\" when all previous conditions are False.\n",
    "\n",
    "Example:\n",
    "\n",
    "```python\n",
    "# Prompt the user to enter their score\n",
    "score = int(input(\"Enter your score: \"))\n",
    "\n",
    "# Determine the letter grade based on the score\n",
    "if score >= 90:\n",
    "    grade = \"A\"\n",
    "elif score >= 80:\n",
    "    grade = \"B\"\n",
    "elif score >= 70:\n",
    "    grade = \"C\"\n",
    "elif score >= 60:\n",
    "    grade = \"D\"\n",
    "else:\n",
    "    grade = \"F\"\n",
    "\n",
    "# Display the result\n",
    "print(f\"Your grade is: {grade}\")\n",
    "```\n",
    "\n"
   ],
   "metadata": {
    "id": "mx3YfcaR6GAv"
   }
  },
  {
   "cell_type": "markdown",
   "source": [
    "#### Ternary (Conditional) Operator\n",
    "The ternary operator is a one-line if-else expression for simple conditions.\n",
    "\n",
    "Syntax:\n",
    "`value_if_true if condition else value_if_false`\n",
    "\n",
    "Example:\n",
    "\n",
    "```python\n",
    "score = 85\n",
    "grade = \"Pass\" if score >= 60 else \"Fail\"\n",
    "print(grade)  # Output: Pass\n",
    "```\n",
    "\n"
   ],
   "metadata": {
    "id": "xd85L-jkSppb"
   }
  },
  {
   "cell_type": "markdown",
   "source": [
    "####  Nested `if` Statements\n",
    "You can nest `if` statements to create more granular control over your logic.\n",
    "\n",
    "Example: Advanced Age Check\n",
    "```python\n",
    "age = int(input(\"Enter your age: \"))\n",
    "is_member = True\n",
    "\n",
    "if age >= 18:\n",
    "    print(\"You are an adult.\")\n",
    "    if is_member:\n",
    "        print(\"You have access to premium features.\")\n",
    "    else:\n",
    "        print(\"Access to premium features is only for members.\")\n",
    "else:\n",
    "    print(\"You are a minor. Access denied.\")"
   ],
   "metadata": {
    "id": "TRSrqT-SSstn"
   }
  },
  {
   "cell_type": "code",
   "source": [
    "# Use this to experiment with conditional statements"
   ],
   "metadata": {
    "id": "cKj46Nfa-cMw"
   },
   "outputs": [],
   "execution_count": null
  },
  {
   "cell_type": "markdown",
   "source": [
    "####🏆 Conditional statements Challenge\n",
    "\n",
    "**Data quality**\n",
    "\n",
    "Create a program that checks for missing values in a dataset (represented as a list) and prints whether the dataset is \"Complete\" or \"Incomplete.\" Additionally, it can provide insights on the number of missing values and their indices.\n",
    "\n",
    "Steps to Implement\n",
    "1. **Define the Dataset**: The dataset can be represented as a list, where each element can be a number or None (indicating missing data).\n",
    "\n",
    "2. **Check for Missing Values**: Use conditional statements to determine if any values are missing.\n",
    "\n",
    "3. **Count Missing Values**: Keep track of how many missing values there are and their positions in the dataset.\n",
    "\n",
    "4. **Output Results**: Print the status of the dataset (complete or incomplete), the number of missing values, and their indices if any.\n",
    "\n",
    "Input\n",
    "```python\n",
    "# Example dataset\n",
    "data = [1, 2, None, 4, 5, None, 7]\n",
    "```\n",
    "\n",
    "Output\n",
    "```python\n",
    "Data Quality Status: Incomplete\n",
    "Number of Missing Values: 2\n",
    "Indices of Missing Values: [2, 5]\n",
    "```"
   ],
   "metadata": {
    "id": "e14La-q2QHBC"
   }
  },
  {
   "cell_type": "markdown",
   "source": [
    "### Boolean Expressions and Operators"
   ],
   "metadata": {
    "id": "AzRhjzibS3QW"
   }
  },
  {
   "cell_type": "markdown",
   "source": [
    "#### Comparison operators\n",
    "\n",
    "| Operator | Meaning                    | Example  | Output |\n",
    "|----------|-----------------------------|----------|--------|\n",
    "| `==`     | Equal to                   | `5 == 5` | `True` |\n",
    "| `!=`     | Not equal to               | `5 != 3` | `True` |\n",
    "| `<`      | Less than                  | `3 < 5`  | `True` |\n",
    "| `>`      | Greater than               | `5 > 3`  | `True` |\n",
    "| `<=`     | Less than or equal to      | `5 <= 5` | `True` |\n",
    "| `>=`     | Greater than or equal to   | `5 >= 3` | `True` |\n",
    "\n",
    "It is possible to chain comparison operators for example to check if a value is in range `2 < x < 7`\n",
    "\n",
    "`is` vs `==`\n",
    "Don´t use the equality symbol `==`to compare objects to None. Use `is`instead. This checks for equality of object identity\n",
    "```python\n",
    "a = [1, 2, 3, 4]\n",
    "b = [1, 2, 3, 4]\n",
    "print(a is b) # Output: False\n",
    "print(a == b) # Output: True\n",
    "```\n",
    "\n",
    "\n",
    "\n"
   ],
   "metadata": {
    "id": "oviOvAAy-YWo"
   }
  },
  {
   "cell_type": "markdown",
   "source": [
    "#### Logical operators\n",
    "\n",
    "Logical operators allow us to combine multiple Boolean expressions. Python has three logical operators: and, or, and not.\n",
    "\n",
    "| Operator | Description                          | Example                           | Output  |\n",
    "|----------|--------------------------------------|-----------------------------------|---------|\n",
    "| `and`    | True if both expressions are True    | `(age > 18) and (age < 25)`      | `True`  |\n",
    "| `or`     | True if at least one expression is True | `(age < 18) or (age == 20)`    | `True`  |\n",
    "| `not`    | Inverts the Boolean value            | `not (age == 20)`                | `False` |\n",
    "\n",
    "`None`, 0 and empty strings, lists, dictionaries, tuples or sets evaluate to `False`\n",
    "```python\n",
    "bool(0) or bool(\"\") or bool([]) or bool({}) or bool(()) or bool(set())\n",
    "# False\n",
    "```\n",
    "All other values are `True`\n",
    "\n",
    "\n"
   ],
   "metadata": {
    "id": "LbPVkbGnTBKQ"
   }
  },
  {
   "cell_type": "markdown",
   "source": [
    "#### Boolean Expressions in List Comprehensions\n",
    "Logical operators and Boolean expressions can be used within list comprehensions to filter data.\n",
    "\n",
    "Example: Filtering Out Even Numbers\n",
    "\n",
    "```python\n",
    "numbers = [1, 2, 3, 4, 5, 6, 7, 8, 9]\n",
    "even_numbers = [num for num in numbers if num % 2 == 0]\n",
    "\n",
    "print(even_numbers)  # Output: [2, 4, 6, 8]\n",
    "```\n",
    "\n"
   ],
   "metadata": {
    "id": "b1g3MzF7TO2_"
   }
  },
  {
   "cell_type": "markdown",
   "source": [
    "#### Nested Boolean Expressions\n",
    "You can also use nested Boolean expressions for complex conditions. For example, you might want to check multiple conditions within an if statement.\n",
    "\n",
    "Example: Admission Eligibility Based on Age, GPA, and Test Score\n",
    "\n",
    "```python\n",
    "age = 19\n",
    "gpa = 3.7\n",
    "test_score = 85\n",
    "\n",
    "if (age >= 18 and gpa >= 3.5) or test_score > 80:\n",
    "    print(\"You are eligible for admission.\")\n",
    "else:\n",
    "    print(\"You are not eligible for admission.\")\n",
    "```\n",
    "\n",
    "In this example, there are two main conditions:\n",
    "The applicant must be at least 18 years old and have a GPA of 3.5 or higher.\n",
    "Alternatively, if their test score is above 80, they are also eligible.\n",
    "\n"
   ],
   "metadata": {
    "id": "kl-lyHC2TLFp"
   }
  },
  {
   "cell_type": "markdown",
   "source": [
    "#### Using `any()` and `all()` with Boolean Expressions\n",
    "Python provides built-in functions `any()` and `all()` that work with iterables of Boolean expressions.\n",
    "\n",
    "- `any(iterable)`: Returns True if at least one item in the iterable is True.\n",
    "- `all(iterable)`: Returns True only if all items in the iterable are True.\n",
    "\n",
    "Example: Checking for Multiple Conditions with `any()` and `all()`\n",
    "\n",
    "```python\n",
    "scores = [75, 85, 90]\n",
    "requirements_met = [score >= 70 for score in scores]\n",
    "\n",
    "# Check if all scores are 70 or higher\n",
    "if all(requirements_met):\n",
    "    print(\"All scores meet the requirements.\")\n",
    "else:\n",
    "    print(\"Not all scores meet the requirements.\")\n",
    "\n",
    "# Check if at least one score meets the requirement\n",
    "if any(requirements_met):\n",
    "    print(\"At least one score meets the requirement.\")\n",
    "else:\n",
    "    print(\"No scores meet the requirement.\")\n",
    "In this example:\n",
    "\n",
    "all(requirements_met) checks if all scores are 70 or higher.\n",
    "any(requirements_met) checks if at least one score is 70 or higher.\n",
    "```"
   ],
   "metadata": {
    "id": "OltuXUPgTE2B"
   }
  },
  {
   "cell_type": "code",
   "source": [
    "# Placeholder to experiment with boolean expressions and operators"
   ],
   "metadata": {
    "id": "-2WBpB7TCIQp"
   },
   "outputs": [],
   "execution_count": null
  },
  {
   "cell_type": "markdown",
   "source": [
    "#### 🏆 Boolean Expressions and Operators Challenge\n",
    "\n",
    "**Sentiment Analysis Challenge**\n",
    "\n",
    "Write a function that classifies a customer review into three categories (Positive, Negative, or Neutral) based on predefined lists of keywords. This challenge can be extended to include more sophisticated analysis later on, but we'll start with a simple keyword-based approach.\n",
    "\n",
    "Steps to Implement\n",
    "1. **Define the Keywords**: Create lists of keywords that are associated with positive and negative sentiments.\n",
    "\n",
    "```python\n",
    "positive_keywords = [\"good\", \"great\", \"excellent\", \"love\", \"amazing\", \"fantastic\", \"happy\", \"satisfied\"]\n",
    "negative_keywords = [\"bad\", \"terrible\", \"hate\", \"awful\", \"disappointed\", \"poor\", \"worst\", \"sad\"]\n",
    "```\n",
    "\n",
    "\n",
    "2. **Review Classification Logic**: Write a function that checks if any of the keywords from either list are present in the review text.\n",
    "\n",
    "3. **Return Sentiment**: Based on the presence of keywords, return the sentiment category.\n",
    "\n",
    "User Input: Allow users to input their own reviews to classify them.\n",
    "\n",
    "Output\n",
    "```python\n",
    "Review: \"I love this product! It's amazing and works great.\" -> Sentiment: Positive\n",
    "Review: \"This is the worst experience I've ever had. I'm so disappointed!\" -> Sentiment: Negative\n",
    "Review: \"It's okay, nothing special.\" -> Sentiment: Neutral\n",
    "Review: \"Absolutely fantastic! I'm very happy with my purchase.\" -> Sentiment: Positive\n",
    "Review: \"Bad service, would not recommend.\" -> Sentiment: Negative\n",
    "```"
   ],
   "metadata": {
    "id": "6dj5QIFQTaxf"
   }
  },
  {
   "cell_type": "markdown",
   "source": [
    "### Loops in Python 🔁\n",
    "\n",
    "\n"
   ],
   "metadata": {
    "id": "edmvEQRUCMZH"
   }
  },
  {
   "cell_type": "markdown",
   "source": [
    "#### `for` loops\n",
    "\n",
    "The basic syntax for a for loop in Python is:\n",
    "\n",
    "```python\n",
    "for item in iterable:\n",
    "    # Code block to execute for each item\n",
    "```\n",
    "- **item**: This is a variable that takes the value of the current item in the iteration.\n",
    "- **iterable**: This can be any sequence (like a list, tuple, string) or any object that can return its elements one at a time.\n",
    "\n"
   ],
   "metadata": {
    "id": "1jA7laqPM3Wj"
   }
  },
  {
   "cell_type": "markdown",
   "source": [
    "##### **Iterating over a List**\n",
    "\n",
    "```python\n",
    "numbers = [1, 2, 3, 4, 5]\n",
    "\n",
    "for num in numbers:\n",
    "    print(num)\n",
    "# Output:\n",
    "# 1\n",
    "# 2\n",
    "# 3\n",
    "# 4\n",
    "# 5\n",
    "\n",
    "```\n",
    "\n"
   ],
   "metadata": {
    "id": "VZGFe4W9Viz5"
   }
  },
  {
   "cell_type": "markdown",
   "source": [
    "##### **Iterating over a String**\n",
    "You can also use a for loop to iterate through a string:\n",
    "The loop iterates through each character in the string word.\n",
    "\n",
    "```python\n",
    "word = \"Hello\"\n",
    "\n",
    "for letter in word:\n",
    "    print(letter)\n",
    "# Output:\n",
    "# H\n",
    "# e\n",
    "# l\n",
    "# l\n",
    "# o\n",
    "```\n"
   ],
   "metadata": {
    "id": "43CyyXKhWWkR"
   }
  },
  {
   "cell_type": "markdown",
   "source": [
    "##### **Using the `range()` Function**\n",
    "\n",
    "The `range()` function is often used with for loops to generate a sequence of numbers.\n",
    "The `range(5)` function generates numbers from 0 to 4.\n",
    "\n",
    "```python\n",
    "for i in range(5):\n",
    "    print(i)\n",
    "# Output:\n",
    "# 0\n",
    "# 1\n",
    "# 2\n",
    "# 3\n",
    "# 4\n",
    "```\n",
    "\n",
    "You can also specify a starting point and a step:\n",
    "\n",
    "```python\n",
    "# Here, range(1, 10, 2) starts at 1, stops before 10, and increments by 2.\n",
    "for i in range(1, 10, 2):\n",
    "    print(i)\n",
    "# Output:\n",
    "# 1\n",
    "# 3\n",
    "# 5\n",
    "# 7\n",
    "# 9\n",
    "```"
   ],
   "metadata": {
    "id": "pqEiJjd2WRjm"
   }
  },
  {
   "cell_type": "markdown",
   "source": [
    "##### **Iterating Over Dictionaries**\n",
    "\n",
    "When iterating over a dictionary, you can use `.items()`, `.keys()`, or `.values()` methods.\n",
    "\n",
    "```python\n",
    "student_scores = {\n",
    "    \"Alice\": 90,\n",
    "    \"Bob\": 85,\n",
    "    \"Charlie\": 92\n",
    "}\n",
    "\n",
    "for student, score in student_scores.items():\n",
    "    print(f\"{student}: {score}\")\n",
    "```\n",
    "The loop iterates over each key-value pair in the dictionary.\n",
    "student takes the key (student's name), and score takes the corresponding value."
   ],
   "metadata": {
    "id": "LmioJahtWLBV"
   }
  },
  {
   "cell_type": "markdown",
   "source": [
    "##### **Using break and continue Statements**\n",
    "\n",
    "You can control the flow of a for loop using the `break` and `continue` statements.\n",
    "\n",
    "- `break`: Exits the loop prematurely.\n",
    "- `continue`: Skips the current iteration and proceeds to the next iteration.\n",
    "```python\n",
    "for num in range(10):\n",
    "    if num == 5:\n",
    "        break  # Exit the loop when num is 5\n",
    "    print(num)\n",
    "# Output:\n",
    "# 0\n",
    "# 1\n",
    "# 2\n",
    "# 3\n",
    "# 4\n",
    "```\n",
    "\n",
    "Example: Using continue\n",
    "```python\n",
    "for num in range(10):\n",
    "    if num % 2 == 0:\n",
    "        continue  # Skip even numbers\n",
    "    print(num)\n",
    "# Output\n",
    "# 1\n",
    "# 3\n",
    "# 5\n",
    "# 7\n",
    "# 9\n",
    "```\n"
   ],
   "metadata": {
    "id": "ZeqxsfDxWE3L"
   }
  },
  {
   "cell_type": "markdown",
   "source": [
    "##### **Nested For Loops**\n",
    "\n",
    "You can nest for loops inside other for loops to iterate over multi-dimensional data structures.\n",
    "\n",
    "```python\n",
    "for i in range(3):       # Outer loop\n",
    "    for j in range(2):   # Inner loop\n",
    "        print(f\"i={i}, j={j}\")\n",
    "```\n"
   ],
   "metadata": {
    "id": "z988mKWJVrvh"
   }
  },
  {
   "cell_type": "markdown",
   "source": [
    "##### **List Comprehensions**\n",
    "\n",
    "A more concise way to create lists using for loops is through list\n",
    "\n",
    "```python\n",
    "squares = [x**2 for x in range(10)]\n",
    "print(squares)\n",
    "# Output [0, 1, 4, 9, 16, 25, 36, 49, 64, 81]\n",
    "```\n"
   ],
   "metadata": {
    "id": "7cmlarGUVmQG"
   }
  },
  {
   "cell_type": "markdown",
   "source": [
    "#### `while` loops\n",
    "\n",
    "A while loop in Python is a control flow statement that repeatedly executes a block of code as long as a specified condition evaluates to True. This makes while loops ideal for situations where the number of iterations is not known beforehand and depends on dynamic conditions during runtime.\n",
    "\n",
    "**Basic Syntax of While Loops**\n",
    "\n",
    "```python\n",
    "while condition:\n",
    "    # Code block to execute while the condition is True\n",
    "```\n",
    "- condition: This is a Boolean expression that is evaluated before each iteration. If it evaluates to True, the loop continues; if it evaluates to False, the loop ends.\n",
    "\n",
    "\n",
    "Here’s a simple example of a while loop that prints numbers from 1 to 5:\n",
    "\n",
    "```python\n",
    "count = 1\n",
    "\n",
    "while count <= 5:\n",
    "    print(count)\n",
    "    count += 1  # Increment count to avoid infinite loop\n",
    "```\n",
    "\n",
    "\n"
   ],
   "metadata": {
    "id": "_WcGWrBGMwVV"
   }
  },
  {
   "cell_type": "markdown",
   "source": [
    "##### **Infinite Loops**\n",
    "\n",
    "A while loop can create an infinite loop if the condition never becomes False. This can happen if the loop doesn't have a proper exit strategy.\n",
    "\n",
    "Example of an Infinite Loop\n",
    "```python\n",
    "while True:\n",
    "    print(\"This will print forever!\")\n",
    "```\n",
    "\n",
    "To stop an infinite loop in practice, you can use keyboard interrupts (like Ctrl+C in many environments), but it is crucial to ensure your loop has a condition that eventually evaluates to False to avoid this situation.\n",
    "You can control the flow of a while loop using the `break` and `continue` statements in the same way as with `for` loops\n",
    "\n",
    "```python\n",
    "secret_number = random.randint(1, 10)  # Random number between 1 and 10\n",
    "guess = 0\n",
    "\n",
    "while guess != secret_number:\n",
    "    guess = int(input(\"Guess a number between 1 and 10: \"))\n",
    "    if guess < secret_number:\n",
    "        print(\"Too low! Try again.\")\n",
    "    elif guess > secret_number:\n",
    "        print(\"Too high! Try again.\")\n",
    "    else:\n",
    "        print(\"Congratulations! You've guessed the right number.\")\n",
    "```\n"
   ],
   "metadata": {
    "id": "o3MyfbNKWqC7"
   }
  },
  {
   "cell_type": "code",
   "source": [
    "# Use this placeholder to experiment with loops"
   ],
   "metadata": {
    "id": "aauvjws0OkSg"
   },
   "outputs": [],
   "execution_count": null
  },
  {
   "cell_type": "markdown",
   "source": [
    "####🏆 Loops challenge\n",
    "\n",
    "**Cumulative Sum Challenge**\n",
    "\n",
    "Write a program that computes the cumulative sum of a list of numbers. The cumulative sum is a sequence of partial sums of a given data sequence, where each element in the resulting list is the sum of all previous elements, including the current one.\n",
    "\n",
    "This concept is often used in data analytics to analyze trends over time or to create running totals.\n",
    "\n",
    "Steps to Implement\n",
    "1. **Initialize a New List**: Create an empty list to hold the cumulative sums.\n",
    "\n",
    "2. **Loop Through the Data**: Use a while loop (or a for loop) to iterate through the original list of numbers.\n",
    "\n",
    "3. **Calculate Cumulative Sums**: For each number in the list, add it to a running total and append this total to the cumulative sums list.\n",
    "\n",
    "4. **Return the Result** **bold text**: Output the list of cumulative sums.\n",
    "\n",
    "Input\n",
    "```python\n",
    "Monthly Sales: [2000, 2500, 3000, 2200, 2700, 3100, 4000, 3500, 3300, 3700, 4500, 5000]\n",
    "```\n",
    "Output\n",
    "\n",
    "```python\n",
    "Cumulative Sales: [2000, 4500, 7500, 9700, 12400, 15500, 19500, 23000, 26300, 30000, 34500, 39500]\n",
    "```"
   ],
   "metadata": {
    "id": "bF7txitLXeN0"
   }
  },
  {
   "cell_type": "markdown",
   "source": [
    "### Exception Handling ❗\n",
    "\n",
    "Handling exceptions in Python is essential for writing robust and error-resistant code.\n",
    "You can manage exceptions using the `try`, `except`, `else`, and `finally` blocks.\n",
    "\n",
    "```python\n",
    "try:\n",
    "    # # Code that may raise an exception\n",
    "    x = int(input(\"Please enter a number: \"))\n",
    "    print(f\"You entered: {x}\")\n",
    "except ValueError as e:\n",
    "    # Code that runs if the exception occurs\n",
    "    print(\"That's not a valid number! Please try again.\")\n",
    "\n",
    "```\n",
    "\n",
    "- `try`: This block contains the code that might throw an exception.\n",
    "- `except`: This block is executed if an exception occurs in the try block.\n",
    "You can specify the type of exception to catch (e.g., ValueError, TypeError).\n",
    "You can also catch multiple exceptions or use a general exception.\n",
    "- `else` (optional): This block runs if no exceptions are raised in the try block.\n",
    "- `finally` (optional): This block will execute regardless of whether an exception occurred, typically used for cleanup actions.\n",
    "\n",
    "```python\n",
    "try:\n",
    "    num1 = int(input(\"Enter the first number: \"))\n",
    "    num2 = int(input(\"Enter the second number: \"))\n",
    "    result = num1 / num2\n",
    "except ZeroDivisionError as e:\n",
    "    print(\"Error: Cannot divide by zero.\")\n",
    "except ValueError as e:\n",
    "    print(\"Error: Invalid input. Please enter numbers.\")\n",
    "else:\n",
    "    print(f\"The result is: {result}\")\n",
    "finally:\n",
    "    print(\"Execution completed.\")\n",
    "```"
   ],
   "metadata": {
    "id": "J-F0k9UWZChD"
   }
  },
  {
   "cell_type": "markdown",
   "source": [
    "#### Catching Multiple Exceptions\n",
    "You can handle multiple exceptions in one except block:\n",
    "\n",
    "```python\n",
    "try:\n",
    "    value = int(input(\"Enter a number: \"))\n",
    "    print(10 / value)\n",
    "except (ValueError, ZeroDivisionError) as e:\n",
    "    print(f\"An error occurred: {e}\")\n",
    "```"
   ],
   "metadata": {
    "id": "GunzUN2wbUJB"
   }
  },
  {
   "cell_type": "markdown",
   "source": [
    "#### Use logging for error handling\n",
    "\n",
    "Use logging for error handling in production code to keep track of exceptions.\n",
    "\n"
   ],
   "metadata": {
    "id": "2cj1YpaEcCYe"
   }
  },
  {
   "cell_type": "code",
   "source": [
    "import logging\n",
    "\n",
    "# Configure the logging system\n",
    "logging.basicConfig(\n",
    "    filename='app.log',           # Log file location\n",
    "    filemode='a',                 # Append mode\n",
    "    format='%(asctime)s - %(levelname)s - %(message)s',  # Log message format\n",
    "    level=logging.ERROR           # Set the logging level to ERROR\n",
    ")\n",
    "\n",
    "def divide_numbers(num1, num2):\n",
    "    try:\n",
    "        result = num1 / num2\n",
    "    except ZeroDivisionError as e:\n",
    "        logging.error(\"Attempted to divide by zero: %s\", e)\n",
    "        return None\n",
    "    except TypeError as e:\n",
    "        logging.error(\"Invalid input type: %s\", e)\n",
    "        return None\n",
    "    else:\n",
    "        return result\n",
    "\n",
    "# Example usage\n",
    "if __name__ == \"__main__\":\n",
    "    print(divide_numbers(10, 2))  # Should print 5.0\n",
    "    print(divide_numbers(10, 0))   # Logs an error for division by zero\n",
    "    print(divide_numbers(10, 'a')) # Logs an error for invalid type\n"
   ],
   "metadata": {
    "id": "yIy_SUh-cDL5"
   },
   "outputs": [],
   "execution_count": null
  },
  {
   "cell_type": "markdown",
   "source": [
    "#### Best practices\n",
    "\n",
    "- Catch specific exceptions instead of a general exception to avoid masking other issues.\n",
    "- Use logging for error handling in production code to keep track of exceptions.\n",
    "- Don’t use bare except: as it can catch unexpected exceptions, making debugging difficult."
   ],
   "metadata": {
    "id": "0Ezg8S3mbI3O"
   }
  }
 ]
}
